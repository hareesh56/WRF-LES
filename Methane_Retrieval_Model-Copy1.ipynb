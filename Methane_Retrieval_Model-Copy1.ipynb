{
 "cells": [
  {
   "cell_type": "markdown",
   "id": "bcee9432-31ad-47d6-9b49-b5745321b433",
   "metadata": {},
   "source": [
    "# **Import Parameters**"
   ]
  },
  {
   "cell_type": "code",
   "execution_count": 1,
   "id": "7921de94",
   "metadata": {},
   "outputs": [],
   "source": [
    "# Modules\n",
    "import geemap\n",
    "import ee\n",
    "import numpy\n",
    "import matplotlib.pyplot as plt\n",
    "import folium\n",
    "import IPython.display as disp"
   ]
  },
  {
   "cell_type": "code",
   "execution_count": 2,
   "id": "8a88ad58",
   "metadata": {
    "tags": []
   },
   "outputs": [
    {
     "data": {
      "text/html": [
       "\n",
       "            <style>\n",
       "                .geemap-dark {\n",
       "                    --jp-widgets-color: white;\n",
       "                    --jp-widgets-label-color: white;\n",
       "                    --jp-ui-font-color1: white;\n",
       "                    --jp-layout-color2: #454545;\n",
       "                    background-color: #383838;\n",
       "                }\n",
       "                    \n",
       "                .geemap-dark .jupyter-button {\n",
       "                    --jp-layout-color3: #383838;\n",
       "                }\n",
       "                \n",
       "                .geemap-colab {\n",
       "                    background-color: var(--colab-primary-surface-color, white);\n",
       "                }\n",
       "                    \n",
       "                .geemap-colab .jupyter-button {\n",
       "                    --jp-layout-color3: var(--colab-primary-surface-color, white);\n",
       "                }\n",
       "            </style>\n",
       "            "
      ],
      "text/plain": [
       "<IPython.core.display.HTML object>"
      ]
     },
     "metadata": {},
     "output_type": "display_data"
    }
   ],
   "source": [
    "# Initiate the library\n",
    "ee.Initialize()"
   ]
  },
  {
   "cell_type": "code",
   "execution_count": 3,
   "id": "15d79f85",
   "metadata": {},
   "outputs": [
    {
     "data": {
      "text/html": [
       "\n",
       "            <style>\n",
       "                .geemap-dark {\n",
       "                    --jp-widgets-color: white;\n",
       "                    --jp-widgets-label-color: white;\n",
       "                    --jp-ui-font-color1: white;\n",
       "                    --jp-layout-color2: #454545;\n",
       "                    background-color: #383838;\n",
       "                }\n",
       "                    \n",
       "                .geemap-dark .jupyter-button {\n",
       "                    --jp-layout-color3: #383838;\n",
       "                }\n",
       "                \n",
       "                .geemap-colab {\n",
       "                    background-color: var(--colab-primary-surface-color, white);\n",
       "                }\n",
       "                    \n",
       "                .geemap-colab .jupyter-button {\n",
       "                    --jp-layout-color3: var(--colab-primary-surface-color, white);\n",
       "                }\n",
       "            </style>\n",
       "            "
      ],
      "text/plain": [
       "<IPython.core.display.HTML object>"
      ]
     },
     "metadata": {},
     "output_type": "display_data"
    },
    {
     "data": {
      "text/plain": [
       "True"
      ]
     },
     "execution_count": 3,
     "metadata": {},
     "output_type": "execute_result"
    }
   ],
   "source": [
    "# Authenticate Earth Engine\n",
    "ee.Authenticate()"
   ]
  },
  {
   "cell_type": "code",
   "execution_count": 4,
   "id": "e137ae09",
   "metadata": {},
   "outputs": [
    {
     "data": {
      "text/html": [
       "\n",
       "            <style>\n",
       "                .geemap-dark {\n",
       "                    --jp-widgets-color: white;\n",
       "                    --jp-widgets-label-color: white;\n",
       "                    --jp-ui-font-color1: white;\n",
       "                    --jp-layout-color2: #454545;\n",
       "                    background-color: #383838;\n",
       "                }\n",
       "                    \n",
       "                .geemap-dark .jupyter-button {\n",
       "                    --jp-layout-color3: #383838;\n",
       "                }\n",
       "                \n",
       "                .geemap-colab {\n",
       "                    background-color: var(--colab-primary-surface-color, white);\n",
       "                }\n",
       "                    \n",
       "                .geemap-colab .jupyter-button {\n",
       "                    --jp-layout-color3: var(--colab-primary-surface-color, white);\n",
       "                }\n",
       "            </style>\n",
       "            "
      ],
      "text/plain": [
       "<IPython.core.display.HTML object>"
      ]
     },
     "metadata": {},
     "output_type": "display_data"
    }
   ],
   "source": [
    "# Define a method for displaying Earth Engine image tiles to folium map.\n",
    "def add_ee_layer(self, ee_image_object, vis_params, name):\n",
    "  map_id_dict = ee.Image(ee_image_object).getMapId(vis_params)\n",
    "  folium.raster_layers.TileLayer(\n",
    "    tiles = map_id_dict['tile_fetcher'].url_format,\n",
    "    attr = 'Map Data &copy; <a href=\"https://earthengine.google.com/\">Google Earth Engine</a>',\n",
    "    name = name,\n",
    "    overlay = True,\n",
    "    control = True\n",
    "  ).add_to(self)\n",
    "\n",
    "# Add EE drawing method to folium.\n",
    "folium.Map.add_ee_layer = add_ee_layer"
   ]
  },
  {
   "cell_type": "code",
   "execution_count": 5,
   "id": "9fe80d12-d3e6-4b16-b670-1a07b8ab860b",
   "metadata": {},
   "outputs": [
    {
     "data": {
      "text/html": [
       "\n",
       "            <style>\n",
       "                .geemap-dark {\n",
       "                    --jp-widgets-color: white;\n",
       "                    --jp-widgets-label-color: white;\n",
       "                    --jp-ui-font-color1: white;\n",
       "                    --jp-layout-color2: #454545;\n",
       "                    background-color: #383838;\n",
       "                }\n",
       "                    \n",
       "                .geemap-dark .jupyter-button {\n",
       "                    --jp-layout-color3: #383838;\n",
       "                }\n",
       "                \n",
       "                .geemap-colab {\n",
       "                    background-color: var(--colab-primary-surface-color, white);\n",
       "                }\n",
       "                    \n",
       "                .geemap-colab .jupyter-button {\n",
       "                    --jp-layout-color3: var(--colab-primary-surface-color, white);\n",
       "                }\n",
       "            </style>\n",
       "            "
      ],
      "text/plain": [
       "<IPython.core.display.HTML object>"
      ]
     },
     "metadata": {},
     "output_type": "display_data"
    }
   ],
   "source": [
    "geoJSON = {\n",
    "  \"type\": \"FeatureCollection\",\n",
    "  \"features\": [\n",
    "    {\n",
    "      \"type\": \"Feature\",\n",
    "      \"properties\": {},\n",
    "      \"geometry\": {\n",
    "        \"coordinates\": [\n",
    "          [\n",
    "            [\n",
    "              130.90080779641522,\n",
    "              -12.506544445458758\n",
    "            ],\n",
    "            [\n",
    "              130.90080779641522,\n",
    "              -12.53914682181454\n",
    "            ],\n",
    "            [\n",
    "              130.936907602198,\n",
    "              -12.53914682181454\n",
    "            ],\n",
    "            [\n",
    "              130.936907602198,\n",
    "              -12.506544445458758\n",
    "            ],\n",
    "            [\n",
    "              130.90080779641522,\n",
    "              -12.506544445458758\n",
    "            ]\n",
    "          ]\n",
    "        ],\n",
    "        \"type\": \"Polygon\"\n",
    "      }\n",
    "    }\n",
    "  ]\n",
    "}"
   ]
  },
  {
   "cell_type": "code",
   "execution_count": 6,
   "id": "2f1c2d4f-0cbf-4934-b306-ddb2aa86e73f",
   "metadata": {
    "tags": []
   },
   "outputs": [
    {
     "data": {
      "text/html": [
       "\n",
       "            <style>\n",
       "                .geemap-dark {\n",
       "                    --jp-widgets-color: white;\n",
       "                    --jp-widgets-label-color: white;\n",
       "                    --jp-ui-font-color1: white;\n",
       "                    --jp-layout-color2: #454545;\n",
       "                    background-color: #383838;\n",
       "                }\n",
       "                    \n",
       "                .geemap-dark .jupyter-button {\n",
       "                    --jp-layout-color3: #383838;\n",
       "                }\n",
       "                \n",
       "                .geemap-colab {\n",
       "                    background-color: var(--colab-primary-surface-color, white);\n",
       "                }\n",
       "                    \n",
       "                .geemap-colab .jupyter-button {\n",
       "                    --jp-layout-color3: var(--colab-primary-surface-color, white);\n",
       "                }\n",
       "            </style>\n",
       "            "
      ],
      "text/plain": [
       "<IPython.core.display.HTML object>"
      ]
     },
     "metadata": {},
     "output_type": "display_data"
    }
   ],
   "source": [
    "coords = geoJSON['features'][0]['geometry']['coordinates']\n",
    "AOI = ee.Geometry.Polygon(coords)"
   ]
  },
  {
   "cell_type": "code",
   "execution_count": 7,
   "id": "4a1fbe03",
   "metadata": {},
   "outputs": [
    {
     "data": {
      "text/html": [
       "\n",
       "            <style>\n",
       "                .geemap-dark {\n",
       "                    --jp-widgets-color: white;\n",
       "                    --jp-widgets-label-color: white;\n",
       "                    --jp-ui-font-color1: white;\n",
       "                    --jp-layout-color2: #454545;\n",
       "                    background-color: #383838;\n",
       "                }\n",
       "                    \n",
       "                .geemap-dark .jupyter-button {\n",
       "                    --jp-layout-color3: #383838;\n",
       "                }\n",
       "                \n",
       "                .geemap-colab {\n",
       "                    background-color: var(--colab-primary-surface-color, white);\n",
       "                }\n",
       "                    \n",
       "                .geemap-colab .jupyter-button {\n",
       "                    --jp-layout-color3: var(--colab-primary-surface-color, white);\n",
       "                }\n",
       "            </style>\n",
       "            "
      ],
      "text/plain": [
       "<IPython.core.display.HTML object>"
      ]
     },
     "metadata": {},
     "output_type": "display_data"
    }
   ],
   "source": [
    "#Region = ee.Geometry.Rectangle(114.954250, -21.665954, 115.049694, -21.732942)\n",
    "# 116.782751, -20.582106, 116.759662, -20.599863 # Karratha\n",
    "# 114.954250, -21.665954, 115.049694, -21.732942 # Chevron\n",
    "# 130.930221, -12.503906, 130.878643, -12.576560 # Darwin\n",
    "# Define date range\n",
    "start_date = '2023-10-26'\n",
    "end_date = '2023-10-27'"
   ]
  },
  {
   "cell_type": "code",
   "execution_count": 8,
   "id": "0642c307-ab2f-4f26-8f91-246a58468d39",
   "metadata": {},
   "outputs": [
    {
     "data": {
      "text/html": [
       "\n",
       "            <style>\n",
       "                .geemap-dark {\n",
       "                    --jp-widgets-color: white;\n",
       "                    --jp-widgets-label-color: white;\n",
       "                    --jp-ui-font-color1: white;\n",
       "                    --jp-layout-color2: #454545;\n",
       "                    background-color: #383838;\n",
       "                }\n",
       "                    \n",
       "                .geemap-dark .jupyter-button {\n",
       "                    --jp-layout-color3: #383838;\n",
       "                }\n",
       "                \n",
       "                .geemap-colab {\n",
       "                    background-color: var(--colab-primary-surface-color, white);\n",
       "                }\n",
       "                    \n",
       "                .geemap-colab .jupyter-button {\n",
       "                    --jp-layout-color3: var(--colab-primary-surface-color, white);\n",
       "                }\n",
       "            </style>\n",
       "            "
      ],
      "text/plain": [
       "<IPython.core.display.HTML object>"
      ]
     },
     "metadata": {},
     "output_type": "display_data"
    }
   ],
   "source": [
    "def get_least_cloudy_image(AOI, start_date, end_date, max_cloud_percentage=20):\n",
    "    return (ee.ImageCollection('COPERNICUS/S2_SR_HARMONIZED')\n",
    "                    .filterBounds(AOI)\n",
    "                    .filterDate(ee.Date(start_date), ee.Date(end_date))\n",
    "                    .filter(ee.Filter.lte('CLOUDY_PIXEL_PERCENTAGE', max_cloud_percentage))\n",
    "                    .first()\n",
    "                    .clip(AOI))"
   ]
  },
  {
   "cell_type": "code",
   "execution_count": 9,
   "id": "a98be72c",
   "metadata": {},
   "outputs": [
    {
     "data": {
      "text/html": [
       "\n",
       "            <style>\n",
       "                .geemap-dark {\n",
       "                    --jp-widgets-color: white;\n",
       "                    --jp-widgets-label-color: white;\n",
       "                    --jp-ui-font-color1: white;\n",
       "                    --jp-layout-color2: #454545;\n",
       "                    background-color: #383838;\n",
       "                }\n",
       "                    \n",
       "                .geemap-dark .jupyter-button {\n",
       "                    --jp-layout-color3: #383838;\n",
       "                }\n",
       "                \n",
       "                .geemap-colab {\n",
       "                    background-color: var(--colab-primary-surface-color, white);\n",
       "                }\n",
       "                    \n",
       "                .geemap-colab .jupyter-button {\n",
       "                    --jp-layout-color3: var(--colab-primary-surface-color, white);\n",
       "                }\n",
       "            </style>\n",
       "            "
      ],
      "text/plain": [
       "<IPython.core.display.HTML object>"
      ]
     },
     "metadata": {},
     "output_type": "display_data"
    }
   ],
   "source": [
    "S2_L1C = get_least_cloudy_image(AOI, start_date, end_date)"
   ]
  },
  {
   "cell_type": "code",
   "execution_count": 10,
   "id": "7dc2ba18",
   "metadata": {
    "tags": []
   },
   "outputs": [
    {
     "data": {
      "text/html": [
       "\n",
       "            <style>\n",
       "                .geemap-dark {\n",
       "                    --jp-widgets-color: white;\n",
       "                    --jp-widgets-label-color: white;\n",
       "                    --jp-ui-font-color1: white;\n",
       "                    --jp-layout-color2: #454545;\n",
       "                    background-color: #383838;\n",
       "                }\n",
       "                    \n",
       "                .geemap-dark .jupyter-button {\n",
       "                    --jp-layout-color3: #383838;\n",
       "                }\n",
       "                \n",
       "                .geemap-colab {\n",
       "                    background-color: var(--colab-primary-surface-color, white);\n",
       "                }\n",
       "                    \n",
       "                .geemap-colab .jupyter-button {\n",
       "                    --jp-layout-color3: var(--colab-primary-surface-color, white);\n",
       "                }\n",
       "            </style>\n",
       "            "
      ],
      "text/plain": [
       "<IPython.core.display.HTML object>"
      ]
     },
     "metadata": {},
     "output_type": "display_data"
    },
    {
     "data": {
      "text/plain": [
       "['B1',\n",
       " 'B2',\n",
       " 'B3',\n",
       " 'B4',\n",
       " 'B5',\n",
       " 'B6',\n",
       " 'B7',\n",
       " 'B8',\n",
       " 'B8A',\n",
       " 'B9',\n",
       " 'B11',\n",
       " 'B12',\n",
       " 'AOT',\n",
       " 'WVP',\n",
       " 'SCL',\n",
       " 'TCI_R',\n",
       " 'TCI_G',\n",
       " 'TCI_B',\n",
       " 'MSK_CLDPRB',\n",
       " 'MSK_SNWPRB',\n",
       " 'QA10',\n",
       " 'QA20',\n",
       " 'QA60']"
      ]
     },
     "execution_count": 10,
     "metadata": {},
     "output_type": "execute_result"
    }
   ],
   "source": [
    "S2_L1C.bandNames().getInfo()"
   ]
  },
  {
   "cell_type": "code",
   "execution_count": 11,
   "id": "ae4e2598",
   "metadata": {
    "tags": []
   },
   "outputs": [
    {
     "data": {
      "text/html": [
       "\n",
       "            <style>\n",
       "                .geemap-dark {\n",
       "                    --jp-widgets-color: white;\n",
       "                    --jp-widgets-label-color: white;\n",
       "                    --jp-ui-font-color1: white;\n",
       "                    --jp-layout-color2: #454545;\n",
       "                    background-color: #383838;\n",
       "                }\n",
       "                    \n",
       "                .geemap-dark .jupyter-button {\n",
       "                    --jp-layout-color3: #383838;\n",
       "                }\n",
       "                \n",
       "                .geemap-colab {\n",
       "                    background-color: var(--colab-primary-surface-color, white);\n",
       "                }\n",
       "                    \n",
       "                .geemap-colab .jupyter-button {\n",
       "                    --jp-layout-color3: var(--colab-primary-surface-color, white);\n",
       "                }\n",
       "            </style>\n",
       "            "
      ],
      "text/plain": [
       "<IPython.core.display.HTML object>"
      ]
     },
     "metadata": {},
     "output_type": "display_data"
    },
    {
     "data": {
      "text/html": [
       "<img src=\"https://earthengine.googleapis.com/v1/projects/earthengine-legacy/thumbnails/436acb183f8c08dfc8281e640ab33538-cf3f5b3f1527208c96fb4fbf3fa7991f:getPixels\" width=\"800\"/>"
      ],
      "text/plain": [
       "<IPython.core.display.Image object>"
      ]
     },
     "execution_count": 11,
     "metadata": {},
     "output_type": "execute_result"
    }
   ],
   "source": [
    "url = S2_L1C.select('B11').getThumbURL({'min': -20, 'max': 0})\n",
    "disp.Image(url=url, width=800)"
   ]
  },
  {
   "cell_type": "markdown",
   "id": "f8f26983-d525-44e1-ab18-b8526281b977",
   "metadata": {},
   "source": [
    "##### Band ratio"
   ]
  },
  {
   "cell_type": "code",
   "execution_count": 12,
   "id": "d5e6da21",
   "metadata": {},
   "outputs": [
    {
     "data": {
      "text/html": [
       "\n",
       "            <style>\n",
       "                .geemap-dark {\n",
       "                    --jp-widgets-color: white;\n",
       "                    --jp-widgets-label-color: white;\n",
       "                    --jp-ui-font-color1: white;\n",
       "                    --jp-layout-color2: #454545;\n",
       "                    background-color: #383838;\n",
       "                }\n",
       "                    \n",
       "                .geemap-dark .jupyter-button {\n",
       "                    --jp-layout-color3: #383838;\n",
       "                }\n",
       "                \n",
       "                .geemap-colab {\n",
       "                    background-color: var(--colab-primary-surface-color, white);\n",
       "                }\n",
       "                    \n",
       "                .geemap-colab .jupyter-button {\n",
       "                    --jp-layout-color3: var(--colab-primary-surface-color, white);\n",
       "                }\n",
       "            </style>\n",
       "            "
      ],
      "text/plain": [
       "<IPython.core.display.HTML object>"
      ]
     },
     "metadata": {},
     "output_type": "display_data"
    },
    {
     "data": {
      "text/html": [
       "<div style=\"width:100%;\"><div style=\"position:relative;width:100%;height:0;padding-bottom:60%;\"><span style=\"color:#565656\">Make this Notebook Trusted to load map: File -> Trust Notebook</span><iframe srcdoc=\"&lt;!DOCTYPE html&gt;\n",
       "&lt;html&gt;\n",
       "&lt;head&gt;\n",
       "    \n",
       "    &lt;meta http-equiv=&quot;content-type&quot; content=&quot;text/html; charset=UTF-8&quot; /&gt;\n",
       "    \n",
       "        &lt;script&gt;\n",
       "            L_NO_TOUCH = false;\n",
       "            L_DISABLE_3D = false;\n",
       "        &lt;/script&gt;\n",
       "    \n",
       "    &lt;style&gt;html, body {width: 100%;height: 100%;margin: 0;padding: 0;}&lt;/style&gt;\n",
       "    &lt;style&gt;#map {position:absolute;top:0;bottom:0;right:0;left:0;}&lt;/style&gt;\n",
       "    &lt;script src=&quot;https://cdn.jsdelivr.net/npm/leaflet@1.9.3/dist/leaflet.js&quot;&gt;&lt;/script&gt;\n",
       "    &lt;script src=&quot;https://code.jquery.com/jquery-3.7.1.min.js&quot;&gt;&lt;/script&gt;\n",
       "    &lt;script src=&quot;https://cdn.jsdelivr.net/npm/bootstrap@5.2.2/dist/js/bootstrap.bundle.min.js&quot;&gt;&lt;/script&gt;\n",
       "    &lt;script src=&quot;https://cdnjs.cloudflare.com/ajax/libs/Leaflet.awesome-markers/2.0.2/leaflet.awesome-markers.js&quot;&gt;&lt;/script&gt;\n",
       "    &lt;link rel=&quot;stylesheet&quot; href=&quot;https://cdn.jsdelivr.net/npm/leaflet@1.9.3/dist/leaflet.css&quot;/&gt;\n",
       "    &lt;link rel=&quot;stylesheet&quot; href=&quot;https://cdn.jsdelivr.net/npm/bootstrap@5.2.2/dist/css/bootstrap.min.css&quot;/&gt;\n",
       "    &lt;link rel=&quot;stylesheet&quot; href=&quot;https://netdna.bootstrapcdn.com/bootstrap/3.0.0/css/bootstrap.min.css&quot;/&gt;\n",
       "    &lt;link rel=&quot;stylesheet&quot; href=&quot;https://cdn.jsdelivr.net/npm/@fortawesome/fontawesome-free@6.2.0/css/all.min.css&quot;/&gt;\n",
       "    &lt;link rel=&quot;stylesheet&quot; href=&quot;https://cdnjs.cloudflare.com/ajax/libs/Leaflet.awesome-markers/2.0.2/leaflet.awesome-markers.css&quot;/&gt;\n",
       "    &lt;link rel=&quot;stylesheet&quot; href=&quot;https://cdn.jsdelivr.net/gh/python-visualization/folium/folium/templates/leaflet.awesome.rotate.min.css&quot;/&gt;\n",
       "    \n",
       "            &lt;meta name=&quot;viewport&quot; content=&quot;width=device-width,\n",
       "                initial-scale=1.0, maximum-scale=1.0, user-scalable=no&quot; /&gt;\n",
       "            &lt;style&gt;\n",
       "                #map_86b59a4024bba8396d447635cdd171ad {\n",
       "                    position: relative;\n",
       "                    width: 100.0%;\n",
       "                    height: 100.0%;\n",
       "                    left: 0.0%;\n",
       "                    top: 0.0%;\n",
       "                }\n",
       "                .leaflet-container { font-size: 1rem; }\n",
       "            &lt;/style&gt;\n",
       "        \n",
       "&lt;/head&gt;\n",
       "&lt;body&gt;\n",
       "    \n",
       "    \n",
       "            &lt;div class=&quot;folium-map&quot; id=&quot;map_86b59a4024bba8396d447635cdd171ad&quot; &gt;&lt;/div&gt;\n",
       "        \n",
       "&lt;/body&gt;\n",
       "&lt;script&gt;\n",
       "    \n",
       "    \n",
       "            var map_86b59a4024bba8396d447635cdd171ad = L.map(\n",
       "                &quot;map_86b59a4024bba8396d447635cdd171ad&quot;,\n",
       "                {\n",
       "                    center: [-12.522845892065048, 130.918857699303],\n",
       "                    crs: L.CRS.EPSG3857,\n",
       "                    zoom: 13,\n",
       "                    zoomControl: true,\n",
       "                    preferCanvas: false,\n",
       "                }\n",
       "            );\n",
       "\n",
       "            \n",
       "\n",
       "        \n",
       "    \n",
       "            var tile_layer_9e14abbf8dfed65e9b9852cb7bbea4b8 = L.tileLayer(\n",
       "                &quot;https://tile.openstreetmap.org/{z}/{x}/{y}.png&quot;,\n",
       "                {&quot;attribution&quot;: &quot;\\u0026copy; \\u003ca href=\\&quot;https://www.openstreetmap.org/copyright\\&quot;\\u003eOpenStreetMap\\u003c/a\\u003e contributors&quot;, &quot;detectRetina&quot;: false, &quot;maxNativeZoom&quot;: 19, &quot;maxZoom&quot;: 19, &quot;minZoom&quot;: 0, &quot;noWrap&quot;: false, &quot;opacity&quot;: 1, &quot;subdomains&quot;: &quot;abc&quot;, &quot;tms&quot;: false}\n",
       "            );\n",
       "        \n",
       "    \n",
       "            tile_layer_9e14abbf8dfed65e9b9852cb7bbea4b8.addTo(map_86b59a4024bba8396d447635cdd171ad);\n",
       "        \n",
       "    \n",
       "            var tile_layer_01a461c2a1dc50c5e5ca4555e5c589ea = L.tileLayer(\n",
       "                &quot;https://earthengine.googleapis.com/v1/projects/earthengine-legacy/maps/590d8b87384175dc68a7f89a565698fe-0fe7cd836e686e12019428bcbb55754f/tiles/{z}/{x}/{y}&quot;,\n",
       "                {&quot;attribution&quot;: &quot;Map Data \\u0026copy; \\u003ca href=\\&quot;https://earthengine.google.com/\\&quot;\\u003eGoogle Earth Engine\\u003c/a\\u003e&quot;, &quot;detectRetina&quot;: false, &quot;maxNativeZoom&quot;: 18, &quot;maxZoom&quot;: 18, &quot;minZoom&quot;: 0, &quot;noWrap&quot;: false, &quot;opacity&quot;: 1, &quot;subdomains&quot;: &quot;abc&quot;, &quot;tms&quot;: false}\n",
       "            );\n",
       "        \n",
       "    \n",
       "            tile_layer_01a461c2a1dc50c5e5ca4555e5c589ea.addTo(map_86b59a4024bba8396d447635cdd171ad);\n",
       "        \n",
       "    \n",
       "            var layer_control_3029675e57741bc6f07165083097316d_layers = {\n",
       "                base_layers : {\n",
       "                    &quot;openstreetmap&quot; : tile_layer_9e14abbf8dfed65e9b9852cb7bbea4b8,\n",
       "                },\n",
       "                overlays :  {\n",
       "                    &quot;FFA&quot; : tile_layer_01a461c2a1dc50c5e5ca4555e5c589ea,\n",
       "                },\n",
       "            };\n",
       "            let layer_control_3029675e57741bc6f07165083097316d = L.control.layers(\n",
       "                layer_control_3029675e57741bc6f07165083097316d_layers.base_layers,\n",
       "                layer_control_3029675e57741bc6f07165083097316d_layers.overlays,\n",
       "                {&quot;autoZIndex&quot;: true, &quot;collapsed&quot;: true, &quot;position&quot;: &quot;topright&quot;}\n",
       "            ).addTo(map_86b59a4024bba8396d447635cdd171ad);\n",
       "\n",
       "        \n",
       "&lt;/script&gt;\n",
       "&lt;/html&gt;\" style=\"position:absolute;width:100%;height:100%;left:0;top:0;border:none !important;\" allowfullscreen webkitallowfullscreen mozallowfullscreen></iframe></div></div>"
      ],
      "text/plain": [
       "<folium.folium.Map at 0x7f09b353f750>"
      ]
     },
     "metadata": {},
     "output_type": "display_data"
    },
    {
     "name": "stdout",
     "output_type": "stream",
     "text": [
      "roi [-12.522845892065048, 130.918857699303]\n"
     ]
    }
   ],
   "source": [
    "# Calculate the centroid of the region\n",
    "ROI = AOI.centroid().coordinates().getInfo()[::-1]\n",
    "\n",
    "# Make an RGB color composite image (B12,B11,B11/B12).\n",
    "rgb = ee.Image.rgb(S2_L1C.select('B12'),\n",
    "                   S2_L1C.select('B11'),\n",
    "                   S2_L1C.select('B11').divide(S2_L1C.select('B12')))\n",
    "\n",
    "# Create the map object.\n",
    "m = folium.Map(location=ROI, zoom_start=13)\n",
    "\n",
    "# Add the S1 rgb composite to the map object.\n",
    "m.add_ee_layer(rgb, {'min': [-20, -20, 0], 'max': [0, 0, 2]}, 'FFA')\n",
    "\n",
    "# Add a layer control panel to the map.\n",
    "m.add_child(folium.LayerControl())\n",
    "\n",
    "# Display the map.\n",
    "display(m)\n",
    "print('roi',ROI)"
   ]
  },
  {
   "cell_type": "markdown",
   "id": "5152a9cc-859d-4a50-996a-44b99289d5e8",
   "metadata": {},
   "source": [
    "# **Cloud Masking**"
   ]
  },
  {
   "cell_type": "code",
   "execution_count": 13,
   "id": "5fddd68c",
   "metadata": {},
   "outputs": [
    {
     "data": {
      "text/html": [
       "\n",
       "            <style>\n",
       "                .geemap-dark {\n",
       "                    --jp-widgets-color: white;\n",
       "                    --jp-widgets-label-color: white;\n",
       "                    --jp-ui-font-color1: white;\n",
       "                    --jp-layout-color2: #454545;\n",
       "                    background-color: #383838;\n",
       "                }\n",
       "                    \n",
       "                .geemap-dark .jupyter-button {\n",
       "                    --jp-layout-color3: #383838;\n",
       "                }\n",
       "                \n",
       "                .geemap-colab {\n",
       "                    background-color: var(--colab-primary-surface-color, white);\n",
       "                }\n",
       "                    \n",
       "                .geemap-colab .jupyter-button {\n",
       "                    --jp-layout-color3: var(--colab-primary-surface-color, white);\n",
       "                }\n",
       "            </style>\n",
       "            "
      ],
      "text/plain": [
       "<IPython.core.display.HTML object>"
      ]
     },
     "metadata": {},
     "output_type": "display_data"
    }
   ],
   "source": [
    "# Date Validate\n",
    "#Start_Date = '2023-10-26'\n",
    "#End_Date = '2023-10-27'"
   ]
  },
  {
   "cell_type": "code",
   "execution_count": 14,
   "id": "603d235d",
   "metadata": {},
   "outputs": [
    {
     "data": {
      "text/html": [
       "\n",
       "            <style>\n",
       "                .geemap-dark {\n",
       "                    --jp-widgets-color: white;\n",
       "                    --jp-widgets-label-color: white;\n",
       "                    --jp-ui-font-color1: white;\n",
       "                    --jp-layout-color2: #454545;\n",
       "                    background-color: #383838;\n",
       "                }\n",
       "                    \n",
       "                .geemap-dark .jupyter-button {\n",
       "                    --jp-layout-color3: #383838;\n",
       "                }\n",
       "                \n",
       "                .geemap-colab {\n",
       "                    background-color: var(--colab-primary-surface-color, white);\n",
       "                }\n",
       "                    \n",
       "                .geemap-colab .jupyter-button {\n",
       "                    --jp-layout-color3: var(--colab-primary-surface-color, white);\n",
       "                }\n",
       "            </style>\n",
       "            "
      ],
      "text/plain": [
       "<IPython.core.display.HTML object>"
      ]
     },
     "metadata": {},
     "output_type": "display_data"
    }
   ],
   "source": [
    "# Cloud masking\n",
    "#CLOUD_FILTER = 20 # Defined above\n",
    "CLD_PRB_THRESH = 50\n",
    "NIR_DRK_THRESH = 0.15\n",
    "CLD_PRJ_DIST = 1\n",
    "BUFFER = 50"
   ]
  },
  {
   "cell_type": "code",
   "execution_count": 15,
   "id": "207fd1a2",
   "metadata": {
    "tags": []
   },
   "outputs": [
    {
     "data": {
      "text/html": [
       "\n",
       "            <style>\n",
       "                .geemap-dark {\n",
       "                    --jp-widgets-color: white;\n",
       "                    --jp-widgets-label-color: white;\n",
       "                    --jp-ui-font-color1: white;\n",
       "                    --jp-layout-color2: #454545;\n",
       "                    background-color: #383838;\n",
       "                }\n",
       "                    \n",
       "                .geemap-dark .jupyter-button {\n",
       "                    --jp-layout-color3: #383838;\n",
       "                }\n",
       "                \n",
       "                .geemap-colab {\n",
       "                    background-color: var(--colab-primary-surface-color, white);\n",
       "                }\n",
       "                    \n",
       "                .geemap-colab .jupyter-button {\n",
       "                    --jp-layout-color3: var(--colab-primary-surface-color, white);\n",
       "                }\n",
       "            </style>\n",
       "            "
      ],
      "text/plain": [
       "<IPython.core.display.HTML object>"
      ]
     },
     "metadata": {},
     "output_type": "display_data"
    }
   ],
   "source": [
    "def Get_S2_SR_Cloud_Col(Region, start_date, end_date):\n",
    "    # Import and filter S2 SR.\n",
    "    S2_SR = (ee.ImageCollection('COPERNICUS/S2_SR')\n",
    "        .filterBounds(AOI)\n",
    "        .filterDate(start_date, end_date)) # Use the one from above\n",
    "\n",
    "    # Import and filter s2cloudless.\n",
    "    S2_Cloudless = (ee.ImageCollection('COPERNICUS/S2_CLOUD_PROBABILITY')\n",
    "        .filterBounds(AOI)\n",
    "        .filterDate(start_date, end_date))\n",
    "\n",
    "    # Join the filtered s2cloudless collection to the SR collection by the 'system:index' property.\n",
    "    return ee.ImageCollection(ee.Join.saveFirst('s2cloudless').apply(**{\n",
    "        'primary': S2_SR,\n",
    "        'secondary': S2_Cloudless,\n",
    "        'condition': ee.Filter.equals(**{\n",
    "            'leftField': 'system:index',\n",
    "            'rightField': 'system:index'\n",
    "        })\n",
    "    }))"
   ]
  },
  {
   "cell_type": "code",
   "execution_count": 16,
   "id": "14f74359",
   "metadata": {},
   "outputs": [
    {
     "data": {
      "text/html": [
       "\n",
       "            <style>\n",
       "                .geemap-dark {\n",
       "                    --jp-widgets-color: white;\n",
       "                    --jp-widgets-label-color: white;\n",
       "                    --jp-ui-font-color1: white;\n",
       "                    --jp-layout-color2: #454545;\n",
       "                    background-color: #383838;\n",
       "                }\n",
       "                    \n",
       "                .geemap-dark .jupyter-button {\n",
       "                    --jp-layout-color3: #383838;\n",
       "                }\n",
       "                \n",
       "                .geemap-colab {\n",
       "                    background-color: var(--colab-primary-surface-color, white);\n",
       "                }\n",
       "                    \n",
       "                .geemap-colab .jupyter-button {\n",
       "                    --jp-layout-color3: var(--colab-primary-surface-color, white);\n",
       "                }\n",
       "            </style>\n",
       "            "
      ],
      "text/plain": [
       "<IPython.core.display.HTML object>"
      ]
     },
     "metadata": {},
     "output_type": "display_data"
    }
   ],
   "source": [
    "S2_SR_Cloud_Col_Eval = Get_S2_SR_Cloud_Col(AOI, start_date, end_date)"
   ]
  },
  {
   "cell_type": "code",
   "execution_count": 17,
   "id": "d7484dcf",
   "metadata": {},
   "outputs": [
    {
     "data": {
      "text/html": [
       "\n",
       "            <style>\n",
       "                .geemap-dark {\n",
       "                    --jp-widgets-color: white;\n",
       "                    --jp-widgets-label-color: white;\n",
       "                    --jp-ui-font-color1: white;\n",
       "                    --jp-layout-color2: #454545;\n",
       "                    background-color: #383838;\n",
       "                }\n",
       "                    \n",
       "                .geemap-dark .jupyter-button {\n",
       "                    --jp-layout-color3: #383838;\n",
       "                }\n",
       "                \n",
       "                .geemap-colab {\n",
       "                    background-color: var(--colab-primary-surface-color, white);\n",
       "                }\n",
       "                    \n",
       "                .geemap-colab .jupyter-button {\n",
       "                    --jp-layout-color3: var(--colab-primary-surface-color, white);\n",
       "                }\n",
       "            </style>\n",
       "            "
      ],
      "text/plain": [
       "<IPython.core.display.HTML object>"
      ]
     },
     "metadata": {},
     "output_type": "display_data"
    }
   ],
   "source": [
    "def add_cloud_bands(img):\n",
    "    # Get s2cloudless image, subset the probability band.\n",
    "    cld_prb = ee.Image(img.get('s2cloudless')).select('probability')\n",
    "\n",
    "    # Condition s2cloudless by the probability threshold value.\n",
    "    is_cloud = cld_prb.gt(CLD_PRB_THRESH).rename('clouds')\n",
    "\n",
    "    # Add the cloud probability layer and cloud mask as image bands.\n",
    "    return img.addBands(ee.Image([cld_prb, is_cloud]))"
   ]
  },
  {
   "cell_type": "code",
   "execution_count": 18,
   "id": "f3a2de40",
   "metadata": {},
   "outputs": [
    {
     "data": {
      "text/html": [
       "\n",
       "            <style>\n",
       "                .geemap-dark {\n",
       "                    --jp-widgets-color: white;\n",
       "                    --jp-widgets-label-color: white;\n",
       "                    --jp-ui-font-color1: white;\n",
       "                    --jp-layout-color2: #454545;\n",
       "                    background-color: #383838;\n",
       "                }\n",
       "                    \n",
       "                .geemap-dark .jupyter-button {\n",
       "                    --jp-layout-color3: #383838;\n",
       "                }\n",
       "                \n",
       "                .geemap-colab {\n",
       "                    background-color: var(--colab-primary-surface-color, white);\n",
       "                }\n",
       "                    \n",
       "                .geemap-colab .jupyter-button {\n",
       "                    --jp-layout-color3: var(--colab-primary-surface-color, white);\n",
       "                }\n",
       "            </style>\n",
       "            "
      ],
      "text/plain": [
       "<IPython.core.display.HTML object>"
      ]
     },
     "metadata": {},
     "output_type": "display_data"
    }
   ],
   "source": [
    "def add_shadow_bands(img):\n",
    "    # Identify water pixels from the SCL band.\n",
    "    not_water = img.select('SCL').neq(6)\n",
    "\n",
    "    # Identify dark NIR pixels that are not water (potential cloud shadow pixels).\n",
    "    SR_BAND_SCALE = 1e4\n",
    "    dark_pixels = img.select('B8').lt(NIR_DRK_THRESH*SR_BAND_SCALE).multiply(not_water).rename('dark_pixels')\n",
    "\n",
    "    # Determine the direction to project cloud shadow from clouds (assumes UTM projection).\n",
    "    shadow_azimuth = ee.Number(90).subtract(ee.Number(img.get('MEAN_SOLAR_AZIMUTH_ANGLE')));\n",
    "\n",
    "    # Project shadows from clouds for the distance specified by the CLD_PRJ_DIST input.\n",
    "    cld_proj = (img.select('clouds').directionalDistanceTransform(shadow_azimuth, CLD_PRJ_DIST*10)\n",
    "        .reproject(**{'crs': img.select(0).projection(), 'scale': 100})\n",
    "        .select('distance')\n",
    "        .mask()\n",
    "        .rename('cloud_transform'))\n",
    "\n",
    "    # Identify the intersection of dark pixels with cloud shadow projection.\n",
    "    shadows = cld_proj.multiply(dark_pixels).rename('shadows')\n",
    "\n",
    "    # Add dark pixels, cloud projection, and identified shadows as image bands.\n",
    "    return img.addBands(ee.Image([dark_pixels, cld_proj, shadows]))"
   ]
  },
  {
   "cell_type": "code",
   "execution_count": 19,
   "id": "f9061438",
   "metadata": {},
   "outputs": [
    {
     "data": {
      "text/html": [
       "\n",
       "            <style>\n",
       "                .geemap-dark {\n",
       "                    --jp-widgets-color: white;\n",
       "                    --jp-widgets-label-color: white;\n",
       "                    --jp-ui-font-color1: white;\n",
       "                    --jp-layout-color2: #454545;\n",
       "                    background-color: #383838;\n",
       "                }\n",
       "                    \n",
       "                .geemap-dark .jupyter-button {\n",
       "                    --jp-layout-color3: #383838;\n",
       "                }\n",
       "                \n",
       "                .geemap-colab {\n",
       "                    background-color: var(--colab-primary-surface-color, white);\n",
       "                }\n",
       "                    \n",
       "                .geemap-colab .jupyter-button {\n",
       "                    --jp-layout-color3: var(--colab-primary-surface-color, white);\n",
       "                }\n",
       "            </style>\n",
       "            "
      ],
      "text/plain": [
       "<IPython.core.display.HTML object>"
      ]
     },
     "metadata": {},
     "output_type": "display_data"
    }
   ],
   "source": [
    "def add_cld_shdw_mask(img):\n",
    "    # Add cloud component bands.\n",
    "    img_cloud = add_cloud_bands(img)\n",
    "\n",
    "    # Add cloud shadow component bands.\n",
    "    img_cloud_shadow = add_shadow_bands(img_cloud)\n",
    "\n",
    "    # Combine cloud and shadow mask, set cloud and shadow as value 1, else 0.\n",
    "    is_cld_shdw = img_cloud_shadow.select('clouds').add(img_cloud_shadow.select('shadows')).gt(0)\n",
    "\n",
    "    # Remove small cloud-shadow patches and dilate remaining pixels by BUFFER input.\n",
    "    # 20 m scale is for speed, and assumes clouds don't require 10 m precision.\n",
    "    is_cld_shdw = (is_cld_shdw.focalMin(2).focalMax(BUFFER*2/20)\n",
    "        .reproject(**{'crs': img.select([0]).projection(), 'scale': 20})\n",
    "        .rename('cloudmask'))\n",
    "\n",
    "    # Add the final cloud-shadow mask to the image.\n",
    "    return img_cloud_shadow.addBands(is_cld_shdw)"
   ]
  },
  {
   "cell_type": "code",
   "execution_count": 20,
   "id": "40b3b884",
   "metadata": {},
   "outputs": [
    {
     "data": {
      "text/html": [
       "\n",
       "            <style>\n",
       "                .geemap-dark {\n",
       "                    --jp-widgets-color: white;\n",
       "                    --jp-widgets-label-color: white;\n",
       "                    --jp-ui-font-color1: white;\n",
       "                    --jp-layout-color2: #454545;\n",
       "                    background-color: #383838;\n",
       "                }\n",
       "                    \n",
       "                .geemap-dark .jupyter-button {\n",
       "                    --jp-layout-color3: #383838;\n",
       "                }\n",
       "                \n",
       "                .geemap-colab {\n",
       "                    background-color: var(--colab-primary-surface-color, white);\n",
       "                }\n",
       "                    \n",
       "                .geemap-colab .jupyter-button {\n",
       "                    --jp-layout-color3: var(--colab-primary-surface-color, white);\n",
       "                }\n",
       "            </style>\n",
       "            "
      ],
      "text/plain": [
       "<IPython.core.display.HTML object>"
      ]
     },
     "metadata": {},
     "output_type": "display_data"
    }
   ],
   "source": [
    "# Import the folium library.\n",
    "import folium\n",
    "\n",
    "# Define a method for displaying Earth Engine image tiles to a folium map.\n",
    "def add_ee_layer(self, ee_image_object, vis_params, name, show=True, opacity=1, min_zoom=0):\n",
    "    map_id_dict = ee.Image(ee_image_object).getMapId(vis_params)\n",
    "    folium.raster_layers.TileLayer(\n",
    "        tiles=map_id_dict['tile_fetcher'].url_format,\n",
    "        attr='Map Data &copy; <a href=\"https://earthengine.google.com/\">Google Earth Engine</a>',\n",
    "        name=name,\n",
    "        show=show,\n",
    "        opacity=opacity,\n",
    "        min_zoom=min_zoom,\n",
    "        overlay=True,\n",
    "        control=True\n",
    "        ).add_to(self)\n",
    "\n",
    "# Add the Earth Engine layer method to folium.\n",
    "folium.Map.add_ee_layer = add_ee_layer"
   ]
  },
  {
   "cell_type": "code",
   "execution_count": 21,
   "id": "b0ee4ea1",
   "metadata": {
    "tags": []
   },
   "outputs": [
    {
     "data": {
      "text/html": [
       "\n",
       "            <style>\n",
       "                .geemap-dark {\n",
       "                    --jp-widgets-color: white;\n",
       "                    --jp-widgets-label-color: white;\n",
       "                    --jp-ui-font-color1: white;\n",
       "                    --jp-layout-color2: #454545;\n",
       "                    background-color: #383838;\n",
       "                }\n",
       "                    \n",
       "                .geemap-dark .jupyter-button {\n",
       "                    --jp-layout-color3: #383838;\n",
       "                }\n",
       "                \n",
       "                .geemap-colab {\n",
       "                    background-color: var(--colab-primary-surface-color, white);\n",
       "                }\n",
       "                    \n",
       "                .geemap-colab .jupyter-button {\n",
       "                    --jp-layout-color3: var(--colab-primary-surface-color, white);\n",
       "                }\n",
       "            </style>\n",
       "            "
      ],
      "text/plain": [
       "<IPython.core.display.HTML object>"
      ]
     },
     "metadata": {},
     "output_type": "display_data"
    }
   ],
   "source": [
    "def display_cloud_layers(col):\n",
    "    # Mosaic the image collection.\n",
    "    img = col.mosaic()\n",
    "\n",
    "    # Subset layers and prepare them for display.\n",
    "    clouds = img.select('clouds').selfMask()\n",
    "    shadows = img.select('shadows').selfMask()\n",
    "    dark_pixels = img.select('dark_pixels').selfMask()\n",
    "    probability = img.select('probability')\n",
    "    cloudmask = img.select('cloudmask').selfMask()\n",
    "    cloud_transform = img.select('cloud_transform')\n",
    "\n",
    "    # Create a folium map object.\n",
    "    center = AOI.centroid(10).coordinates().reverse().getInfo()\n",
    "    m = folium.Map(location=center, zoom_start=12)\n",
    "\n",
    "    # Add layers to the folium map.\n",
    "    m.add_ee_layer(img,\n",
    "                   {'bands': ['B4', 'B3', 'B2'], 'min': 0, 'max': 2500, 'gamma': 1.1},\n",
    "                   'S2 image', True, 1, 9)\n",
    "    m.add_ee_layer(probability,\n",
    "                   {'min': 0, 'max': 100},\n",
    "                   'probability (cloud)', False, 1, 9)\n",
    "    m.add_ee_layer(clouds,\n",
    "                   {'palette': 'e056fd'},\n",
    "                   'clouds', False, 1, 9)\n",
    "    m.add_ee_layer(cloud_transform,\n",
    "                   {'min': 0, 'max': 1, 'palette': ['white', 'black']},\n",
    "                   'cloud_transform', False, 1, 9)\n",
    "    m.add_ee_layer(dark_pixels,\n",
    "                   {'palette': 'orange'},\n",
    "                   'dark_pixels', False, 1, 9)\n",
    "    m.add_ee_layer(shadows, {'palette': 'yellow'},\n",
    "                   'shadows', False, 1, 9)\n",
    "    m.add_ee_layer(cloudmask, {'palette': 'orange'},\n",
    "                   'cloudmask', True, 0.5, 9)\n",
    "\n",
    "    # Add a layer control panel to the map.\n",
    "    m.add_child(folium.LayerControl())\n",
    "\n",
    "    # Display the map.\n",
    "    display(m)"
   ]
  },
  {
   "cell_type": "code",
   "execution_count": 22,
   "id": "8b6e4ccf",
   "metadata": {},
   "outputs": [
    {
     "data": {
      "text/html": [
       "\n",
       "            <style>\n",
       "                .geemap-dark {\n",
       "                    --jp-widgets-color: white;\n",
       "                    --jp-widgets-label-color: white;\n",
       "                    --jp-ui-font-color1: white;\n",
       "                    --jp-layout-color2: #454545;\n",
       "                    background-color: #383838;\n",
       "                }\n",
       "                    \n",
       "                .geemap-dark .jupyter-button {\n",
       "                    --jp-layout-color3: #383838;\n",
       "                }\n",
       "                \n",
       "                .geemap-colab {\n",
       "                    background-color: var(--colab-primary-surface-color, white);\n",
       "                }\n",
       "                    \n",
       "                .geemap-colab .jupyter-button {\n",
       "                    --jp-layout-color3: var(--colab-primary-surface-color, white);\n",
       "                }\n",
       "            </style>\n",
       "            "
      ],
      "text/plain": [
       "<IPython.core.display.HTML object>"
      ]
     },
     "metadata": {},
     "output_type": "display_data"
    },
    {
     "data": {
      "text/html": [
       "<div style=\"width:100%;\"><div style=\"position:relative;width:100%;height:0;padding-bottom:60%;\"><span style=\"color:#565656\">Make this Notebook Trusted to load map: File -> Trust Notebook</span><iframe srcdoc=\"&lt;!DOCTYPE html&gt;\n",
       "&lt;html&gt;\n",
       "&lt;head&gt;\n",
       "    \n",
       "    &lt;meta http-equiv=&quot;content-type&quot; content=&quot;text/html; charset=UTF-8&quot; /&gt;\n",
       "    \n",
       "        &lt;script&gt;\n",
       "            L_NO_TOUCH = false;\n",
       "            L_DISABLE_3D = false;\n",
       "        &lt;/script&gt;\n",
       "    \n",
       "    &lt;style&gt;html, body {width: 100%;height: 100%;margin: 0;padding: 0;}&lt;/style&gt;\n",
       "    &lt;style&gt;#map {position:absolute;top:0;bottom:0;right:0;left:0;}&lt;/style&gt;\n",
       "    &lt;script src=&quot;https://cdn.jsdelivr.net/npm/leaflet@1.9.3/dist/leaflet.js&quot;&gt;&lt;/script&gt;\n",
       "    &lt;script src=&quot;https://code.jquery.com/jquery-3.7.1.min.js&quot;&gt;&lt;/script&gt;\n",
       "    &lt;script src=&quot;https://cdn.jsdelivr.net/npm/bootstrap@5.2.2/dist/js/bootstrap.bundle.min.js&quot;&gt;&lt;/script&gt;\n",
       "    &lt;script src=&quot;https://cdnjs.cloudflare.com/ajax/libs/Leaflet.awesome-markers/2.0.2/leaflet.awesome-markers.js&quot;&gt;&lt;/script&gt;\n",
       "    &lt;link rel=&quot;stylesheet&quot; href=&quot;https://cdn.jsdelivr.net/npm/leaflet@1.9.3/dist/leaflet.css&quot;/&gt;\n",
       "    &lt;link rel=&quot;stylesheet&quot; href=&quot;https://cdn.jsdelivr.net/npm/bootstrap@5.2.2/dist/css/bootstrap.min.css&quot;/&gt;\n",
       "    &lt;link rel=&quot;stylesheet&quot; href=&quot;https://netdna.bootstrapcdn.com/bootstrap/3.0.0/css/bootstrap.min.css&quot;/&gt;\n",
       "    &lt;link rel=&quot;stylesheet&quot; href=&quot;https://cdn.jsdelivr.net/npm/@fortawesome/fontawesome-free@6.2.0/css/all.min.css&quot;/&gt;\n",
       "    &lt;link rel=&quot;stylesheet&quot; href=&quot;https://cdnjs.cloudflare.com/ajax/libs/Leaflet.awesome-markers/2.0.2/leaflet.awesome-markers.css&quot;/&gt;\n",
       "    &lt;link rel=&quot;stylesheet&quot; href=&quot;https://cdn.jsdelivr.net/gh/python-visualization/folium/folium/templates/leaflet.awesome.rotate.min.css&quot;/&gt;\n",
       "    \n",
       "            &lt;meta name=&quot;viewport&quot; content=&quot;width=device-width,\n",
       "                initial-scale=1.0, maximum-scale=1.0, user-scalable=no&quot; /&gt;\n",
       "            &lt;style&gt;\n",
       "                #map_07cac2c38e5ae6ebe29ae0bd51e8ce81 {\n",
       "                    position: relative;\n",
       "                    width: 100.0%;\n",
       "                    height: 100.0%;\n",
       "                    left: 0.0%;\n",
       "                    top: 0.0%;\n",
       "                }\n",
       "                .leaflet-container { font-size: 1rem; }\n",
       "            &lt;/style&gt;\n",
       "        \n",
       "&lt;/head&gt;\n",
       "&lt;body&gt;\n",
       "    \n",
       "    \n",
       "            &lt;div class=&quot;folium-map&quot; id=&quot;map_07cac2c38e5ae6ebe29ae0bd51e8ce81&quot; &gt;&lt;/div&gt;\n",
       "        \n",
       "&lt;/body&gt;\n",
       "&lt;script&gt;\n",
       "    \n",
       "    \n",
       "            var map_07cac2c38e5ae6ebe29ae0bd51e8ce81 = L.map(\n",
       "                &quot;map_07cac2c38e5ae6ebe29ae0bd51e8ce81&quot;,\n",
       "                {\n",
       "                    center: [-12.522845892065048, 130.918857699303],\n",
       "                    crs: L.CRS.EPSG3857,\n",
       "                    zoom: 12,\n",
       "                    zoomControl: true,\n",
       "                    preferCanvas: false,\n",
       "                }\n",
       "            );\n",
       "\n",
       "            \n",
       "\n",
       "        \n",
       "    \n",
       "            var tile_layer_5bc7d9b07ae43a3ee704db4d8f9f1d3c = L.tileLayer(\n",
       "                &quot;https://tile.openstreetmap.org/{z}/{x}/{y}.png&quot;,\n",
       "                {&quot;attribution&quot;: &quot;\\u0026copy; \\u003ca href=\\&quot;https://www.openstreetmap.org/copyright\\&quot;\\u003eOpenStreetMap\\u003c/a\\u003e contributors&quot;, &quot;detectRetina&quot;: false, &quot;maxNativeZoom&quot;: 19, &quot;maxZoom&quot;: 19, &quot;minZoom&quot;: 0, &quot;noWrap&quot;: false, &quot;opacity&quot;: 1, &quot;subdomains&quot;: &quot;abc&quot;, &quot;tms&quot;: false}\n",
       "            );\n",
       "        \n",
       "    \n",
       "            tile_layer_5bc7d9b07ae43a3ee704db4d8f9f1d3c.addTo(map_07cac2c38e5ae6ebe29ae0bd51e8ce81);\n",
       "        \n",
       "    \n",
       "            var tile_layer_e8d80eba001cb502c7c4c6893f868846 = L.tileLayer(\n",
       "                &quot;https://earthengine.googleapis.com/v1/projects/earthengine-legacy/maps/58c61acd99569364a14d3d61681b09d2-7b0753f1ff10f1b68c8d7501e3433f44/tiles/{z}/{x}/{y}&quot;,\n",
       "                {&quot;attribution&quot;: &quot;Map Data \\u0026copy; \\u003ca href=\\&quot;https://earthengine.google.com/\\&quot;\\u003eGoogle Earth Engine\\u003c/a\\u003e&quot;, &quot;detectRetina&quot;: false, &quot;maxNativeZoom&quot;: 18, &quot;maxZoom&quot;: 18, &quot;minZoom&quot;: 9, &quot;noWrap&quot;: false, &quot;opacity&quot;: 1, &quot;subdomains&quot;: &quot;abc&quot;, &quot;tms&quot;: false}\n",
       "            );\n",
       "        \n",
       "    \n",
       "            tile_layer_e8d80eba001cb502c7c4c6893f868846.addTo(map_07cac2c38e5ae6ebe29ae0bd51e8ce81);\n",
       "        \n",
       "    \n",
       "            var tile_layer_e6582abdc7df7ce7e7ea7fbe93321cc3 = L.tileLayer(\n",
       "                &quot;https://earthengine.googleapis.com/v1/projects/earthengine-legacy/maps/75231d0a81f8420a37b66c431904d8aa-f4f913cf5b30161c147660a407e89853/tiles/{z}/{x}/{y}&quot;,\n",
       "                {&quot;attribution&quot;: &quot;Map Data \\u0026copy; \\u003ca href=\\&quot;https://earthengine.google.com/\\&quot;\\u003eGoogle Earth Engine\\u003c/a\\u003e&quot;, &quot;detectRetina&quot;: false, &quot;maxNativeZoom&quot;: 18, &quot;maxZoom&quot;: 18, &quot;minZoom&quot;: 9, &quot;noWrap&quot;: false, &quot;opacity&quot;: 1, &quot;subdomains&quot;: &quot;abc&quot;, &quot;tms&quot;: false}\n",
       "            );\n",
       "        \n",
       "    \n",
       "            var tile_layer_3c90e4d0c5b81564e549ec247417c5cb = L.tileLayer(\n",
       "                &quot;https://earthengine.googleapis.com/v1/projects/earthengine-legacy/maps/16be2887c27e26bb8c7fa38907edcf12-5a93d4050af4639381116f1ee2c3ede2/tiles/{z}/{x}/{y}&quot;,\n",
       "                {&quot;attribution&quot;: &quot;Map Data \\u0026copy; \\u003ca href=\\&quot;https://earthengine.google.com/\\&quot;\\u003eGoogle Earth Engine\\u003c/a\\u003e&quot;, &quot;detectRetina&quot;: false, &quot;maxNativeZoom&quot;: 18, &quot;maxZoom&quot;: 18, &quot;minZoom&quot;: 9, &quot;noWrap&quot;: false, &quot;opacity&quot;: 1, &quot;subdomains&quot;: &quot;abc&quot;, &quot;tms&quot;: false}\n",
       "            );\n",
       "        \n",
       "    \n",
       "            var tile_layer_c4eabf9ed8d25d9396c3340e9a904813 = L.tileLayer(\n",
       "                &quot;https://earthengine.googleapis.com/v1/projects/earthengine-legacy/maps/28830b171efd6739394bcbdfee288d11-0451a36b99bc7c48ff4666bbd10e7602/tiles/{z}/{x}/{y}&quot;,\n",
       "                {&quot;attribution&quot;: &quot;Map Data \\u0026copy; \\u003ca href=\\&quot;https://earthengine.google.com/\\&quot;\\u003eGoogle Earth Engine\\u003c/a\\u003e&quot;, &quot;detectRetina&quot;: false, &quot;maxNativeZoom&quot;: 18, &quot;maxZoom&quot;: 18, &quot;minZoom&quot;: 9, &quot;noWrap&quot;: false, &quot;opacity&quot;: 1, &quot;subdomains&quot;: &quot;abc&quot;, &quot;tms&quot;: false}\n",
       "            );\n",
       "        \n",
       "    \n",
       "            var tile_layer_add30d5d2c72ad1660cc9418263cb4d5 = L.tileLayer(\n",
       "                &quot;https://earthengine.googleapis.com/v1/projects/earthengine-legacy/maps/e3a0e6b8cabe097b06f7b6af367ee9c1-c038899db1aa639bf4e4c67e1c343f21/tiles/{z}/{x}/{y}&quot;,\n",
       "                {&quot;attribution&quot;: &quot;Map Data \\u0026copy; \\u003ca href=\\&quot;https://earthengine.google.com/\\&quot;\\u003eGoogle Earth Engine\\u003c/a\\u003e&quot;, &quot;detectRetina&quot;: false, &quot;maxNativeZoom&quot;: 18, &quot;maxZoom&quot;: 18, &quot;minZoom&quot;: 9, &quot;noWrap&quot;: false, &quot;opacity&quot;: 1, &quot;subdomains&quot;: &quot;abc&quot;, &quot;tms&quot;: false}\n",
       "            );\n",
       "        \n",
       "    \n",
       "            var tile_layer_aa197af513a39e243b5181b970b09fb5 = L.tileLayer(\n",
       "                &quot;https://earthengine.googleapis.com/v1/projects/earthengine-legacy/maps/46ef018d54a1fe5ff841312434c45b09-cb6eb8df08c735b8c01b31ae6b321b16/tiles/{z}/{x}/{y}&quot;,\n",
       "                {&quot;attribution&quot;: &quot;Map Data \\u0026copy; \\u003ca href=\\&quot;https://earthengine.google.com/\\&quot;\\u003eGoogle Earth Engine\\u003c/a\\u003e&quot;, &quot;detectRetina&quot;: false, &quot;maxNativeZoom&quot;: 18, &quot;maxZoom&quot;: 18, &quot;minZoom&quot;: 9, &quot;noWrap&quot;: false, &quot;opacity&quot;: 1, &quot;subdomains&quot;: &quot;abc&quot;, &quot;tms&quot;: false}\n",
       "            );\n",
       "        \n",
       "    \n",
       "            var tile_layer_294cd71dde759b5d1a7b2749217c8aba = L.tileLayer(\n",
       "                &quot;https://earthengine.googleapis.com/v1/projects/earthengine-legacy/maps/0048e2140df30aabbedcfdf4d78e9762-74163e5a8b15fa9cdb6dfa46ddd7208a/tiles/{z}/{x}/{y}&quot;,\n",
       "                {&quot;attribution&quot;: &quot;Map Data \\u0026copy; \\u003ca href=\\&quot;https://earthengine.google.com/\\&quot;\\u003eGoogle Earth Engine\\u003c/a\\u003e&quot;, &quot;detectRetina&quot;: false, &quot;maxNativeZoom&quot;: 18, &quot;maxZoom&quot;: 18, &quot;minZoom&quot;: 9, &quot;noWrap&quot;: false, &quot;opacity&quot;: 0.5, &quot;subdomains&quot;: &quot;abc&quot;, &quot;tms&quot;: false}\n",
       "            );\n",
       "        \n",
       "    \n",
       "            tile_layer_294cd71dde759b5d1a7b2749217c8aba.addTo(map_07cac2c38e5ae6ebe29ae0bd51e8ce81);\n",
       "        \n",
       "    \n",
       "            var layer_control_9cfdcd0313f0e041611eb0415c76e08e_layers = {\n",
       "                base_layers : {\n",
       "                    &quot;openstreetmap&quot; : tile_layer_5bc7d9b07ae43a3ee704db4d8f9f1d3c,\n",
       "                },\n",
       "                overlays :  {\n",
       "                    &quot;S2 image&quot; : tile_layer_e8d80eba001cb502c7c4c6893f868846,\n",
       "                    &quot;probability (cloud)&quot; : tile_layer_e6582abdc7df7ce7e7ea7fbe93321cc3,\n",
       "                    &quot;clouds&quot; : tile_layer_3c90e4d0c5b81564e549ec247417c5cb,\n",
       "                    &quot;cloud_transform&quot; : tile_layer_c4eabf9ed8d25d9396c3340e9a904813,\n",
       "                    &quot;dark_pixels&quot; : tile_layer_add30d5d2c72ad1660cc9418263cb4d5,\n",
       "                    &quot;shadows&quot; : tile_layer_aa197af513a39e243b5181b970b09fb5,\n",
       "                    &quot;cloudmask&quot; : tile_layer_294cd71dde759b5d1a7b2749217c8aba,\n",
       "                },\n",
       "            };\n",
       "            let layer_control_9cfdcd0313f0e041611eb0415c76e08e = L.control.layers(\n",
       "                layer_control_9cfdcd0313f0e041611eb0415c76e08e_layers.base_layers,\n",
       "                layer_control_9cfdcd0313f0e041611eb0415c76e08e_layers.overlays,\n",
       "                {&quot;autoZIndex&quot;: true, &quot;collapsed&quot;: true, &quot;position&quot;: &quot;topright&quot;}\n",
       "            ).addTo(map_07cac2c38e5ae6ebe29ae0bd51e8ce81);\n",
       "\n",
       "        \n",
       "&lt;/script&gt;\n",
       "&lt;/html&gt;\" style=\"position:absolute;width:100%;height:100%;left:0;top:0;border:none !important;\" allowfullscreen webkitallowfullscreen mozallowfullscreen></iframe></div></div>"
      ],
      "text/plain": [
       "<folium.folium.Map at 0x7f09b3107b90>"
      ]
     },
     "metadata": {},
     "output_type": "display_data"
    }
   ],
   "source": [
    "S2_SR_Cloud_Col_Eval_Disp = S2_SR_Cloud_Col_Eval.map(add_cld_shdw_mask)\n",
    "\n",
    "display_cloud_layers(S2_SR_Cloud_Col_Eval_Disp)"
   ]
  },
  {
   "cell_type": "markdown",
   "id": "6b35e5d9-2d24-4a66-84da-af88d035add3",
   "metadata": {},
   "source": [
    "## **Mask Removal**"
   ]
  },
  {
   "cell_type": "code",
   "execution_count": 23,
   "id": "5564e16e",
   "metadata": {},
   "outputs": [
    {
     "data": {
      "text/html": [
       "\n",
       "            <style>\n",
       "                .geemap-dark {\n",
       "                    --jp-widgets-color: white;\n",
       "                    --jp-widgets-label-color: white;\n",
       "                    --jp-ui-font-color1: white;\n",
       "                    --jp-layout-color2: #454545;\n",
       "                    background-color: #383838;\n",
       "                }\n",
       "                    \n",
       "                .geemap-dark .jupyter-button {\n",
       "                    --jp-layout-color3: #383838;\n",
       "                }\n",
       "                \n",
       "                .geemap-colab {\n",
       "                    background-color: var(--colab-primary-surface-color, white);\n",
       "                }\n",
       "                    \n",
       "                .geemap-colab .jupyter-button {\n",
       "                    --jp-layout-color3: var(--colab-primary-surface-color, white);\n",
       "                }\n",
       "            </style>\n",
       "            "
      ],
      "text/plain": [
       "<IPython.core.display.HTML object>"
      ]
     },
     "metadata": {},
     "output_type": "display_data"
    }
   ],
   "source": [
    "#Region = ee.Geometry.Rectangle(130.9825040586519,-12.591236530819916, 130.80603616314409,-12.482652274143653)\n",
    "#START_DATE = '2023-10-26'\n",
    "#END_DATE = '2023-10-27'\n",
    "#CLOUD_FILTER = 60\n",
    "#CLD_PRB_THRESH = 40\n",
    "#NIR_DRK_THRESH = 0.15\n",
    "#CLD_PRJ_DIST = 2\n",
    "#BUFFER = 100"
   ]
  },
  {
   "cell_type": "code",
   "execution_count": 24,
   "id": "45a51aea",
   "metadata": {},
   "outputs": [
    {
     "data": {
      "text/html": [
       "\n",
       "            <style>\n",
       "                .geemap-dark {\n",
       "                    --jp-widgets-color: white;\n",
       "                    --jp-widgets-label-color: white;\n",
       "                    --jp-ui-font-color1: white;\n",
       "                    --jp-layout-color2: #454545;\n",
       "                    background-color: #383838;\n",
       "                }\n",
       "                    \n",
       "                .geemap-dark .jupyter-button {\n",
       "                    --jp-layout-color3: #383838;\n",
       "                }\n",
       "                \n",
       "                .geemap-colab {\n",
       "                    background-color: var(--colab-primary-surface-color, white);\n",
       "                }\n",
       "                    \n",
       "                .geemap-colab .jupyter-button {\n",
       "                    --jp-layout-color3: var(--colab-primary-surface-color, white);\n",
       "                }\n",
       "            </style>\n",
       "            "
      ],
      "text/plain": [
       "<IPython.core.display.HTML object>"
      ]
     },
     "metadata": {},
     "output_type": "display_data"
    }
   ],
   "source": [
    "S2_SR_Cloud_Col = Get_S2_SR_Cloud_Col(AOI, start_date, end_date) "
   ]
  },
  {
   "cell_type": "code",
   "execution_count": 25,
   "id": "dc73a3ab",
   "metadata": {},
   "outputs": [
    {
     "data": {
      "text/html": [
       "\n",
       "            <style>\n",
       "                .geemap-dark {\n",
       "                    --jp-widgets-color: white;\n",
       "                    --jp-widgets-label-color: white;\n",
       "                    --jp-ui-font-color1: white;\n",
       "                    --jp-layout-color2: #454545;\n",
       "                    background-color: #383838;\n",
       "                }\n",
       "                    \n",
       "                .geemap-dark .jupyter-button {\n",
       "                    --jp-layout-color3: #383838;\n",
       "                }\n",
       "                \n",
       "                .geemap-colab {\n",
       "                    background-color: var(--colab-primary-surface-color, white);\n",
       "                }\n",
       "                    \n",
       "                .geemap-colab .jupyter-button {\n",
       "                    --jp-layout-color3: var(--colab-primary-surface-color, white);\n",
       "                }\n",
       "            </style>\n",
       "            "
      ],
      "text/plain": [
       "<IPython.core.display.HTML object>"
      ]
     },
     "metadata": {},
     "output_type": "display_data"
    }
   ],
   "source": [
    "def apply_cld_shdw_mask(img):\n",
    "    # Subset the cloudmask band and invert it so clouds/shadow are 0, else 1.\n",
    "    not_cld_shdw = img.select('cloudmask').Not()\n",
    "\n",
    "    # Subset reflectance bands and update their masks, return the result.\n",
    "    return img.select('B.*').updateMask(not_cld_shdw)"
   ]
  },
  {
   "cell_type": "code",
   "execution_count": 26,
   "id": "39642614",
   "metadata": {},
   "outputs": [
    {
     "data": {
      "text/html": [
       "\n",
       "            <style>\n",
       "                .geemap-dark {\n",
       "                    --jp-widgets-color: white;\n",
       "                    --jp-widgets-label-color: white;\n",
       "                    --jp-ui-font-color1: white;\n",
       "                    --jp-layout-color2: #454545;\n",
       "                    background-color: #383838;\n",
       "                }\n",
       "                    \n",
       "                .geemap-dark .jupyter-button {\n",
       "                    --jp-layout-color3: #383838;\n",
       "                }\n",
       "                \n",
       "                .geemap-colab {\n",
       "                    background-color: var(--colab-primary-surface-color, white);\n",
       "                }\n",
       "                    \n",
       "                .geemap-colab .jupyter-button {\n",
       "                    --jp-layout-color3: var(--colab-primary-surface-color, white);\n",
       "                }\n",
       "            </style>\n",
       "            "
      ],
      "text/plain": [
       "<IPython.core.display.HTML object>"
      ]
     },
     "metadata": {},
     "output_type": "display_data"
    }
   ],
   "source": [
    "S2_SR_Median = (S2_SR_Cloud_Col.map(add_cld_shdw_mask)\n",
    "                             .map(apply_cld_shdw_mask)\n",
    "                             .median())"
   ]
  },
  {
   "cell_type": "code",
   "execution_count": 27,
   "id": "5773240c",
   "metadata": {},
   "outputs": [
    {
     "data": {
      "text/html": [
       "\n",
       "            <style>\n",
       "                .geemap-dark {\n",
       "                    --jp-widgets-color: white;\n",
       "                    --jp-widgets-label-color: white;\n",
       "                    --jp-ui-font-color1: white;\n",
       "                    --jp-layout-color2: #454545;\n",
       "                    background-color: #383838;\n",
       "                }\n",
       "                    \n",
       "                .geemap-dark .jupyter-button {\n",
       "                    --jp-layout-color3: #383838;\n",
       "                }\n",
       "                \n",
       "                .geemap-colab {\n",
       "                    background-color: var(--colab-primary-surface-color, white);\n",
       "                }\n",
       "                    \n",
       "                .geemap-colab .jupyter-button {\n",
       "                    --jp-layout-color3: var(--colab-primary-surface-color, white);\n",
       "                }\n",
       "            </style>\n",
       "            "
      ],
      "text/plain": [
       "<IPython.core.display.HTML object>"
      ]
     },
     "metadata": {},
     "output_type": "display_data"
    },
    {
     "data": {
      "text/html": [
       "<div style=\"width:100%;\"><div style=\"position:relative;width:100%;height:0;padding-bottom:60%;\"><span style=\"color:#565656\">Make this Notebook Trusted to load map: File -> Trust Notebook</span><iframe srcdoc=\"&lt;!DOCTYPE html&gt;\n",
       "&lt;html&gt;\n",
       "&lt;head&gt;\n",
       "    \n",
       "    &lt;meta http-equiv=&quot;content-type&quot; content=&quot;text/html; charset=UTF-8&quot; /&gt;\n",
       "    \n",
       "        &lt;script&gt;\n",
       "            L_NO_TOUCH = false;\n",
       "            L_DISABLE_3D = false;\n",
       "        &lt;/script&gt;\n",
       "    \n",
       "    &lt;style&gt;html, body {width: 100%;height: 100%;margin: 0;padding: 0;}&lt;/style&gt;\n",
       "    &lt;style&gt;#map {position:absolute;top:0;bottom:0;right:0;left:0;}&lt;/style&gt;\n",
       "    &lt;script src=&quot;https://cdn.jsdelivr.net/npm/leaflet@1.9.3/dist/leaflet.js&quot;&gt;&lt;/script&gt;\n",
       "    &lt;script src=&quot;https://code.jquery.com/jquery-3.7.1.min.js&quot;&gt;&lt;/script&gt;\n",
       "    &lt;script src=&quot;https://cdn.jsdelivr.net/npm/bootstrap@5.2.2/dist/js/bootstrap.bundle.min.js&quot;&gt;&lt;/script&gt;\n",
       "    &lt;script src=&quot;https://cdnjs.cloudflare.com/ajax/libs/Leaflet.awesome-markers/2.0.2/leaflet.awesome-markers.js&quot;&gt;&lt;/script&gt;\n",
       "    &lt;link rel=&quot;stylesheet&quot; href=&quot;https://cdn.jsdelivr.net/npm/leaflet@1.9.3/dist/leaflet.css&quot;/&gt;\n",
       "    &lt;link rel=&quot;stylesheet&quot; href=&quot;https://cdn.jsdelivr.net/npm/bootstrap@5.2.2/dist/css/bootstrap.min.css&quot;/&gt;\n",
       "    &lt;link rel=&quot;stylesheet&quot; href=&quot;https://netdna.bootstrapcdn.com/bootstrap/3.0.0/css/bootstrap.min.css&quot;/&gt;\n",
       "    &lt;link rel=&quot;stylesheet&quot; href=&quot;https://cdn.jsdelivr.net/npm/@fortawesome/fontawesome-free@6.2.0/css/all.min.css&quot;/&gt;\n",
       "    &lt;link rel=&quot;stylesheet&quot; href=&quot;https://cdnjs.cloudflare.com/ajax/libs/Leaflet.awesome-markers/2.0.2/leaflet.awesome-markers.css&quot;/&gt;\n",
       "    &lt;link rel=&quot;stylesheet&quot; href=&quot;https://cdn.jsdelivr.net/gh/python-visualization/folium/folium/templates/leaflet.awesome.rotate.min.css&quot;/&gt;\n",
       "    \n",
       "            &lt;meta name=&quot;viewport&quot; content=&quot;width=device-width,\n",
       "                initial-scale=1.0, maximum-scale=1.0, user-scalable=no&quot; /&gt;\n",
       "            &lt;style&gt;\n",
       "                #map_2400aaded8818707df10d5eb860dc2fd {\n",
       "                    position: relative;\n",
       "                    width: 100.0%;\n",
       "                    height: 100.0%;\n",
       "                    left: 0.0%;\n",
       "                    top: 0.0%;\n",
       "                }\n",
       "                .leaflet-container { font-size: 1rem; }\n",
       "            &lt;/style&gt;\n",
       "        \n",
       "&lt;/head&gt;\n",
       "&lt;body&gt;\n",
       "    \n",
       "    \n",
       "            &lt;div class=&quot;folium-map&quot; id=&quot;map_2400aaded8818707df10d5eb860dc2fd&quot; &gt;&lt;/div&gt;\n",
       "        \n",
       "&lt;/body&gt;\n",
       "&lt;script&gt;\n",
       "    \n",
       "    \n",
       "            var map_2400aaded8818707df10d5eb860dc2fd = L.map(\n",
       "                &quot;map_2400aaded8818707df10d5eb860dc2fd&quot;,\n",
       "                {\n",
       "                    center: [-12.522845892065048, 130.918857699303],\n",
       "                    crs: L.CRS.EPSG3857,\n",
       "                    zoom: 12,\n",
       "                    zoomControl: true,\n",
       "                    preferCanvas: false,\n",
       "                }\n",
       "            );\n",
       "\n",
       "            \n",
       "\n",
       "        \n",
       "    \n",
       "            var tile_layer_07ba5035cbaba61df5dcc877719020b0 = L.tileLayer(\n",
       "                &quot;https://tile.openstreetmap.org/{z}/{x}/{y}.png&quot;,\n",
       "                {&quot;attribution&quot;: &quot;\\u0026copy; \\u003ca href=\\&quot;https://www.openstreetmap.org/copyright\\&quot;\\u003eOpenStreetMap\\u003c/a\\u003e contributors&quot;, &quot;detectRetina&quot;: false, &quot;maxNativeZoom&quot;: 19, &quot;maxZoom&quot;: 19, &quot;minZoom&quot;: 0, &quot;noWrap&quot;: false, &quot;opacity&quot;: 1, &quot;subdomains&quot;: &quot;abc&quot;, &quot;tms&quot;: false}\n",
       "            );\n",
       "        \n",
       "    \n",
       "            tile_layer_07ba5035cbaba61df5dcc877719020b0.addTo(map_2400aaded8818707df10d5eb860dc2fd);\n",
       "        \n",
       "    \n",
       "            var tile_layer_450b20f67aaa9b2be931f36d3a3bb7c0 = L.tileLayer(\n",
       "                &quot;https://earthengine.googleapis.com/v1/projects/earthengine-legacy/maps/49419c0ff54432670edb8cb71e023d24-0c1c0f485c54740a25209bea764557c0/tiles/{z}/{x}/{y}&quot;,\n",
       "                {&quot;attribution&quot;: &quot;Map Data \\u0026copy; \\u003ca href=\\&quot;https://earthengine.google.com/\\&quot;\\u003eGoogle Earth Engine\\u003c/a\\u003e&quot;, &quot;detectRetina&quot;: false, &quot;maxNativeZoom&quot;: 18, &quot;maxZoom&quot;: 18, &quot;minZoom&quot;: 9, &quot;noWrap&quot;: false, &quot;opacity&quot;: 1, &quot;subdomains&quot;: &quot;abc&quot;, &quot;tms&quot;: false}\n",
       "            );\n",
       "        \n",
       "    \n",
       "            tile_layer_450b20f67aaa9b2be931f36d3a3bb7c0.addTo(map_2400aaded8818707df10d5eb860dc2fd);\n",
       "        \n",
       "    \n",
       "            var layer_control_5e0905579e339ad86cfacf20ab9013a9_layers = {\n",
       "                base_layers : {\n",
       "                    &quot;openstreetmap&quot; : tile_layer_07ba5035cbaba61df5dcc877719020b0,\n",
       "                },\n",
       "                overlays :  {\n",
       "                    &quot;S2 cloud-free mosaic&quot; : tile_layer_450b20f67aaa9b2be931f36d3a3bb7c0,\n",
       "                },\n",
       "            };\n",
       "            let layer_control_5e0905579e339ad86cfacf20ab9013a9 = L.control.layers(\n",
       "                layer_control_5e0905579e339ad86cfacf20ab9013a9_layers.base_layers,\n",
       "                layer_control_5e0905579e339ad86cfacf20ab9013a9_layers.overlays,\n",
       "                {&quot;autoZIndex&quot;: true, &quot;collapsed&quot;: true, &quot;position&quot;: &quot;topright&quot;}\n",
       "            ).addTo(map_2400aaded8818707df10d5eb860dc2fd);\n",
       "\n",
       "        \n",
       "&lt;/script&gt;\n",
       "&lt;/html&gt;\" style=\"position:absolute;width:100%;height:100%;left:0;top:0;border:none !important;\" allowfullscreen webkitallowfullscreen mozallowfullscreen></iframe></div></div>"
      ],
      "text/plain": [
       "<folium.folium.Map at 0x7f09b31be5d0>"
      ]
     },
     "metadata": {},
     "output_type": "display_data"
    }
   ],
   "source": [
    "# Create a folium map object.\n",
    "center = AOI.centroid(10).coordinates().reverse().getInfo()\n",
    "m = folium.Map(location=center, zoom_start=12)\n",
    "\n",
    "# Add layers to the folium map.\n",
    "m.add_ee_layer(S2_SR_Median,\n",
    "                {'bands': ['B4', 'B3', 'B2'], 'min': 0, 'max': 2500, 'gamma': 1.1},\n",
    "                'S2 cloud-free mosaic', True, 1, 9)\n",
    "\n",
    "# Add a layer control panel to the map.\n",
    "m.add_child(folium.LayerControl())\n",
    "\n",
    "# Display the map.\n",
    "display(m)"
   ]
  },
  {
   "cell_type": "markdown",
   "id": "01da0771-51fe-47b3-9fbf-8aacae5bfd3b",
   "metadata": {},
   "source": [
    "# **Atmospheric Correction**"
   ]
  },
  {
   "cell_type": "code",
   "execution_count": 28,
   "id": "90c4896f",
   "metadata": {},
   "outputs": [
    {
     "data": {
      "text/html": [
       "\n",
       "            <style>\n",
       "                .geemap-dark {\n",
       "                    --jp-widgets-color: white;\n",
       "                    --jp-widgets-label-color: white;\n",
       "                    --jp-ui-font-color1: white;\n",
       "                    --jp-layout-color2: #454545;\n",
       "                    background-color: #383838;\n",
       "                }\n",
       "                    \n",
       "                .geemap-dark .jupyter-button {\n",
       "                    --jp-layout-color3: #383838;\n",
       "                }\n",
       "                \n",
       "                .geemap-colab {\n",
       "                    background-color: var(--colab-primary-surface-color, white);\n",
       "                }\n",
       "                    \n",
       "                .geemap-colab .jupyter-button {\n",
       "                    --jp-layout-color3: var(--colab-primary-surface-color, white);\n",
       "                }\n",
       "            </style>\n",
       "            "
      ],
      "text/plain": [
       "<IPython.core.display.HTML object>"
      ]
     },
     "metadata": {},
     "output_type": "display_data"
    }
   ],
   "source": [
    "#https://github.com/ridhodwid/gee-atmcorr-S2/blob/kaggle-usage/bin/atmospheric.py\n",
    "\n",
    "import requests\n",
    "\n",
    "url = \"https://github.com/ridhodwid/gee-atmcorr-S2/blob/kaggle-usage/bin/atmospheric.py\"\n",
    "response = requests.get(url)\n",
    "\n",
    "with open(\"filename\", \"wb\") as file:\n",
    "    file.write(response.content)"
   ]
  },
  {
   "cell_type": "code",
   "execution_count": 29,
   "id": "f0d8485d",
   "metadata": {},
   "outputs": [
    {
     "data": {
      "text/html": [
       "\n",
       "            <style>\n",
       "                .geemap-dark {\n",
       "                    --jp-widgets-color: white;\n",
       "                    --jp-widgets-label-color: white;\n",
       "                    --jp-ui-font-color1: white;\n",
       "                    --jp-layout-color2: #454545;\n",
       "                    background-color: #383838;\n",
       "                }\n",
       "                    \n",
       "                .geemap-dark .jupyter-button {\n",
       "                    --jp-layout-color3: #383838;\n",
       "                }\n",
       "                \n",
       "                .geemap-colab {\n",
       "                    background-color: var(--colab-primary-surface-color, white);\n",
       "                }\n",
       "                    \n",
       "                .geemap-colab .jupyter-button {\n",
       "                    --jp-layout-color3: var(--colab-primary-surface-color, white);\n",
       "                }\n",
       "            </style>\n",
       "            "
      ],
      "text/plain": [
       "<IPython.core.display.HTML object>"
      ]
     },
     "metadata": {},
     "output_type": "display_data"
    },
    {
     "name": "stdout",
     "output_type": "stream",
     "text": [
      "fatal: destination path 'gee-atmcorr-S2' already exists and is not an empty directory.\n",
      "/home/hareeshrao/Methane/gee-atmcorr-S2\n"
     ]
    }
   ],
   "source": [
    "# Clone the repository\n",
    "!git clone https://github.com/ridhodwid/gee-atmcorr-S2.git\n",
    "\n",
    "# Move to the repository directory\n",
    "%cd gee-atmcorr-S2\n",
    "\n",
    "# Import the module\n",
    "from bin.atmospheric import Atmospheric"
   ]
  },
  {
   "cell_type": "code",
   "execution_count": 30,
   "id": "21ca4496",
   "metadata": {},
   "outputs": [
    {
     "data": {
      "text/html": [
       "\n",
       "            <style>\n",
       "                .geemap-dark {\n",
       "                    --jp-widgets-color: white;\n",
       "                    --jp-widgets-label-color: white;\n",
       "                    --jp-ui-font-color1: white;\n",
       "                    --jp-layout-color2: #454545;\n",
       "                    background-color: #383838;\n",
       "                }\n",
       "                    \n",
       "                .geemap-dark .jupyter-button {\n",
       "                    --jp-layout-color3: #383838;\n",
       "                }\n",
       "                \n",
       "                .geemap-colab {\n",
       "                    background-color: var(--colab-primary-surface-color, white);\n",
       "                }\n",
       "                    \n",
       "                .geemap-colab .jupyter-button {\n",
       "                    --jp-layout-color3: var(--colab-primary-surface-color, white);\n",
       "                }\n",
       "            </style>\n",
       "            "
      ],
      "text/plain": [
       "<IPython.core.display.HTML object>"
      ]
     },
     "metadata": {},
     "output_type": "display_data"
    }
   ],
   "source": [
    "# Import Modules\n",
    "\n",
    "from Py6S import *\n",
    "import datetime\n",
    "import math\n",
    "import os\n",
    "import sys\n",
    "sys.path.append('/content/drive/MyDrive/')\n",
    "#from atmospheric import Atmospheric"
   ]
  },
  {
   "cell_type": "code",
   "execution_count": 31,
   "id": "6c75c7cb",
   "metadata": {},
   "outputs": [
    {
     "data": {
      "text/html": [
       "\n",
       "            <style>\n",
       "                .geemap-dark {\n",
       "                    --jp-widgets-color: white;\n",
       "                    --jp-widgets-label-color: white;\n",
       "                    --jp-ui-font-color1: white;\n",
       "                    --jp-layout-color2: #454545;\n",
       "                    background-color: #383838;\n",
       "                }\n",
       "                    \n",
       "                .geemap-dark .jupyter-button {\n",
       "                    --jp-layout-color3: #383838;\n",
       "                }\n",
       "                \n",
       "                .geemap-colab {\n",
       "                    background-color: var(--colab-primary-surface-color, white);\n",
       "                }\n",
       "                    \n",
       "                .geemap-colab .jupyter-button {\n",
       "                    --jp-layout-color3: var(--colab-primary-surface-color, white);\n",
       "                }\n",
       "            </style>\n",
       "            "
      ],
      "text/plain": [
       "<IPython.core.display.HTML object>"
      ]
     },
     "metadata": {},
     "output_type": "display_data"
    },
    {
     "data": {
      "text/plain": [
       "Py6S.sixs.SixS"
      ]
     },
     "execution_count": 31,
     "metadata": {},
     "output_type": "execute_result"
    }
   ],
   "source": [
    "SixS"
   ]
  },
  {
   "cell_type": "code",
   "execution_count": 32,
   "id": "163aaf84",
   "metadata": {},
   "outputs": [
    {
     "data": {
      "text/html": [
       "\n",
       "            <style>\n",
       "                .geemap-dark {\n",
       "                    --jp-widgets-color: white;\n",
       "                    --jp-widgets-label-color: white;\n",
       "                    --jp-ui-font-color1: white;\n",
       "                    --jp-layout-color2: #454545;\n",
       "                    background-color: #383838;\n",
       "                }\n",
       "                    \n",
       "                .geemap-dark .jupyter-button {\n",
       "                    --jp-layout-color3: #383838;\n",
       "                }\n",
       "                \n",
       "                .geemap-colab {\n",
       "                    background-color: var(--colab-primary-surface-color, white);\n",
       "                }\n",
       "                    \n",
       "                .geemap-colab .jupyter-button {\n",
       "                    --jp-layout-color3: var(--colab-primary-surface-color, white);\n",
       "                }\n",
       "            </style>\n",
       "            "
      ],
      "text/plain": [
       "<IPython.core.display.HTML object>"
      ]
     },
     "metadata": {},
     "output_type": "display_data"
    }
   ],
   "source": [
    "# Mark the Region of Interest\n",
    "Region= ee.Geometry.Rectangle(130.930221, -12.503906, 130.878643, -12.576560)"
   ]
  },
  {
   "cell_type": "code",
   "execution_count": 33,
   "id": "1fb16c7d",
   "metadata": {},
   "outputs": [
    {
     "data": {
      "text/html": [
       "\n",
       "            <style>\n",
       "                .geemap-dark {\n",
       "                    --jp-widgets-color: white;\n",
       "                    --jp-widgets-label-color: white;\n",
       "                    --jp-ui-font-color1: white;\n",
       "                    --jp-layout-color2: #454545;\n",
       "                    background-color: #383838;\n",
       "                }\n",
       "                    \n",
       "                .geemap-dark .jupyter-button {\n",
       "                    --jp-layout-color3: #383838;\n",
       "                }\n",
       "                \n",
       "                .geemap-colab {\n",
       "                    background-color: var(--colab-primary-surface-color, white);\n",
       "                }\n",
       "                    \n",
       "                .geemap-colab .jupyter-button {\n",
       "                    --jp-layout-color3: var(--colab-primary-surface-color, white);\n",
       "                }\n",
       "            </style>\n",
       "            "
      ],
      "text/plain": [
       "<IPython.core.display.HTML object>"
      ]
     },
     "metadata": {},
     "output_type": "display_data"
    },
    {
     "data": {
      "text/html": [
       "<div><style>:root {\n",
       "  --font-color-primary: var(--jp-content-font-color0, rgba(0, 0, 0, 1));\n",
       "  --font-color-secondary: var(--jp-content-font-color2, rgba(0, 0, 0, 0.6));\n",
       "  --font-color-accent: rgba(123, 31, 162, 1);\n",
       "  --border-color: var(--jp-border-color2, #e0e0e0);\n",
       "  --background-color: var(--jp-layout-color0, white);\n",
       "  --background-color-row-even: var(--jp-layout-color1, white);\n",
       "  --background-color-row-odd: var(--jp-layout-color2, #eeeeee);\n",
       "}\n",
       "\n",
       "html[theme=\"dark\"],\n",
       "body[data-theme=\"dark\"],\n",
       "body.vscode-dark {\n",
       "  --font-color-primary: rgba(255, 255, 255, 1);\n",
       "  --font-color-secondary: rgba(255, 255, 255, 0.6);\n",
       "  --font-color-accent: rgb(173, 132, 190);\n",
       "  --border-color: #2e2e2e;\n",
       "  --background-color: #111111;\n",
       "  --background-color-row-even: #111111;\n",
       "  --background-color-row-odd: #313131;\n",
       "}\n",
       "\n",
       ".ee {\n",
       "  padding: 1em;\n",
       "  line-height: 1.5em;\n",
       "  min-width: 300px;\n",
       "  max-width: 1200px;\n",
       "  overflow-y: scroll;\n",
       "  max-height: 600px;\n",
       "  border: 1px solid var(--border-color);\n",
       "  font-family: monospace;\n",
       "}\n",
       "\n",
       ".ee li {\n",
       "  list-style-type: none;\n",
       "}\n",
       "\n",
       ".ee ul {\n",
       "  padding-left: 1.5em !important;\n",
       "  margin: 0;\n",
       "}\n",
       "\n",
       ".ee > ul {\n",
       "  padding-left: 0 !important;\n",
       "}\n",
       "\n",
       ".ee-open,\n",
       ".ee-shut {\n",
       "  color: var(--font-color-secondary);\n",
       "  cursor: pointer;\n",
       "  margin: 0;\n",
       "}\n",
       "\n",
       ".ee-open:hover,\n",
       ".ee-shut:hover {\n",
       "  color: var(--font-color-primary);\n",
       "}\n",
       "\n",
       ".ee-k {\n",
       "  color: var(--font-color-accent);\n",
       "  margin-right: 6px;\n",
       "}\n",
       "\n",
       ".ee-v {\n",
       "  color: var(--font-color-primary);\n",
       "}\n",
       "\n",
       ".ee-toggle {\n",
       "  display: none;\n",
       "}\n",
       "\n",
       ".ee-shut + ul {\n",
       "  display: none;\n",
       "}\n",
       "\n",
       ".ee-open + ul {\n",
       "  display: block;\n",
       "}\n",
       "\n",
       ".ee-shut::before {\n",
       "  display: inline-block;\n",
       "  content: \"▼\";\n",
       "  margin-right: 6px;\n",
       "  transform: rotate(-90deg);\n",
       "  transition: transform 0.2s;\n",
       "}\n",
       "\n",
       ".ee-open::before {\n",
       "  transform: rotate(0deg);\n",
       "  display: inline-block;\n",
       "  content: \"▼\";\n",
       "  margin-right: 6px;\n",
       "  transition: transform 0.2s;\n",
       "}\n",
       "</style><div class='ee'><ul><li><label class='ee-shut'>Image COPERNICUS/S2/20231026T013659_20231026T013655_T52LGM (16 bands)<input type='checkbox' class='ee-toggle'></label><ul><li><span class='ee-k'>type:</span><span class='ee-v'>Image</span></li><li><span class='ee-k'>id:</span><span class='ee-v'>COPERNICUS/S2/20231026T013659_20231026T013655_T52LGM</span></li><li><span class='ee-k'>version:</span><span class='ee-v'>1698300471370663</span></li><li><label class='ee-shut'>bands: List (16 elements)<input type='checkbox' class='ee-toggle'></label><ul><li><label class='ee-shut'>0: \"B1\", unsigned int16, EPSG:32752, 1830x1830 px<input type='checkbox' class='ee-toggle'></label><ul><li><span class='ee-k'>id:</span><span class='ee-v'>B1</span></li><li><span class='ee-k'>crs:</span><span class='ee-v'>EPSG:32752</span></li><li><label class='ee-shut'>crs_transform: [60, 0, 699960, 0, -60, 8700040]<input type='checkbox' class='ee-toggle'></label><ul><li><span class='ee-k'>0:</span><span class='ee-v'>60</span></li><li><span class='ee-k'>1:</span><span class='ee-v'>0</span></li><li><span class='ee-k'>2:</span><span class='ee-v'>699960</span></li><li><span class='ee-k'>3:</span><span class='ee-v'>0</span></li><li><span class='ee-k'>4:</span><span class='ee-v'>-60</span></li><li><span class='ee-k'>5:</span><span class='ee-v'>8700040</span></li></ul></li><li><label class='ee-shut'>data_type: unsigned int16<input type='checkbox' class='ee-toggle'></label><ul><li><span class='ee-k'>type:</span><span class='ee-v'>PixelType</span></li><li><span class='ee-k'>max:</span><span class='ee-v'>65535</span></li><li><span class='ee-k'>min:</span><span class='ee-v'>0</span></li><li><span class='ee-k'>precision:</span><span class='ee-v'>int</span></li></ul></li><li><label class='ee-shut'>dimensions: [1830, 1830]<input type='checkbox' class='ee-toggle'></label><ul><li><span class='ee-k'>0:</span><span class='ee-v'>1830</span></li><li><span class='ee-k'>1:</span><span class='ee-v'>1830</span></li></ul></li></ul></li><li><label class='ee-shut'>1: \"B2\", unsigned int16, EPSG:32752, 10980x10980 px<input type='checkbox' class='ee-toggle'></label><ul><li><span class='ee-k'>id:</span><span class='ee-v'>B2</span></li><li><span class='ee-k'>crs:</span><span class='ee-v'>EPSG:32752</span></li><li><label class='ee-shut'>crs_transform: [10, 0, 699960, 0, -10, 8700040]<input type='checkbox' class='ee-toggle'></label><ul><li><span class='ee-k'>0:</span><span class='ee-v'>10</span></li><li><span class='ee-k'>1:</span><span class='ee-v'>0</span></li><li><span class='ee-k'>2:</span><span class='ee-v'>699960</span></li><li><span class='ee-k'>3:</span><span class='ee-v'>0</span></li><li><span class='ee-k'>4:</span><span class='ee-v'>-10</span></li><li><span class='ee-k'>5:</span><span class='ee-v'>8700040</span></li></ul></li><li><label class='ee-shut'>data_type: unsigned int16<input type='checkbox' class='ee-toggle'></label><ul><li><span class='ee-k'>type:</span><span class='ee-v'>PixelType</span></li><li><span class='ee-k'>max:</span><span class='ee-v'>65535</span></li><li><span class='ee-k'>min:</span><span class='ee-v'>0</span></li><li><span class='ee-k'>precision:</span><span class='ee-v'>int</span></li></ul></li><li><label class='ee-shut'>dimensions: [10980, 10980]<input type='checkbox' class='ee-toggle'></label><ul><li><span class='ee-k'>0:</span><span class='ee-v'>10980</span></li><li><span class='ee-k'>1:</span><span class='ee-v'>10980</span></li></ul></li></ul></li><li><label class='ee-shut'>2: \"B3\", unsigned int16, EPSG:32752, 10980x10980 px<input type='checkbox' class='ee-toggle'></label><ul><li><span class='ee-k'>id:</span><span class='ee-v'>B3</span></li><li><span class='ee-k'>crs:</span><span class='ee-v'>EPSG:32752</span></li><li><label class='ee-shut'>crs_transform: [10, 0, 699960, 0, -10, 8700040]<input type='checkbox' class='ee-toggle'></label><ul><li><span class='ee-k'>0:</span><span class='ee-v'>10</span></li><li><span class='ee-k'>1:</span><span class='ee-v'>0</span></li><li><span class='ee-k'>2:</span><span class='ee-v'>699960</span></li><li><span class='ee-k'>3:</span><span class='ee-v'>0</span></li><li><span class='ee-k'>4:</span><span class='ee-v'>-10</span></li><li><span class='ee-k'>5:</span><span class='ee-v'>8700040</span></li></ul></li><li><label class='ee-shut'>data_type: unsigned int16<input type='checkbox' class='ee-toggle'></label><ul><li><span class='ee-k'>type:</span><span class='ee-v'>PixelType</span></li><li><span class='ee-k'>max:</span><span class='ee-v'>65535</span></li><li><span class='ee-k'>min:</span><span class='ee-v'>0</span></li><li><span class='ee-k'>precision:</span><span class='ee-v'>int</span></li></ul></li><li><label class='ee-shut'>dimensions: [10980, 10980]<input type='checkbox' class='ee-toggle'></label><ul><li><span class='ee-k'>0:</span><span class='ee-v'>10980</span></li><li><span class='ee-k'>1:</span><span class='ee-v'>10980</span></li></ul></li></ul></li><li><label class='ee-shut'>3: \"B4\", unsigned int16, EPSG:32752, 10980x10980 px<input type='checkbox' class='ee-toggle'></label><ul><li><span class='ee-k'>id:</span><span class='ee-v'>B4</span></li><li><span class='ee-k'>crs:</span><span class='ee-v'>EPSG:32752</span></li><li><label class='ee-shut'>crs_transform: [10, 0, 699960, 0, -10, 8700040]<input type='checkbox' class='ee-toggle'></label><ul><li><span class='ee-k'>0:</span><span class='ee-v'>10</span></li><li><span class='ee-k'>1:</span><span class='ee-v'>0</span></li><li><span class='ee-k'>2:</span><span class='ee-v'>699960</span></li><li><span class='ee-k'>3:</span><span class='ee-v'>0</span></li><li><span class='ee-k'>4:</span><span class='ee-v'>-10</span></li><li><span class='ee-k'>5:</span><span class='ee-v'>8700040</span></li></ul></li><li><label class='ee-shut'>data_type: unsigned int16<input type='checkbox' class='ee-toggle'></label><ul><li><span class='ee-k'>type:</span><span class='ee-v'>PixelType</span></li><li><span class='ee-k'>max:</span><span class='ee-v'>65535</span></li><li><span class='ee-k'>min:</span><span class='ee-v'>0</span></li><li><span class='ee-k'>precision:</span><span class='ee-v'>int</span></li></ul></li><li><label class='ee-shut'>dimensions: [10980, 10980]<input type='checkbox' class='ee-toggle'></label><ul><li><span class='ee-k'>0:</span><span class='ee-v'>10980</span></li><li><span class='ee-k'>1:</span><span class='ee-v'>10980</span></li></ul></li></ul></li><li><label class='ee-shut'>4: \"B5\", unsigned int16, EPSG:32752, 5490x5490 px<input type='checkbox' class='ee-toggle'></label><ul><li><span class='ee-k'>id:</span><span class='ee-v'>B5</span></li><li><span class='ee-k'>crs:</span><span class='ee-v'>EPSG:32752</span></li><li><label class='ee-shut'>crs_transform: [20, 0, 699960, 0, -20, 8700040]<input type='checkbox' class='ee-toggle'></label><ul><li><span class='ee-k'>0:</span><span class='ee-v'>20</span></li><li><span class='ee-k'>1:</span><span class='ee-v'>0</span></li><li><span class='ee-k'>2:</span><span class='ee-v'>699960</span></li><li><span class='ee-k'>3:</span><span class='ee-v'>0</span></li><li><span class='ee-k'>4:</span><span class='ee-v'>-20</span></li><li><span class='ee-k'>5:</span><span class='ee-v'>8700040</span></li></ul></li><li><label class='ee-shut'>data_type: unsigned int16<input type='checkbox' class='ee-toggle'></label><ul><li><span class='ee-k'>type:</span><span class='ee-v'>PixelType</span></li><li><span class='ee-k'>max:</span><span class='ee-v'>65535</span></li><li><span class='ee-k'>min:</span><span class='ee-v'>0</span></li><li><span class='ee-k'>precision:</span><span class='ee-v'>int</span></li></ul></li><li><label class='ee-shut'>dimensions: [5490, 5490]<input type='checkbox' class='ee-toggle'></label><ul><li><span class='ee-k'>0:</span><span class='ee-v'>5490</span></li><li><span class='ee-k'>1:</span><span class='ee-v'>5490</span></li></ul></li></ul></li><li><label class='ee-shut'>5: \"B6\", unsigned int16, EPSG:32752, 5490x5490 px<input type='checkbox' class='ee-toggle'></label><ul><li><span class='ee-k'>id:</span><span class='ee-v'>B6</span></li><li><span class='ee-k'>crs:</span><span class='ee-v'>EPSG:32752</span></li><li><label class='ee-shut'>crs_transform: [20, 0, 699960, 0, -20, 8700040]<input type='checkbox' class='ee-toggle'></label><ul><li><span class='ee-k'>0:</span><span class='ee-v'>20</span></li><li><span class='ee-k'>1:</span><span class='ee-v'>0</span></li><li><span class='ee-k'>2:</span><span class='ee-v'>699960</span></li><li><span class='ee-k'>3:</span><span class='ee-v'>0</span></li><li><span class='ee-k'>4:</span><span class='ee-v'>-20</span></li><li><span class='ee-k'>5:</span><span class='ee-v'>8700040</span></li></ul></li><li><label class='ee-shut'>data_type: unsigned int16<input type='checkbox' class='ee-toggle'></label><ul><li><span class='ee-k'>type:</span><span class='ee-v'>PixelType</span></li><li><span class='ee-k'>max:</span><span class='ee-v'>65535</span></li><li><span class='ee-k'>min:</span><span class='ee-v'>0</span></li><li><span class='ee-k'>precision:</span><span class='ee-v'>int</span></li></ul></li><li><label class='ee-shut'>dimensions: [5490, 5490]<input type='checkbox' class='ee-toggle'></label><ul><li><span class='ee-k'>0:</span><span class='ee-v'>5490</span></li><li><span class='ee-k'>1:</span><span class='ee-v'>5490</span></li></ul></li></ul></li><li><label class='ee-shut'>6: \"B7\", unsigned int16, EPSG:32752, 5490x5490 px<input type='checkbox' class='ee-toggle'></label><ul><li><span class='ee-k'>id:</span><span class='ee-v'>B7</span></li><li><span class='ee-k'>crs:</span><span class='ee-v'>EPSG:32752</span></li><li><label class='ee-shut'>crs_transform: [20, 0, 699960, 0, -20, 8700040]<input type='checkbox' class='ee-toggle'></label><ul><li><span class='ee-k'>0:</span><span class='ee-v'>20</span></li><li><span class='ee-k'>1:</span><span class='ee-v'>0</span></li><li><span class='ee-k'>2:</span><span class='ee-v'>699960</span></li><li><span class='ee-k'>3:</span><span class='ee-v'>0</span></li><li><span class='ee-k'>4:</span><span class='ee-v'>-20</span></li><li><span class='ee-k'>5:</span><span class='ee-v'>8700040</span></li></ul></li><li><label class='ee-shut'>data_type: unsigned int16<input type='checkbox' class='ee-toggle'></label><ul><li><span class='ee-k'>type:</span><span class='ee-v'>PixelType</span></li><li><span class='ee-k'>max:</span><span class='ee-v'>65535</span></li><li><span class='ee-k'>min:</span><span class='ee-v'>0</span></li><li><span class='ee-k'>precision:</span><span class='ee-v'>int</span></li></ul></li><li><label class='ee-shut'>dimensions: [5490, 5490]<input type='checkbox' class='ee-toggle'></label><ul><li><span class='ee-k'>0:</span><span class='ee-v'>5490</span></li><li><span class='ee-k'>1:</span><span class='ee-v'>5490</span></li></ul></li></ul></li><li><label class='ee-shut'>7: \"B8\", unsigned int16, EPSG:32752, 10980x10980 px<input type='checkbox' class='ee-toggle'></label><ul><li><span class='ee-k'>id:</span><span class='ee-v'>B8</span></li><li><span class='ee-k'>crs:</span><span class='ee-v'>EPSG:32752</span></li><li><label class='ee-shut'>crs_transform: [10, 0, 699960, 0, -10, 8700040]<input type='checkbox' class='ee-toggle'></label><ul><li><span class='ee-k'>0:</span><span class='ee-v'>10</span></li><li><span class='ee-k'>1:</span><span class='ee-v'>0</span></li><li><span class='ee-k'>2:</span><span class='ee-v'>699960</span></li><li><span class='ee-k'>3:</span><span class='ee-v'>0</span></li><li><span class='ee-k'>4:</span><span class='ee-v'>-10</span></li><li><span class='ee-k'>5:</span><span class='ee-v'>8700040</span></li></ul></li><li><label class='ee-shut'>data_type: unsigned int16<input type='checkbox' class='ee-toggle'></label><ul><li><span class='ee-k'>type:</span><span class='ee-v'>PixelType</span></li><li><span class='ee-k'>max:</span><span class='ee-v'>65535</span></li><li><span class='ee-k'>min:</span><span class='ee-v'>0</span></li><li><span class='ee-k'>precision:</span><span class='ee-v'>int</span></li></ul></li><li><label class='ee-shut'>dimensions: [10980, 10980]<input type='checkbox' class='ee-toggle'></label><ul><li><span class='ee-k'>0:</span><span class='ee-v'>10980</span></li><li><span class='ee-k'>1:</span><span class='ee-v'>10980</span></li></ul></li></ul></li><li><label class='ee-shut'>8: \"B8A\", unsigned int16, EPSG:32752, 5490x5490 px<input type='checkbox' class='ee-toggle'></label><ul><li><span class='ee-k'>id:</span><span class='ee-v'>B8A</span></li><li><span class='ee-k'>crs:</span><span class='ee-v'>EPSG:32752</span></li><li><label class='ee-shut'>crs_transform: [20, 0, 699960, 0, -20, 8700040]<input type='checkbox' class='ee-toggle'></label><ul><li><span class='ee-k'>0:</span><span class='ee-v'>20</span></li><li><span class='ee-k'>1:</span><span class='ee-v'>0</span></li><li><span class='ee-k'>2:</span><span class='ee-v'>699960</span></li><li><span class='ee-k'>3:</span><span class='ee-v'>0</span></li><li><span class='ee-k'>4:</span><span class='ee-v'>-20</span></li><li><span class='ee-k'>5:</span><span class='ee-v'>8700040</span></li></ul></li><li><label class='ee-shut'>data_type: unsigned int16<input type='checkbox' class='ee-toggle'></label><ul><li><span class='ee-k'>type:</span><span class='ee-v'>PixelType</span></li><li><span class='ee-k'>max:</span><span class='ee-v'>65535</span></li><li><span class='ee-k'>min:</span><span class='ee-v'>0</span></li><li><span class='ee-k'>precision:</span><span class='ee-v'>int</span></li></ul></li><li><label class='ee-shut'>dimensions: [5490, 5490]<input type='checkbox' class='ee-toggle'></label><ul><li><span class='ee-k'>0:</span><span class='ee-v'>5490</span></li><li><span class='ee-k'>1:</span><span class='ee-v'>5490</span></li></ul></li></ul></li><li><label class='ee-shut'>9: \"B9\", unsigned int16, EPSG:32752, 1830x1830 px<input type='checkbox' class='ee-toggle'></label><ul><li><span class='ee-k'>id:</span><span class='ee-v'>B9</span></li><li><span class='ee-k'>crs:</span><span class='ee-v'>EPSG:32752</span></li><li><label class='ee-shut'>crs_transform: [60, 0, 699960, 0, -60, 8700040]<input type='checkbox' class='ee-toggle'></label><ul><li><span class='ee-k'>0:</span><span class='ee-v'>60</span></li><li><span class='ee-k'>1:</span><span class='ee-v'>0</span></li><li><span class='ee-k'>2:</span><span class='ee-v'>699960</span></li><li><span class='ee-k'>3:</span><span class='ee-v'>0</span></li><li><span class='ee-k'>4:</span><span class='ee-v'>-60</span></li><li><span class='ee-k'>5:</span><span class='ee-v'>8700040</span></li></ul></li><li><label class='ee-shut'>data_type: unsigned int16<input type='checkbox' class='ee-toggle'></label><ul><li><span class='ee-k'>type:</span><span class='ee-v'>PixelType</span></li><li><span class='ee-k'>max:</span><span class='ee-v'>65535</span></li><li><span class='ee-k'>min:</span><span class='ee-v'>0</span></li><li><span class='ee-k'>precision:</span><span class='ee-v'>int</span></li></ul></li><li><label class='ee-shut'>dimensions: [1830, 1830]<input type='checkbox' class='ee-toggle'></label><ul><li><span class='ee-k'>0:</span><span class='ee-v'>1830</span></li><li><span class='ee-k'>1:</span><span class='ee-v'>1830</span></li></ul></li></ul></li><li><label class='ee-shut'>10: \"B10\", unsigned int16, EPSG:32752, 1830x1830 px<input type='checkbox' class='ee-toggle'></label><ul><li><span class='ee-k'>id:</span><span class='ee-v'>B10</span></li><li><span class='ee-k'>crs:</span><span class='ee-v'>EPSG:32752</span></li><li><label class='ee-shut'>crs_transform: [60, 0, 699960, 0, -60, 8700040]<input type='checkbox' class='ee-toggle'></label><ul><li><span class='ee-k'>0:</span><span class='ee-v'>60</span></li><li><span class='ee-k'>1:</span><span class='ee-v'>0</span></li><li><span class='ee-k'>2:</span><span class='ee-v'>699960</span></li><li><span class='ee-k'>3:</span><span class='ee-v'>0</span></li><li><span class='ee-k'>4:</span><span class='ee-v'>-60</span></li><li><span class='ee-k'>5:</span><span class='ee-v'>8700040</span></li></ul></li><li><label class='ee-shut'>data_type: unsigned int16<input type='checkbox' class='ee-toggle'></label><ul><li><span class='ee-k'>type:</span><span class='ee-v'>PixelType</span></li><li><span class='ee-k'>max:</span><span class='ee-v'>65535</span></li><li><span class='ee-k'>min:</span><span class='ee-v'>0</span></li><li><span class='ee-k'>precision:</span><span class='ee-v'>int</span></li></ul></li><li><label class='ee-shut'>dimensions: [1830, 1830]<input type='checkbox' class='ee-toggle'></label><ul><li><span class='ee-k'>0:</span><span class='ee-v'>1830</span></li><li><span class='ee-k'>1:</span><span class='ee-v'>1830</span></li></ul></li></ul></li><li><label class='ee-shut'>11: \"B11\", unsigned int16, EPSG:32752, 5490x5490 px<input type='checkbox' class='ee-toggle'></label><ul><li><span class='ee-k'>id:</span><span class='ee-v'>B11</span></li><li><span class='ee-k'>crs:</span><span class='ee-v'>EPSG:32752</span></li><li><label class='ee-shut'>crs_transform: [20, 0, 699960, 0, -20, 8700040]<input type='checkbox' class='ee-toggle'></label><ul><li><span class='ee-k'>0:</span><span class='ee-v'>20</span></li><li><span class='ee-k'>1:</span><span class='ee-v'>0</span></li><li><span class='ee-k'>2:</span><span class='ee-v'>699960</span></li><li><span class='ee-k'>3:</span><span class='ee-v'>0</span></li><li><span class='ee-k'>4:</span><span class='ee-v'>-20</span></li><li><span class='ee-k'>5:</span><span class='ee-v'>8700040</span></li></ul></li><li><label class='ee-shut'>data_type: unsigned int16<input type='checkbox' class='ee-toggle'></label><ul><li><span class='ee-k'>type:</span><span class='ee-v'>PixelType</span></li><li><span class='ee-k'>max:</span><span class='ee-v'>65535</span></li><li><span class='ee-k'>min:</span><span class='ee-v'>0</span></li><li><span class='ee-k'>precision:</span><span class='ee-v'>int</span></li></ul></li><li><label class='ee-shut'>dimensions: [5490, 5490]<input type='checkbox' class='ee-toggle'></label><ul><li><span class='ee-k'>0:</span><span class='ee-v'>5490</span></li><li><span class='ee-k'>1:</span><span class='ee-v'>5490</span></li></ul></li></ul></li><li><label class='ee-shut'>12: \"B12\", unsigned int16, EPSG:32752, 5490x5490 px<input type='checkbox' class='ee-toggle'></label><ul><li><span class='ee-k'>id:</span><span class='ee-v'>B12</span></li><li><span class='ee-k'>crs:</span><span class='ee-v'>EPSG:32752</span></li><li><label class='ee-shut'>crs_transform: [20, 0, 699960, 0, -20, 8700040]<input type='checkbox' class='ee-toggle'></label><ul><li><span class='ee-k'>0:</span><span class='ee-v'>20</span></li><li><span class='ee-k'>1:</span><span class='ee-v'>0</span></li><li><span class='ee-k'>2:</span><span class='ee-v'>699960</span></li><li><span class='ee-k'>3:</span><span class='ee-v'>0</span></li><li><span class='ee-k'>4:</span><span class='ee-v'>-20</span></li><li><span class='ee-k'>5:</span><span class='ee-v'>8700040</span></li></ul></li><li><label class='ee-shut'>data_type: unsigned int16<input type='checkbox' class='ee-toggle'></label><ul><li><span class='ee-k'>type:</span><span class='ee-v'>PixelType</span></li><li><span class='ee-k'>max:</span><span class='ee-v'>65535</span></li><li><span class='ee-k'>min:</span><span class='ee-v'>0</span></li><li><span class='ee-k'>precision:</span><span class='ee-v'>int</span></li></ul></li><li><label class='ee-shut'>dimensions: [5490, 5490]<input type='checkbox' class='ee-toggle'></label><ul><li><span class='ee-k'>0:</span><span class='ee-v'>5490</span></li><li><span class='ee-k'>1:</span><span class='ee-v'>5490</span></li></ul></li></ul></li><li><label class='ee-shut'>13: \"QA10\", unsigned int16, EPSG:32752, 10980x10980 px<input type='checkbox' class='ee-toggle'></label><ul><li><span class='ee-k'>id:</span><span class='ee-v'>QA10</span></li><li><span class='ee-k'>crs:</span><span class='ee-v'>EPSG:32752</span></li><li><label class='ee-shut'>crs_transform: [10, 0, 699960, 0, -10, 8700040]<input type='checkbox' class='ee-toggle'></label><ul><li><span class='ee-k'>0:</span><span class='ee-v'>10</span></li><li><span class='ee-k'>1:</span><span class='ee-v'>0</span></li><li><span class='ee-k'>2:</span><span class='ee-v'>699960</span></li><li><span class='ee-k'>3:</span><span class='ee-v'>0</span></li><li><span class='ee-k'>4:</span><span class='ee-v'>-10</span></li><li><span class='ee-k'>5:</span><span class='ee-v'>8700040</span></li></ul></li><li><label class='ee-shut'>data_type: unsigned int16<input type='checkbox' class='ee-toggle'></label><ul><li><span class='ee-k'>type:</span><span class='ee-v'>PixelType</span></li><li><span class='ee-k'>max:</span><span class='ee-v'>65535</span></li><li><span class='ee-k'>min:</span><span class='ee-v'>0</span></li><li><span class='ee-k'>precision:</span><span class='ee-v'>int</span></li></ul></li><li><label class='ee-shut'>dimensions: [10980, 10980]<input type='checkbox' class='ee-toggle'></label><ul><li><span class='ee-k'>0:</span><span class='ee-v'>10980</span></li><li><span class='ee-k'>1:</span><span class='ee-v'>10980</span></li></ul></li></ul></li><li><label class='ee-shut'>14: \"QA20\", unsigned int32, EPSG:32752, 5490x5490 px<input type='checkbox' class='ee-toggle'></label><ul><li><span class='ee-k'>id:</span><span class='ee-v'>QA20</span></li><li><span class='ee-k'>crs:</span><span class='ee-v'>EPSG:32752</span></li><li><label class='ee-shut'>crs_transform: [20, 0, 699960, 0, -20, 8700040]<input type='checkbox' class='ee-toggle'></label><ul><li><span class='ee-k'>0:</span><span class='ee-v'>20</span></li><li><span class='ee-k'>1:</span><span class='ee-v'>0</span></li><li><span class='ee-k'>2:</span><span class='ee-v'>699960</span></li><li><span class='ee-k'>3:</span><span class='ee-v'>0</span></li><li><span class='ee-k'>4:</span><span class='ee-v'>-20</span></li><li><span class='ee-k'>5:</span><span class='ee-v'>8700040</span></li></ul></li><li><label class='ee-shut'>data_type: unsigned int32<input type='checkbox' class='ee-toggle'></label><ul><li><span class='ee-k'>type:</span><span class='ee-v'>PixelType</span></li><li><span class='ee-k'>max:</span><span class='ee-v'>4294967295</span></li><li><span class='ee-k'>min:</span><span class='ee-v'>0</span></li><li><span class='ee-k'>precision:</span><span class='ee-v'>int</span></li></ul></li><li><label class='ee-shut'>dimensions: [5490, 5490]<input type='checkbox' class='ee-toggle'></label><ul><li><span class='ee-k'>0:</span><span class='ee-v'>5490</span></li><li><span class='ee-k'>1:</span><span class='ee-v'>5490</span></li></ul></li></ul></li><li><label class='ee-shut'>15: \"QA60\", unsigned int16, EPSG:32752, 1830x1830 px<input type='checkbox' class='ee-toggle'></label><ul><li><span class='ee-k'>id:</span><span class='ee-v'>QA60</span></li><li><span class='ee-k'>crs:</span><span class='ee-v'>EPSG:32752</span></li><li><label class='ee-shut'>crs_transform: [60, 0, 699960, 0, -60, 8700040]<input type='checkbox' class='ee-toggle'></label><ul><li><span class='ee-k'>0:</span><span class='ee-v'>60</span></li><li><span class='ee-k'>1:</span><span class='ee-v'>0</span></li><li><span class='ee-k'>2:</span><span class='ee-v'>699960</span></li><li><span class='ee-k'>3:</span><span class='ee-v'>0</span></li><li><span class='ee-k'>4:</span><span class='ee-v'>-60</span></li><li><span class='ee-k'>5:</span><span class='ee-v'>8700040</span></li></ul></li><li><label class='ee-shut'>data_type: unsigned int16<input type='checkbox' class='ee-toggle'></label><ul><li><span class='ee-k'>type:</span><span class='ee-v'>PixelType</span></li><li><span class='ee-k'>max:</span><span class='ee-v'>65535</span></li><li><span class='ee-k'>min:</span><span class='ee-v'>0</span></li><li><span class='ee-k'>precision:</span><span class='ee-v'>int</span></li></ul></li><li><label class='ee-shut'>dimensions: [1830, 1830]<input type='checkbox' class='ee-toggle'></label><ul><li><span class='ee-k'>0:</span><span class='ee-v'>1830</span></li><li><span class='ee-k'>1:</span><span class='ee-v'>1830</span></li></ul></li></ul></li></ul></li><li><label class='ee-shut'>properties: Object (80 properties)<input type='checkbox' class='ee-toggle'></label><ul><li><span class='ee-k'>CLOUDY_PIXEL_PERCENTAGE:</span><span class='ee-v'>0</span></li><li><span class='ee-k'>CLOUD_COVERAGE_ASSESSMENT:</span><span class='ee-v'>0</span></li><li><span class='ee-k'>DATASTRIP_ID:</span><span class='ee-v'>S2B_OPER_MSI_L1C_DS_2BPS_20231026T030923_S20231026T013655_N05.09</span></li><li><span class='ee-k'>DATATAKE_IDENTIFIER:</span><span class='ee-v'>GS2B_20231026T013659_034663_N05.09</span></li><li><span class='ee-k'>DATATAKE_TYPE:</span><span class='ee-v'>INS-NOBS</span></li><li><span class='ee-k'>DEGRADED_MSI_DATA_PERCENTAGE:</span><span class='ee-v'>0.0201</span></li><li><span class='ee-k'>FORMAT_CORRECTNESS:</span><span class='ee-v'>PASSED</span></li><li><span class='ee-k'>GENERAL_QUALITY:</span><span class='ee-v'>PASSED</span></li><li><span class='ee-k'>GENERATION_TIME:</span><span class='ee-v'>1698289763000</span></li><li><span class='ee-k'>GEOMETRIC_QUALITY:</span><span class='ee-v'>PASSED</span></li><li><span class='ee-k'>GRANULE_ID:</span><span class='ee-v'>L1C_T52LGM_A034663_20231026T013655</span></li><li><span class='ee-k'>MEAN_INCIDENCE_AZIMUTH_ANGLE_B1:</span><span class='ee-v'>284.50448838155</span></li><li><span class='ee-k'>MEAN_INCIDENCE_AZIMUTH_ANGLE_B10:</span><span class='ee-v'>284.002506601808</span></li><li><span class='ee-k'>MEAN_INCIDENCE_AZIMUTH_ANGLE_B11:</span><span class='ee-v'>284.218941286802</span></li><li><span class='ee-k'>MEAN_INCIDENCE_AZIMUTH_ANGLE_B12:</span><span class='ee-v'>284.414900185342</span></li><li><span class='ee-k'>MEAN_INCIDENCE_AZIMUTH_ANGLE_B2:</span><span class='ee-v'>283.863270310084</span></li><li><span class='ee-k'>MEAN_INCIDENCE_AZIMUTH_ANGLE_B3:</span><span class='ee-v'>284.00492189722</span></li><li><span class='ee-k'>MEAN_INCIDENCE_AZIMUTH_ANGLE_B4:</span><span class='ee-v'>284.165068246612</span></li><li><span class='ee-k'>MEAN_INCIDENCE_AZIMUTH_ANGLE_B5:</span><span class='ee-v'>284.266439881236</span></li><li><span class='ee-k'>MEAN_INCIDENCE_AZIMUTH_ANGLE_B6:</span><span class='ee-v'>284.348403742308</span></li><li><span class='ee-k'>MEAN_INCIDENCE_AZIMUTH_ANGLE_B7:</span><span class='ee-v'>284.414037274505</span></li><li><span class='ee-k'>MEAN_INCIDENCE_AZIMUTH_ANGLE_B8:</span><span class='ee-v'>283.930749123482</span></li><li><span class='ee-k'>MEAN_INCIDENCE_AZIMUTH_ANGLE_B8A:</span><span class='ee-v'>284.489748007049</span></li><li><span class='ee-k'>MEAN_INCIDENCE_AZIMUTH_ANGLE_B9:</span><span class='ee-v'>284.574901189062</span></li><li><span class='ee-k'>MEAN_INCIDENCE_ZENITH_ANGLE_B1:</span><span class='ee-v'>7.59453527971044</span></li><li><span class='ee-k'>MEAN_INCIDENCE_ZENITH_ANGLE_B10:</span><span class='ee-v'>7.43090930325803</span></li><li><span class='ee-k'>MEAN_INCIDENCE_ZENITH_ANGLE_B11:</span><span class='ee-v'>7.48482104523129</span></li><li><span class='ee-k'>MEAN_INCIDENCE_ZENITH_ANGLE_B12:</span><span class='ee-v'>7.5653666248842</span></li><li><span class='ee-k'>MEAN_INCIDENCE_ZENITH_ANGLE_B2:</span><span class='ee-v'>7.37552271058483</span></li><li><span class='ee-k'>MEAN_INCIDENCE_ZENITH_ANGLE_B3:</span><span class='ee-v'>7.40184897197835</span></li><li><span class='ee-k'>MEAN_INCIDENCE_ZENITH_ANGLE_B4:</span><span class='ee-v'>7.43473053027381</span></li><li><span class='ee-k'>MEAN_INCIDENCE_ZENITH_ANGLE_B5:</span><span class='ee-v'>7.46383654258527</span></li><li><span class='ee-k'>MEAN_INCIDENCE_ZENITH_ANGLE_B6:</span><span class='ee-v'>7.49225446379628</span></li><li><span class='ee-k'>MEAN_INCIDENCE_ZENITH_ANGLE_B7:</span><span class='ee-v'>7.52351705077891</span></li><li><span class='ee-k'>MEAN_INCIDENCE_ZENITH_ANGLE_B8:</span><span class='ee-v'>7.3849380500374</span></li><li><span class='ee-k'>MEAN_INCIDENCE_ZENITH_ANGLE_B8A:</span><span class='ee-v'>7.55752494121584</span></li><li><span class='ee-k'>MEAN_INCIDENCE_ZENITH_ANGLE_B9:</span><span class='ee-v'>7.63510193168362</span></li><li><span class='ee-k'>MEAN_SOLAR_AZIMUTH_ANGLE:</span><span class='ee-v'>92.2489390430196</span></li><li><span class='ee-k'>MEAN_SOLAR_ZENITH_ANGLE:</span><span class='ee-v'>19.0276727639765</span></li><li><span class='ee-k'>MGRS_TILE:</span><span class='ee-v'>52LGM</span></li><li><span class='ee-k'>PROCESSING_BASELINE:</span><span class='ee-v'>05.09</span></li><li><span class='ee-k'>PRODUCT_ID:</span><span class='ee-v'>S2B_MSIL1C_20231026T013659_N0509_R031_T52LGM_20231026T030923</span></li><li><span class='ee-k'>RADIOMETRIC_QUALITY:</span><span class='ee-v'>PASSED</span></li><li><span class='ee-k'>RADIO_ADD_OFFSET_B1:</span><span class='ee-v'>-1000</span></li><li><span class='ee-k'>RADIO_ADD_OFFSET_B10:</span><span class='ee-v'>-1000</span></li><li><span class='ee-k'>RADIO_ADD_OFFSET_B11:</span><span class='ee-v'>-1000</span></li><li><span class='ee-k'>RADIO_ADD_OFFSET_B12:</span><span class='ee-v'>-1000</span></li><li><span class='ee-k'>RADIO_ADD_OFFSET_B2:</span><span class='ee-v'>-1000</span></li><li><span class='ee-k'>RADIO_ADD_OFFSET_B3:</span><span class='ee-v'>-1000</span></li><li><span class='ee-k'>RADIO_ADD_OFFSET_B4:</span><span class='ee-v'>-1000</span></li><li><span class='ee-k'>RADIO_ADD_OFFSET_B5:</span><span class='ee-v'>-1000</span></li><li><span class='ee-k'>RADIO_ADD_OFFSET_B6:</span><span class='ee-v'>-1000</span></li><li><span class='ee-k'>RADIO_ADD_OFFSET_B7:</span><span class='ee-v'>-1000</span></li><li><span class='ee-k'>RADIO_ADD_OFFSET_B8:</span><span class='ee-v'>-1000</span></li><li><span class='ee-k'>RADIO_ADD_OFFSET_B8A:</span><span class='ee-v'>-1000</span></li><li><span class='ee-k'>RADIO_ADD_OFFSET_B9:</span><span class='ee-v'>-1000</span></li><li><span class='ee-k'>REFLECTANCE_CONVERSION_CORRECTION:</span><span class='ee-v'>1.01004112779436</span></li><li><span class='ee-k'>SENSING_ORBIT_DIRECTION:</span><span class='ee-v'>DESCENDING</span></li><li><span class='ee-k'>SENSING_ORBIT_NUMBER:</span><span class='ee-v'>31</span></li><li><span class='ee-k'>SENSOR_QUALITY:</span><span class='ee-v'>PASSED</span></li><li><span class='ee-k'>SNOW_PIXEL_PERCENTAGE:</span><span class='ee-v'>0</span></li><li><span class='ee-k'>SOLAR_IRRADIANCE_B1:</span><span class='ee-v'>1874.3</span></li><li><span class='ee-k'>SOLAR_IRRADIANCE_B10:</span><span class='ee-v'>365.41</span></li><li><span class='ee-k'>SOLAR_IRRADIANCE_B11:</span><span class='ee-v'>247.08</span></li><li><span class='ee-k'>SOLAR_IRRADIANCE_B12:</span><span class='ee-v'>87.75</span></li><li><span class='ee-k'>SOLAR_IRRADIANCE_B2:</span><span class='ee-v'>1959.75</span></li><li><span class='ee-k'>SOLAR_IRRADIANCE_B3:</span><span class='ee-v'>1824.93</span></li><li><span class='ee-k'>SOLAR_IRRADIANCE_B4:</span><span class='ee-v'>1512.79</span></li><li><span class='ee-k'>SOLAR_IRRADIANCE_B5:</span><span class='ee-v'>1425.78</span></li><li><span class='ee-k'>SOLAR_IRRADIANCE_B6:</span><span class='ee-v'>1291.13</span></li><li><span class='ee-k'>SOLAR_IRRADIANCE_B7:</span><span class='ee-v'>1175.57</span></li><li><span class='ee-k'>SOLAR_IRRADIANCE_B8:</span><span class='ee-v'>1041.28</span></li><li><span class='ee-k'>SOLAR_IRRADIANCE_B8A:</span><span class='ee-v'>953.93</span></li><li><span class='ee-k'>SOLAR_IRRADIANCE_B9:</span><span class='ee-v'>817.58</span></li><li><span class='ee-k'>SPACECRAFT_NAME:</span><span class='ee-v'>Sentinel-2B</span></li><li><span class='ee-k'>system:asset_size:</span><span class='ee-v'>1102431893</span></li><li><label class='ee-shut'>system:footprint: LinearRing (18 vertices)<input type='checkbox' class='ee-toggle'></label><ul><li><span class='ee-k'>type:</span><span class='ee-v'>LinearRing</span></li><li><label class='ee-shut'>coordinates: List (18 elements)<input type='checkbox' class='ee-toggle'></label><ul><li><label class='ee-shut'>0: [131.7415394758282, -12.7377411527989]<input type='checkbox' class='ee-toggle'></label><ul><li><span class='ee-k'>0:</span><span class='ee-v'>131.7415394758282</span></li><li><span class='ee-k'>1:</span><span class='ee-v'>-12.7377411527989</span></li></ul></li><li><label class='ee-shut'>1: [131.7415485144608, -12.737720507796407]<input type='checkbox' class='ee-toggle'></label><ul><li><span class='ee-k'>0:</span><span class='ee-v'>131.7415485144608</span></li><li><span class='ee-k'>1:</span><span class='ee-v'>-12.737720507796407</span></li></ul></li><li><label class='ee-shut'>2: [131.7468746666101, -12.71950506122303]<input type='checkbox' class='ee-toggle'></label><ul><li><span class='ee-k'>0:</span><span class='ee-v'>131.7468746666101</span></li><li><span class='ee-k'>1:</span><span class='ee-v'>-12.71950506122303</span></li></ul></li><li><label class='ee-shut'>3: [131.84625261706333, -12.26617526150759]<input type='checkbox' class='ee-toggle'></label><ul><li><span class='ee-k'>0:</span><span class='ee-v'>131.84625261706333</span></li><li><span class='ee-k'>1:</span><span class='ee-v'>-12.26617526150759</span></li></ul></li><li><label class='ee-shut'>4: [131.84677546655445, -12.26345504114976]<input type='checkbox' class='ee-toggle'></label><ul><li><span class='ee-k'>0:</span><span class='ee-v'>131.84677546655445</span></li><li><span class='ee-k'>1:</span><span class='ee-v'>-12.26345504114976</span></li></ul></li><li><label class='ee-shut'>5: [131.8471087927891, -12.260190924612154]<input type='checkbox' class='ee-toggle'></label><ul><li><span class='ee-k'>0:</span><span class='ee-v'>131.8471087927891</span></li><li><span class='ee-k'>1:</span><span class='ee-v'>-12.260190924612154</span></li></ul></li><li><label class='ee-shut'>6: [131.844375790673, -12.00277170355729]<input type='checkbox' class='ee-toggle'></label><ul><li><span class='ee-k'>0:</span><span class='ee-v'>131.844375790673</span></li><li><span class='ee-k'>1:</span><span class='ee-v'>-12.00277170355729</span></li></ul></li><li><label class='ee-shut'>7: [131.84170512222843, -11.745351998147404]<input type='checkbox' class='ee-toggle'></label><ul><li><span class='ee-k'>0:</span><span class='ee-v'>131.84170512222843</span></li><li><span class='ee-k'>1:</span><span class='ee-v'>-11.745351998147404</span></li></ul></li><li><label class='ee-shut'>8: [131.8416330979501, -11.745262720044689]<input type='checkbox' class='ee-toggle'></label><ul><li><span class='ee-k'>0:</span><span class='ee-v'>131.8416330979501</span></li><li><span class='ee-k'>1:</span><span class='ee-v'>-11.745262720044689</span></li></ul></li><li><label class='ee-shut'>9: [130.8349298285638, -11.753511370486487]<input type='checkbox' class='ee-toggle'></label><ul><li><span class='ee-k'>0:</span><span class='ee-v'>130.8349298285638</span></li><li><span class='ee-k'>1:</span><span class='ee-v'>-11.753511370486487</span></li></ul></li><li><label class='ee-shut'>10: [130.83483842688074, -11.753581562325733]<input type='checkbox' class='ee-toggle'></label><ul><li><span class='ee-k'>0:</span><span class='ee-v'>130.83483842688074</span></li><li><span class='ee-k'>1:</span><span class='ee-v'>-11.753581562325733</span></li></ul></li><li><label class='ee-shut'>11: [130.83819880969662, -12.249736806680732]<input type='checkbox' class='ee-toggle'></label><ul><li><span class='ee-k'>0:</span><span class='ee-v'>130.83819880969662</span></li><li><span class='ee-k'>1:</span><span class='ee-v'>-12.249736806680732</span></li></ul></li><li><label class='ee-shut'>12: [130.84170889521266, -12.74585280811192]<input type='checkbox' class='ee-toggle'></label><ul><li><span class='ee-k'>0:</span><span class='ee-v'>130.84170889521266</span></li><li><span class='ee-k'>1:</span><span class='ee-v'>-12.74585280811192</span></li></ul></li><li><label class='ee-shut'>13: [130.84178091173834, -12.745942307726853]<input type='checkbox' class='ee-toggle'></label><ul><li><span class='ee-k'>0:</span><span class='ee-v'>130.84178091173834</span></li><li><span class='ee-k'>1:</span><span class='ee-v'>-12.745942307726853</span></li></ul></li><li><label class='ee-shut'>14: [131.7409125404614, -12.738152794025536]<input type='checkbox' class='ee-toggle'></label><ul><li><span class='ee-k'>0:</span><span class='ee-v'>131.7409125404614</span></li><li><span class='ee-k'>1:</span><span class='ee-v'>-12.738152794025536</span></li></ul></li><li><label class='ee-shut'>15: [131.74095021451325, -12.738146122809935]<input type='checkbox' class='ee-toggle'></label><ul><li><span class='ee-k'>0:</span><span class='ee-v'>131.74095021451325</span></li><li><span class='ee-k'>1:</span><span class='ee-v'>-12.738146122809935</span></li></ul></li><li><label class='ee-shut'>16: [131.74151198014684, -12.737770014906573]<input type='checkbox' class='ee-toggle'></label><ul><li><span class='ee-k'>0:</span><span class='ee-v'>131.74151198014684</span></li><li><span class='ee-k'>1:</span><span class='ee-v'>-12.737770014906573</span></li></ul></li><li><label class='ee-shut'>17: [131.7415394758282, -12.7377411527989]<input type='checkbox' class='ee-toggle'></label><ul><li><span class='ee-k'>0:</span><span class='ee-v'>131.7415394758282</span></li><li><span class='ee-k'>1:</span><span class='ee-v'>-12.7377411527989</span></li></ul></li></ul></li></ul></li><li><span class='ee-k'>system:index:</span><span class='ee-v'>20231026T013659_20231026T013655_T52LGM</span></li><li><span class='ee-k'>system:time_end:</span><span class='ee-v'>1698284444345</span></li><li><span class='ee-k'>system:time_start:</span><span class='ee-v'>1698284444345</span></li></ul></li></ul></li></ul></div><script>function toggleHeader() {\n",
       "    const parent = this.parentElement;\n",
       "    parent.className = parent.className === \"ee-open\" ? \"ee-shut\" : \"ee-open\";\n",
       "}\n",
       "\n",
       "for (let c of document.getElementsByClassName(\"ee-toggle\")) {\n",
       "    c.onclick = toggleHeader;\n",
       "}</script></div>"
      ],
      "text/plain": [
       "<ee.image.Image at 0x7f0a13a37390>"
      ]
     },
     "metadata": {},
     "output_type": "display_data"
    }
   ],
   "source": [
    "# The first Sentinel 2 image\n",
    "S2_TOA = ee.Image(\n",
    "  ee.ImageCollection('COPERNICUS/S2')\n",
    "    .filterBounds(AOI)\n",
    "    .filterDate(start_date, end_date)\n",
    "    .sort('CLOUDY_PIXEL_PERCENTAGE')\n",
    "    .first()\n",
    "  )\n",
    "\n",
    "# top of atmosphere reflectance\n",
    "TOA = S2_SR_Median.divide(10000)\n",
    "display(S2_TOA)"
   ]
  },
  {
   "cell_type": "code",
   "execution_count": 34,
   "id": "7356c960",
   "metadata": {},
   "outputs": [
    {
     "data": {
      "text/html": [
       "\n",
       "            <style>\n",
       "                .geemap-dark {\n",
       "                    --jp-widgets-color: white;\n",
       "                    --jp-widgets-label-color: white;\n",
       "                    --jp-ui-font-color1: white;\n",
       "                    --jp-layout-color2: #454545;\n",
       "                    background-color: #383838;\n",
       "                }\n",
       "                    \n",
       "                .geemap-dark .jupyter-button {\n",
       "                    --jp-layout-color3: #383838;\n",
       "                }\n",
       "                \n",
       "                .geemap-colab {\n",
       "                    background-color: var(--colab-primary-surface-color, white);\n",
       "                }\n",
       "                    \n",
       "                .geemap-colab .jupyter-button {\n",
       "                    --jp-layout-color3: var(--colab-primary-surface-color, white);\n",
       "                }\n",
       "            </style>\n",
       "            "
      ],
      "text/plain": [
       "<IPython.core.display.HTML object>"
      ]
     },
     "metadata": {},
     "output_type": "display_data"
    }
   ],
   "source": [
    "info = S2_TOA.getInfo()['properties']\n",
    "scene_date = datetime.datetime.utcfromtimestamp(info['system:time_start']/1000)# i.e. Python uses seconds, EE uses milliseconds\n",
    "solar_z = info['MEAN_SOLAR_ZENITH_ANGLE']\n",
    "date = ee.Date(scene_date.strftime(\"%Y-%m-%d\"))"
   ]
  },
  {
   "cell_type": "code",
   "execution_count": 35,
   "id": "6b6ef4cb",
   "metadata": {},
   "outputs": [
    {
     "data": {
      "text/html": [
       "\n",
       "            <style>\n",
       "                .geemap-dark {\n",
       "                    --jp-widgets-color: white;\n",
       "                    --jp-widgets-label-color: white;\n",
       "                    --jp-ui-font-color1: white;\n",
       "                    --jp-layout-color2: #454545;\n",
       "                    background-color: #383838;\n",
       "                }\n",
       "                    \n",
       "                .geemap-dark .jupyter-button {\n",
       "                    --jp-layout-color3: #383838;\n",
       "                }\n",
       "                \n",
       "                .geemap-colab {\n",
       "                    background-color: var(--colab-primary-surface-color, white);\n",
       "                }\n",
       "                    \n",
       "                .geemap-colab .jupyter-button {\n",
       "                    --jp-layout-color3: var(--colab-primary-surface-color, white);\n",
       "                }\n",
       "            </style>\n",
       "            "
      ],
      "text/plain": [
       "<IPython.core.display.HTML object>"
      ]
     },
     "metadata": {},
     "output_type": "display_data"
    },
    {
     "data": {
      "text/plain": [
       "4.040000152587891"
      ]
     },
     "metadata": {},
     "output_type": "display_data"
    },
    {
     "data": {
      "text/plain": [
       "0.2671672794117647"
      ]
     },
     "metadata": {},
     "output_type": "display_data"
    },
    {
     "data": {
      "text/plain": [
       "0.218666672706604"
      ]
     },
     "metadata": {},
     "output_type": "display_data"
    }
   ],
   "source": [
    "h2o = Atmospheric.water(Region,date).getInfo()\n",
    "o3 = Atmospheric.ozone(Region,date).getInfo()\n",
    "aot = Atmospheric.aerosol(Region,date).getInfo()\n",
    "display(h2o,o3,aot)"
   ]
  },
  {
   "cell_type": "code",
   "execution_count": 36,
   "id": "07d4dba7",
   "metadata": {},
   "outputs": [
    {
     "data": {
      "text/html": [
       "\n",
       "            <style>\n",
       "                .geemap-dark {\n",
       "                    --jp-widgets-color: white;\n",
       "                    --jp-widgets-label-color: white;\n",
       "                    --jp-ui-font-color1: white;\n",
       "                    --jp-layout-color2: #454545;\n",
       "                    background-color: #383838;\n",
       "                }\n",
       "                    \n",
       "                .geemap-dark .jupyter-button {\n",
       "                    --jp-layout-color3: #383838;\n",
       "                }\n",
       "                \n",
       "                .geemap-colab {\n",
       "                    background-color: var(--colab-primary-surface-color, white);\n",
       "                }\n",
       "                    \n",
       "                .geemap-colab .jupyter-button {\n",
       "                    --jp-layout-color3: var(--colab-primary-surface-color, white);\n",
       "                }\n",
       "            </style>\n",
       "            "
      ],
      "text/plain": [
       "<IPython.core.display.HTML object>"
      ]
     },
     "metadata": {},
     "output_type": "display_data"
    },
    {
     "data": {
      "text/html": [
       "<div><style>:root {\n",
       "  --font-color-primary: var(--jp-content-font-color0, rgba(0, 0, 0, 1));\n",
       "  --font-color-secondary: var(--jp-content-font-color2, rgba(0, 0, 0, 0.6));\n",
       "  --font-color-accent: rgba(123, 31, 162, 1);\n",
       "  --border-color: var(--jp-border-color2, #e0e0e0);\n",
       "  --background-color: var(--jp-layout-color0, white);\n",
       "  --background-color-row-even: var(--jp-layout-color1, white);\n",
       "  --background-color-row-odd: var(--jp-layout-color2, #eeeeee);\n",
       "}\n",
       "\n",
       "html[theme=\"dark\"],\n",
       "body[data-theme=\"dark\"],\n",
       "body.vscode-dark {\n",
       "  --font-color-primary: rgba(255, 255, 255, 1);\n",
       "  --font-color-secondary: rgba(255, 255, 255, 0.6);\n",
       "  --font-color-accent: rgb(173, 132, 190);\n",
       "  --border-color: #2e2e2e;\n",
       "  --background-color: #111111;\n",
       "  --background-color-row-even: #111111;\n",
       "  --background-color-row-odd: #313131;\n",
       "}\n",
       "\n",
       ".ee {\n",
       "  padding: 1em;\n",
       "  line-height: 1.5em;\n",
       "  min-width: 300px;\n",
       "  max-width: 1200px;\n",
       "  overflow-y: scroll;\n",
       "  max-height: 600px;\n",
       "  border: 1px solid var(--border-color);\n",
       "  font-family: monospace;\n",
       "}\n",
       "\n",
       ".ee li {\n",
       "  list-style-type: none;\n",
       "}\n",
       "\n",
       ".ee ul {\n",
       "  padding-left: 1.5em !important;\n",
       "  margin: 0;\n",
       "}\n",
       "\n",
       ".ee > ul {\n",
       "  padding-left: 0 !important;\n",
       "}\n",
       "\n",
       ".ee-open,\n",
       ".ee-shut {\n",
       "  color: var(--font-color-secondary);\n",
       "  cursor: pointer;\n",
       "  margin: 0;\n",
       "}\n",
       "\n",
       ".ee-open:hover,\n",
       ".ee-shut:hover {\n",
       "  color: var(--font-color-primary);\n",
       "}\n",
       "\n",
       ".ee-k {\n",
       "  color: var(--font-color-accent);\n",
       "  margin-right: 6px;\n",
       "}\n",
       "\n",
       ".ee-v {\n",
       "  color: var(--font-color-primary);\n",
       "}\n",
       "\n",
       ".ee-toggle {\n",
       "  display: none;\n",
       "}\n",
       "\n",
       ".ee-shut + ul {\n",
       "  display: none;\n",
       "}\n",
       "\n",
       ".ee-open + ul {\n",
       "  display: block;\n",
       "}\n",
       "\n",
       ".ee-shut::before {\n",
       "  display: inline-block;\n",
       "  content: \"▼\";\n",
       "  margin-right: 6px;\n",
       "  transform: rotate(-90deg);\n",
       "  transition: transform 0.2s;\n",
       "}\n",
       "\n",
       ".ee-open::before {\n",
       "  transform: rotate(0deg);\n",
       "  display: inline-block;\n",
       "  content: \"▼\";\n",
       "  margin-right: 6px;\n",
       "  transition: transform 0.2s;\n",
       "}\n",
       "</style><div class='ee'><ul><li><label class='ee-shut'>Image CGIAR/SRTM90_V4 (1 band)<input type='checkbox' class='ee-toggle'></label><ul><li><span class='ee-k'>type:</span><span class='ee-v'>Image</span></li><li><span class='ee-k'>id:</span><span class='ee-v'>CGIAR/SRTM90_V4</span></li><li><span class='ee-k'>version:</span><span class='ee-v'>1641990053291277</span></li><li><label class='ee-shut'>bands: List (1 element)<input type='checkbox' class='ee-toggle'></label><ul><li><label class='ee-shut'>0: \"elevation\", signed int16, EPSG:4326, 432000x144000 px<input type='checkbox' class='ee-toggle'></label><ul><li><span class='ee-k'>id:</span><span class='ee-v'>elevation</span></li><li><span class='ee-k'>crs:</span><span class='ee-v'>EPSG:4326</span></li><li><label class='ee-shut'>crs_transform: List (6 elements)<input type='checkbox' class='ee-toggle'></label><ul><li><span class='ee-k'>0:</span><span class='ee-v'>0.000833333333333</span></li><li><span class='ee-k'>1:</span><span class='ee-v'>0</span></li><li><span class='ee-k'>2:</span><span class='ee-v'>-180</span></li><li><span class='ee-k'>3:</span><span class='ee-v'>0</span></li><li><span class='ee-k'>4:</span><span class='ee-v'>-0.000833333333333</span></li><li><span class='ee-k'>5:</span><span class='ee-v'>60</span></li></ul></li><li><label class='ee-shut'>data_type: signed int16<input type='checkbox' class='ee-toggle'></label><ul><li><span class='ee-k'>type:</span><span class='ee-v'>PixelType</span></li><li><span class='ee-k'>max:</span><span class='ee-v'>32767</span></li><li><span class='ee-k'>min:</span><span class='ee-v'>-32768</span></li><li><span class='ee-k'>precision:</span><span class='ee-v'>int</span></li></ul></li><li><label class='ee-shut'>dimensions: [432000, 144000]<input type='checkbox' class='ee-toggle'></label><ul><li><span class='ee-k'>0:</span><span class='ee-v'>432000</span></li><li><span class='ee-k'>1:</span><span class='ee-v'>144000</span></li></ul></li></ul></li></ul></li><li><label class='ee-shut'>properties: Object (25 properties)<input type='checkbox' class='ee-toggle'></label><ul><li><label class='ee-shut'>date_range: [950227200000, 951177600000]<input type='checkbox' class='ee-toggle'></label><ul><li><span class='ee-k'>0:</span><span class='ee-v'>950227200000</span></li><li><span class='ee-k'>1:</span><span class='ee-v'>951177600000</span></li></ul></li><li><span class='ee-k'>description:</span><span class='ee-v'><p>The Shuttle Radar Topography Mission (SRTM) digital\n",
       "elevation dataset was originally produced to provide consistent,\n",
       "high-quality elevation data at near global scope. This version\n",
       "of the SRTM digital elevation data has been processed to fill data\n",
       "voids, and to facilitate its ease of use.</p><p><b>Provider: <a href=\"https://srtm.csi.cgiar.org/\">NASA/CGIAR</a></b><br><p><b>Bands</b><table class=\"eecat\"><tr><th scope=\"col\">Name</th><th scope=\"col\">Description</th></tr><tr><td>elevation</td><td><p>Elevation</p></td></tr></table><p><b>Terms of Use</b><br><p>DISTRIBUTION. Users are prohibited from any commercial, non-free resale, or\n",
       "redistribution without explicit written permission from CIAT. Users should\n",
       "acknowledge CIAT as the source used in the creation of any reports,\n",
       "publications, new datasets, derived products, or services resulting from the\n",
       "use of this dataset. CIAT also request reprints of any publications and\n",
       "notification of any redistributing efforts. For commercial access to\n",
       "the data, send requests to <a href=\"mailto:a.jarvis@cgiar.org\">Andy Jarvis</a>.</p><p>NO WARRANTY OR LIABILITY. CIAT provides these data without any warranty of\n",
       "any kind whatsoever, either express or implied, including warranties of\n",
       "merchantability and fitness for a particular purpose. CIAT shall not be\n",
       "liable for incidental, consequential, or special damages arising out of\n",
       "the use of any data.</p><p>ACKNOWLEDGMENT AND CITATION. Any users are kindly asked to cite this data\n",
       "in any published material produced using this data, and if possible link\n",
       "web pages to the <a href=\"https://srtm.csi.cgiar.org\">CIAT-CSI SRTM website</a>.</p><p><b>Suggested citation(s)</b><ul><li><p>Jarvis, A., H.I. Reuter, A. Nelson, E. Guevara. 2008. Hole-filled\n",
       "SRTM for the globe Version 4, available from the CGIAR-CSI SRTM\n",
       "90m Database: https://srtm.csi.cgiar.org.</p></li></ul><style>\n",
       "  table.eecat {\n",
       "  border: 1px solid black;\n",
       "  border-collapse: collapse;\n",
       "  font-size: 13px;\n",
       "  }\n",
       "  table.eecat td, tr, th {\n",
       "  text-align: left; vertical-align: top;\n",
       "  border: 1px solid gray; padding: 3px;\n",
       "  }\n",
       "  td.nobreak { white-space: nowrap; }\n",
       "</style></span></li><li><label class='ee-shut'>keywords: List (6 elements)<input type='checkbox' class='ee-toggle'></label><ul><li><span class='ee-k'>0:</span><span class='ee-v'>cgiar</span></li><li><span class='ee-k'>1:</span><span class='ee-v'>dem</span></li><li><span class='ee-k'>2:</span><span class='ee-v'>elevation</span></li><li><span class='ee-k'>3:</span><span class='ee-v'>geophysical</span></li><li><span class='ee-k'>4:</span><span class='ee-v'>srtm</span></li><li><span class='ee-k'>5:</span><span class='ee-v'>topography</span></li></ul></li><li><span class='ee-k'>period:</span><span class='ee-v'>0</span></li><li><label class='ee-shut'>product_tags: List (5 elements)<input type='checkbox' class='ee-toggle'></label><ul><li><span class='ee-k'>0:</span><span class='ee-v'>srtm</span></li><li><span class='ee-k'>1:</span><span class='ee-v'>elevation</span></li><li><span class='ee-k'>2:</span><span class='ee-v'>topography</span></li><li><span class='ee-k'>3:</span><span class='ee-v'>dem</span></li><li><span class='ee-k'>4:</span><span class='ee-v'>geophysical</span></li></ul></li><li><span class='ee-k'>provider:</span><span class='ee-v'>NASA/CGIAR</span></li><li><span class='ee-k'>provider_url:</span><span class='ee-v'>https://srtm.csi.cgiar.org/</span></li><li><span class='ee-k'>sample:</span><span class='ee-v'>https://mw1.google.com/ges/dd/images/SRTM90_V4_sample.png</span></li><li><label class='ee-shut'>source_tags: ['cgiar']<input type='checkbox' class='ee-toggle'></label><ul><li><span class='ee-k'>0:</span><span class='ee-v'>cgiar</span></li></ul></li><li><span class='ee-k'>system:asset_size:</span><span class='ee-v'>18827626666</span></li><li><span class='ee-k'>system:time_end:</span><span class='ee-v'>951177600000</span></li><li><span class='ee-k'>system:time_start:</span><span class='ee-v'>950227200000</span></li><li><span class='ee-k'>system:visualization_0_bands:</span><span class='ee-v'>elevation</span></li><li><span class='ee-k'>system:visualization_0_gamma:</span><span class='ee-v'>1.6</span></li><li><span class='ee-k'>system:visualization_0_max:</span><span class='ee-v'>8000.0</span></li><li><span class='ee-k'>system:visualization_0_min:</span><span class='ee-v'>-100.0</span></li><li><span class='ee-k'>system:visualization_0_name:</span><span class='ee-v'>Elevation</span></li><li><label class='ee-shut'>tags: List (6 elements)<input type='checkbox' class='ee-toggle'></label><ul><li><span class='ee-k'>0:</span><span class='ee-v'>cgiar</span></li><li><span class='ee-k'>1:</span><span class='ee-v'>dem</span></li><li><span class='ee-k'>2:</span><span class='ee-v'>elevation</span></li><li><span class='ee-k'>3:</span><span class='ee-v'>geophysical</span></li><li><span class='ee-k'>4:</span><span class='ee-v'>srtm</span></li><li><span class='ee-k'>5:</span><span class='ee-v'>topography</span></li></ul></li><li><span class='ee-k'>thumb:</span><span class='ee-v'>https://mw1.google.com/ges/dd/images/SRTM90_V4_thumb.png</span></li><li><span class='ee-k'>title:</span><span class='ee-v'>SRTM Digital Elevation Data Version 4</span></li><li><span class='ee-k'>type_name:</span><span class='ee-v'>Image</span></li><li><span class='ee-k'>visualization_0_bands:</span><span class='ee-v'>elevation</span></li><li><span class='ee-k'>visualization_0_max:</span><span class='ee-v'>8000.0</span></li><li><span class='ee-k'>visualization_0_min:</span><span class='ee-v'>-100.0</span></li><li><span class='ee-k'>visualization_0_name:</span><span class='ee-v'>Elevation</span></li></ul></li></ul></li></ul></div><script>function toggleHeader() {\n",
       "    const parent = this.parentElement;\n",
       "    parent.className = parent.className === \"ee-open\" ? \"ee-shut\" : \"ee-open\";\n",
       "}\n",
       "\n",
       "for (let c of document.getElementsByClassName(\"ee-toggle\")) {\n",
       "    c.onclick = toggleHeader;\n",
       "}</script></div>"
      ],
      "text/plain": [
       "<ee.image.Image at 0x7f09b37d5390>"
      ]
     },
     "metadata": {},
     "output_type": "display_data"
    },
    {
     "data": {
      "text/plain": [
       "6"
      ]
     },
     "metadata": {},
     "output_type": "display_data"
    },
    {
     "data": {
      "text/plain": [
       "0.006"
      ]
     },
     "metadata": {},
     "output_type": "display_data"
    }
   ],
   "source": [
    "# Calculate target altitude in km\n",
    "SRTM = ee.Image('CGIAR/SRTM90_V4') # Shuttle Radar Topography mission covers *most* of the Earth\n",
    "alt = SRTM.reduceRegion(reducer = ee.Reducer.mean(),geometry = Region.centroid()).get('elevation').getInfo()\n",
    "km = alt/1000 # i.e. Py6S uses units of kilometers\n",
    "display(SRTM,alt,km)"
   ]
  },
  {
   "cell_type": "code",
   "execution_count": 37,
   "id": "e3a12181",
   "metadata": {},
   "outputs": [
    {
     "data": {
      "text/html": [
       "\n",
       "            <style>\n",
       "                .geemap-dark {\n",
       "                    --jp-widgets-color: white;\n",
       "                    --jp-widgets-label-color: white;\n",
       "                    --jp-ui-font-color1: white;\n",
       "                    --jp-layout-color2: #454545;\n",
       "                    background-color: #383838;\n",
       "                }\n",
       "                    \n",
       "                .geemap-dark .jupyter-button {\n",
       "                    --jp-layout-color3: #383838;\n",
       "                }\n",
       "                \n",
       "                .geemap-colab {\n",
       "                    background-color: var(--colab-primary-surface-color, white);\n",
       "                }\n",
       "                    \n",
       "                .geemap-colab .jupyter-button {\n",
       "                    --jp-layout-color3: var(--colab-primary-surface-color, white);\n",
       "                }\n",
       "            </style>\n",
       "            "
      ],
      "text/plain": [
       "<IPython.core.display.HTML object>"
      ]
     },
     "metadata": {},
     "output_type": "display_data"
    }
   ],
   "source": [
    "# Instantiate\n",
    "s = SixS()\n",
    "\n",
    "# Atmospheric constituents\n",
    "s.atmos_profile = AtmosProfile.UserWaterAndOzone(h2o,o3)\n",
    "s.aero_profile = AeroProfile.Continental\n",
    "s.aot550 = aot\n",
    "\n",
    "# Earth-Sun-satellite geometry\n",
    "s.geometry = Geometry.User()\n",
    "s.geometry.view_z = 0               # always NADIR (I think..)\n",
    "s.geometry.solar_z = solar_z        # solar zenith angle\n",
    "s.geometry.month = scene_date.month # month and day used for Earth-Sun distance\n",
    "s.geometry.day = scene_date.day     # month and day used for Earth-Sun distance\n",
    "s.altitudes.set_sensor_satellite_level()\n",
    "s.altitudes.set_target_custom_altitude(km)"
   ]
  },
  {
   "cell_type": "code",
   "execution_count": 38,
   "id": "f3c4fc76",
   "metadata": {},
   "outputs": [
    {
     "data": {
      "text/html": [
       "\n",
       "            <style>\n",
       "                .geemap-dark {\n",
       "                    --jp-widgets-color: white;\n",
       "                    --jp-widgets-label-color: white;\n",
       "                    --jp-ui-font-color1: white;\n",
       "                    --jp-layout-color2: #454545;\n",
       "                    background-color: #383838;\n",
       "                }\n",
       "                    \n",
       "                .geemap-dark .jupyter-button {\n",
       "                    --jp-layout-color3: #383838;\n",
       "                }\n",
       "                \n",
       "                .geemap-colab {\n",
       "                    background-color: var(--colab-primary-surface-color, white);\n",
       "                }\n",
       "                    \n",
       "                .geemap-colab .jupyter-button {\n",
       "                    --jp-layout-color3: var(--colab-primary-surface-color, white);\n",
       "                }\n",
       "            </style>\n",
       "            "
      ],
      "text/plain": [
       "<IPython.core.display.HTML object>"
      ]
     },
     "metadata": {},
     "output_type": "display_data"
    }
   ],
   "source": [
    "# Spectral Response Functions\n",
    "# To obtain the spectral response fx of each band\n",
    "\n",
    "def spectralResponseFunction(bandname):\n",
    "    \"\"\"\n",
    "    Extract spectral response function for given band name\n",
    "    \"\"\"\n",
    "\n",
    "    bandSelect = {\n",
    "        'B1':PredefinedWavelengths.S2A_MSI_01,\n",
    "        'B2':PredefinedWavelengths.S2A_MSI_02,\n",
    "        'B3':PredefinedWavelengths.S2A_MSI_03,\n",
    "        'B4':PredefinedWavelengths.S2A_MSI_04,\n",
    "        'B5':PredefinedWavelengths.S2A_MSI_05,\n",
    "        'B6':PredefinedWavelengths.S2A_MSI_06,\n",
    "        'B7':PredefinedWavelengths.S2A_MSI_07,\n",
    "        'B8':PredefinedWavelengths.S2A_MSI_08,\n",
    "        'B8A':PredefinedWavelengths.S2A_MSI_8A,\n",
    "        'B9':PredefinedWavelengths.S2A_MSI_09,\n",
    "        'B10':PredefinedWavelengths.S2A_MSI_10,\n",
    "        'B11':PredefinedWavelengths.S2A_MSI_11,\n",
    "        'B12':PredefinedWavelengths.S2A_MSI_12,\n",
    "        }\n",
    "\n",
    "    return Wavelength(bandSelect[bandname])"
   ]
  },
  {
   "cell_type": "code",
   "execution_count": 39,
   "id": "026edc84",
   "metadata": {},
   "outputs": [
    {
     "data": {
      "text/html": [
       "\n",
       "            <style>\n",
       "                .geemap-dark {\n",
       "                    --jp-widgets-color: white;\n",
       "                    --jp-widgets-label-color: white;\n",
       "                    --jp-ui-font-color1: white;\n",
       "                    --jp-layout-color2: #454545;\n",
       "                    background-color: #383838;\n",
       "                }\n",
       "                    \n",
       "                .geemap-dark .jupyter-button {\n",
       "                    --jp-layout-color3: #383838;\n",
       "                }\n",
       "                \n",
       "                .geemap-colab {\n",
       "                    background-color: var(--colab-primary-surface-color, white);\n",
       "                }\n",
       "                    \n",
       "                .geemap-colab .jupyter-button {\n",
       "                    --jp-layout-color3: var(--colab-primary-surface-color, white);\n",
       "                }\n",
       "            </style>\n",
       "            "
      ],
      "text/plain": [
       "<IPython.core.display.HTML object>"
      ]
     },
     "metadata": {},
     "output_type": "display_data"
    }
   ],
   "source": [
    "# TOA Reflectance to Radiance\n",
    "def TOA_to_rad(bandname):\n",
    "    \"\"\"\n",
    "    Converts top of atmosphere reflectance to at-sensor radiance\n",
    "    \"\"\"\n",
    "\n",
    "    # solar exoatmospheric spectral irradiance\n",
    "    ESUN = info['SOLAR_IRRADIANCE_'+bandname]\n",
    "    solar_angle_correction = math.cos(math.radians(solar_z))\n",
    "\n",
    "    # Earth-Sun distance (from day of year)\n",
    "    doy = scene_date.timetuple().tm_yday\n",
    "    d = 1 - 0.01672 * math.cos(0.9856 * (doy-4)) # From http://physics.stackexchange.com/questions/177949/earth-sun-distance-on-a-given-day-of-the-year\n",
    "\n",
    "    # conversion factor\n",
    "    multiplier = ESUN*solar_angle_correction/(math.pi*d**2)\n",
    "\n",
    "    # at-sensor radiance\n",
    "    rad = TOA.select(bandname).multiply(multiplier)\n",
    "\n",
    "    return rad"
   ]
  },
  {
   "cell_type": "code",
   "execution_count": 40,
   "id": "22f83fdd",
   "metadata": {},
   "outputs": [
    {
     "data": {
      "text/html": [
       "\n",
       "            <style>\n",
       "                .geemap-dark {\n",
       "                    --jp-widgets-color: white;\n",
       "                    --jp-widgets-label-color: white;\n",
       "                    --jp-ui-font-color1: white;\n",
       "                    --jp-layout-color2: #454545;\n",
       "                    background-color: #383838;\n",
       "                }\n",
       "                    \n",
       "                .geemap-dark .jupyter-button {\n",
       "                    --jp-layout-color3: #383838;\n",
       "                }\n",
       "                \n",
       "                .geemap-colab {\n",
       "                    background-color: var(--colab-primary-surface-color, white);\n",
       "                }\n",
       "                    \n",
       "                .geemap-colab .jupyter-button {\n",
       "                    --jp-layout-color3: var(--colab-primary-surface-color, white);\n",
       "                }\n",
       "            </style>\n",
       "            "
      ],
      "text/plain": [
       "<IPython.core.display.HTML object>"
      ]
     },
     "metadata": {},
     "output_type": "display_data"
    }
   ],
   "source": [
    "# Radiance to Surface Reflectance\n",
    "def surface_reflectance(bandname):\n",
    "    \"\"\"\n",
    "    Calculate surface reflectance from at-sensor radiance given waveband name\n",
    "    \"\"\"\n",
    "\n",
    "    # run 6S for this waveband\n",
    "    s.wavelength = spectralResponseFunction(bandname)\n",
    "    s.run()\n",
    "\n",
    "    # extract 6S outputs\n",
    "    Edir = s.outputs.direct_solar_irradiance             #direct solar irradiance\n",
    "    Edif = s.outputs.diffuse_solar_irradiance            #diffuse solar irradiance\n",
    "    Lp   = s.outputs.atmospheric_intrinsic_radiance      #path radiance\n",
    "    absorb  = s.outputs.trans['global_gas'].upward       #absorption transmissivity\n",
    "    scatter = s.outputs.trans['total_scattering'].upward #scattering transmissivity\n",
    "    tau2 = absorb*scatter                                #total transmissivity\n",
    "\n",
    "    # radiance to surface reflectance\n",
    "    rad = TOA_to_rad(bandname)\n",
    "    ref = rad.subtract(Lp).multiply(math.pi).divide(tau2*(Edir+Edif))\n",
    "\n",
    "    return ref"
   ]
  },
  {
   "cell_type": "code",
   "execution_count": 41,
   "id": "b1702f11",
   "metadata": {},
   "outputs": [
    {
     "data": {
      "text/html": [
       "\n",
       "            <style>\n",
       "                .geemap-dark {\n",
       "                    --jp-widgets-color: white;\n",
       "                    --jp-widgets-label-color: white;\n",
       "                    --jp-ui-font-color1: white;\n",
       "                    --jp-layout-color2: #454545;\n",
       "                    background-color: #383838;\n",
       "                }\n",
       "                    \n",
       "                .geemap-dark .jupyter-button {\n",
       "                    --jp-layout-color3: #383838;\n",
       "                }\n",
       "                \n",
       "                .geemap-colab {\n",
       "                    background-color: var(--colab-primary-surface-color, white);\n",
       "                }\n",
       "                    \n",
       "                .geemap-colab .jupyter-button {\n",
       "                    --jp-layout-color3: var(--colab-primary-surface-color, white);\n",
       "                }\n",
       "            </style>\n",
       "            "
      ],
      "text/plain": [
       "<IPython.core.display.HTML object>"
      ]
     },
     "metadata": {},
     "output_type": "display_data"
    },
    {
     "name": "stdout",
     "output_type": "stream",
     "text": [
      "B1\n",
      "B2\n",
      "B3\n",
      "B4\n",
      "B5\n",
      "B6\n",
      "B7\n",
      "B8\n",
      "B8A\n",
      "B9\n",
      "B10\n",
      "B11\n",
      "B12\n"
     ]
    }
   ],
   "source": [
    "# Use this if you only need surface reflectance of rgb channel\n",
    "b = surface_reflectance('B8')\n",
    "g = surface_reflectance('B11')\n",
    "r = surface_reflectance('B12')\n",
    "ref = r.addBands(g).addBands(b)\n",
    "\n",
    "# Calculate surface reflectance for all wavebands\n",
    "output = S2_TOA.select('QA60')\n",
    "for band in ['B1','B2','B3','B4','B5','B6','B7','B8','B8A','B9','B10','B11','B12']:\n",
    "    print(band)\n",
    "    band_reflectance = surface_reflectance(band)\n",
    "    output = output.addBands(surface_reflectance(band))"
   ]
  },
  {
   "cell_type": "code",
   "execution_count": 42,
   "id": "8a21c856",
   "metadata": {},
   "outputs": [
    {
     "data": {
      "text/html": [
       "\n",
       "            <style>\n",
       "                .geemap-dark {\n",
       "                    --jp-widgets-color: white;\n",
       "                    --jp-widgets-label-color: white;\n",
       "                    --jp-ui-font-color1: white;\n",
       "                    --jp-layout-color2: #454545;\n",
       "                    background-color: #383838;\n",
       "                }\n",
       "                    \n",
       "                .geemap-dark .jupyter-button {\n",
       "                    --jp-layout-color3: #383838;\n",
       "                }\n",
       "                \n",
       "                .geemap-colab {\n",
       "                    background-color: var(--colab-primary-surface-color, white);\n",
       "                }\n",
       "                    \n",
       "                .geemap-colab .jupyter-button {\n",
       "                    --jp-layout-color3: var(--colab-primary-surface-color, white);\n",
       "                }\n",
       "            </style>\n",
       "            "
      ],
      "text/plain": [
       "<IPython.core.display.HTML object>"
      ]
     },
     "metadata": {},
     "output_type": "display_data"
    },
    {
     "data": {
      "text/html": [
       "<div><style>:root {\n",
       "  --font-color-primary: var(--jp-content-font-color0, rgba(0, 0, 0, 1));\n",
       "  --font-color-secondary: var(--jp-content-font-color2, rgba(0, 0, 0, 0.6));\n",
       "  --font-color-accent: rgba(123, 31, 162, 1);\n",
       "  --border-color: var(--jp-border-color2, #e0e0e0);\n",
       "  --background-color: var(--jp-layout-color0, white);\n",
       "  --background-color-row-even: var(--jp-layout-color1, white);\n",
       "  --background-color-row-odd: var(--jp-layout-color2, #eeeeee);\n",
       "}\n",
       "\n",
       "html[theme=\"dark\"],\n",
       "body[data-theme=\"dark\"],\n",
       "body.vscode-dark {\n",
       "  --font-color-primary: rgba(255, 255, 255, 1);\n",
       "  --font-color-secondary: rgba(255, 255, 255, 0.6);\n",
       "  --font-color-accent: rgb(173, 132, 190);\n",
       "  --border-color: #2e2e2e;\n",
       "  --background-color: #111111;\n",
       "  --background-color-row-even: #111111;\n",
       "  --background-color-row-odd: #313131;\n",
       "}\n",
       "\n",
       ".ee {\n",
       "  padding: 1em;\n",
       "  line-height: 1.5em;\n",
       "  min-width: 300px;\n",
       "  max-width: 1200px;\n",
       "  overflow-y: scroll;\n",
       "  max-height: 600px;\n",
       "  border: 1px solid var(--border-color);\n",
       "  font-family: monospace;\n",
       "}\n",
       "\n",
       ".ee li {\n",
       "  list-style-type: none;\n",
       "}\n",
       "\n",
       ".ee ul {\n",
       "  padding-left: 1.5em !important;\n",
       "  margin: 0;\n",
       "}\n",
       "\n",
       ".ee > ul {\n",
       "  padding-left: 0 !important;\n",
       "}\n",
       "\n",
       ".ee-open,\n",
       ".ee-shut {\n",
       "  color: var(--font-color-secondary);\n",
       "  cursor: pointer;\n",
       "  margin: 0;\n",
       "}\n",
       "\n",
       ".ee-open:hover,\n",
       ".ee-shut:hover {\n",
       "  color: var(--font-color-primary);\n",
       "}\n",
       "\n",
       ".ee-k {\n",
       "  color: var(--font-color-accent);\n",
       "  margin-right: 6px;\n",
       "}\n",
       "\n",
       ".ee-v {\n",
       "  color: var(--font-color-primary);\n",
       "}\n",
       "\n",
       ".ee-toggle {\n",
       "  display: none;\n",
       "}\n",
       "\n",
       ".ee-shut + ul {\n",
       "  display: none;\n",
       "}\n",
       "\n",
       ".ee-open + ul {\n",
       "  display: block;\n",
       "}\n",
       "\n",
       ".ee-shut::before {\n",
       "  display: inline-block;\n",
       "  content: \"▼\";\n",
       "  margin-right: 6px;\n",
       "  transform: rotate(-90deg);\n",
       "  transition: transform 0.2s;\n",
       "}\n",
       "\n",
       ".ee-open::before {\n",
       "  transform: rotate(0deg);\n",
       "  display: inline-block;\n",
       "  content: \"▼\";\n",
       "  margin-right: 6px;\n",
       "  transition: transform 0.2s;\n",
       "}\n",
       "</style><div class='ee'><ul><li><label class='ee-shut'>Image (1 band)<input type='checkbox' class='ee-toggle'></label><ul><li><span class='ee-k'>type:</span><span class='ee-v'>Image</span></li><li><label class='ee-shut'>bands: List (1 element)<input type='checkbox' class='ee-toggle'></label><ul><li><label class='ee-shut'>0: \"B11\", double, EPSG:4326<input type='checkbox' class='ee-toggle'></label><ul><li><span class='ee-k'>id:</span><span class='ee-v'>B11</span></li><li><span class='ee-k'>crs:</span><span class='ee-v'>EPSG:4326</span></li><li><label class='ee-shut'>crs_transform: [1, 0, 0, 0, 1, 0]<input type='checkbox' class='ee-toggle'></label><ul><li><span class='ee-k'>0:</span><span class='ee-v'>1</span></li><li><span class='ee-k'>1:</span><span class='ee-v'>0</span></li><li><span class='ee-k'>2:</span><span class='ee-v'>0</span></li><li><span class='ee-k'>3:</span><span class='ee-v'>0</span></li><li><span class='ee-k'>4:</span><span class='ee-v'>1</span></li><li><span class='ee-k'>5:</span><span class='ee-v'>0</span></li></ul></li><li><label class='ee-shut'>data_type: double<input type='checkbox' class='ee-toggle'></label><ul><li><span class='ee-k'>type:</span><span class='ee-v'>PixelType</span></li><li><span class='ee-k'>max:</span><span class='ee-v'>7.0794061835529725</span></li><li><span class='ee-k'>min:</span><span class='ee-v'>-0.0038429436376590455</span></li><li><span class='ee-k'>precision:</span><span class='ee-v'>double</span></li></ul></li></ul></li></ul></li></ul></li></ul></div><script>function toggleHeader() {\n",
       "    const parent = this.parentElement;\n",
       "    parent.className = parent.className === \"ee-open\" ? \"ee-shut\" : \"ee-open\";\n",
       "}\n",
       "\n",
       "for (let c of document.getElementsByClassName(\"ee-toggle\")) {\n",
       "    c.onclick = toggleHeader;\n",
       "}</script></div>"
      ],
      "text/plain": [
       "<ee.image.Image at 0x7f0a0b008bd0>"
      ]
     },
     "metadata": {},
     "output_type": "display_data"
    },
    {
     "data": {
      "text/html": [
       "<div><style>:root {\n",
       "  --font-color-primary: var(--jp-content-font-color0, rgba(0, 0, 0, 1));\n",
       "  --font-color-secondary: var(--jp-content-font-color2, rgba(0, 0, 0, 0.6));\n",
       "  --font-color-accent: rgba(123, 31, 162, 1);\n",
       "  --border-color: var(--jp-border-color2, #e0e0e0);\n",
       "  --background-color: var(--jp-layout-color0, white);\n",
       "  --background-color-row-even: var(--jp-layout-color1, white);\n",
       "  --background-color-row-odd: var(--jp-layout-color2, #eeeeee);\n",
       "}\n",
       "\n",
       "html[theme=\"dark\"],\n",
       "body[data-theme=\"dark\"],\n",
       "body.vscode-dark {\n",
       "  --font-color-primary: rgba(255, 255, 255, 1);\n",
       "  --font-color-secondary: rgba(255, 255, 255, 0.6);\n",
       "  --font-color-accent: rgb(173, 132, 190);\n",
       "  --border-color: #2e2e2e;\n",
       "  --background-color: #111111;\n",
       "  --background-color-row-even: #111111;\n",
       "  --background-color-row-odd: #313131;\n",
       "}\n",
       "\n",
       ".ee {\n",
       "  padding: 1em;\n",
       "  line-height: 1.5em;\n",
       "  min-width: 300px;\n",
       "  max-width: 1200px;\n",
       "  overflow-y: scroll;\n",
       "  max-height: 600px;\n",
       "  border: 1px solid var(--border-color);\n",
       "  font-family: monospace;\n",
       "}\n",
       "\n",
       ".ee li {\n",
       "  list-style-type: none;\n",
       "}\n",
       "\n",
       ".ee ul {\n",
       "  padding-left: 1.5em !important;\n",
       "  margin: 0;\n",
       "}\n",
       "\n",
       ".ee > ul {\n",
       "  padding-left: 0 !important;\n",
       "}\n",
       "\n",
       ".ee-open,\n",
       ".ee-shut {\n",
       "  color: var(--font-color-secondary);\n",
       "  cursor: pointer;\n",
       "  margin: 0;\n",
       "}\n",
       "\n",
       ".ee-open:hover,\n",
       ".ee-shut:hover {\n",
       "  color: var(--font-color-primary);\n",
       "}\n",
       "\n",
       ".ee-k {\n",
       "  color: var(--font-color-accent);\n",
       "  margin-right: 6px;\n",
       "}\n",
       "\n",
       ".ee-v {\n",
       "  color: var(--font-color-primary);\n",
       "}\n",
       "\n",
       ".ee-toggle {\n",
       "  display: none;\n",
       "}\n",
       "\n",
       ".ee-shut + ul {\n",
       "  display: none;\n",
       "}\n",
       "\n",
       ".ee-open + ul {\n",
       "  display: block;\n",
       "}\n",
       "\n",
       ".ee-shut::before {\n",
       "  display: inline-block;\n",
       "  content: \"▼\";\n",
       "  margin-right: 6px;\n",
       "  transform: rotate(-90deg);\n",
       "  transition: transform 0.2s;\n",
       "}\n",
       "\n",
       ".ee-open::before {\n",
       "  transform: rotate(0deg);\n",
       "  display: inline-block;\n",
       "  content: \"▼\";\n",
       "  margin-right: 6px;\n",
       "  transition: transform 0.2s;\n",
       "}\n",
       "</style><div class='ee'><ul><li><label class='ee-shut'>Image (1 band)<input type='checkbox' class='ee-toggle'></label><ul><li><span class='ee-k'>type:</span><span class='ee-v'>Image</span></li><li><label class='ee-shut'>bands: List (1 element)<input type='checkbox' class='ee-toggle'></label><ul><li><label class='ee-shut'>0: \"B12\", double, EPSG:4326<input type='checkbox' class='ee-toggle'></label><ul><li><span class='ee-k'>id:</span><span class='ee-v'>B12</span></li><li><span class='ee-k'>crs:</span><span class='ee-v'>EPSG:4326</span></li><li><label class='ee-shut'>crs_transform: [1, 0, 0, 0, 1, 0]<input type='checkbox' class='ee-toggle'></label><ul><li><span class='ee-k'>0:</span><span class='ee-v'>1</span></li><li><span class='ee-k'>1:</span><span class='ee-v'>0</span></li><li><span class='ee-k'>2:</span><span class='ee-v'>0</span></li><li><span class='ee-k'>3:</span><span class='ee-v'>0</span></li><li><span class='ee-k'>4:</span><span class='ee-v'>1</span></li><li><span class='ee-k'>5:</span><span class='ee-v'>0</span></li></ul></li><li><label class='ee-shut'>data_type: double<input type='checkbox' class='ee-toggle'></label><ul><li><span class='ee-k'>type:</span><span class='ee-v'>PixelType</span></li><li><span class='ee-k'>max:</span><span class='ee-v'>8.124097779146</span></li><li><span class='ee-k'>min:</span><span class='ee-v'>-0.001415918638678925</span></li><li><span class='ee-k'>precision:</span><span class='ee-v'>double</span></li></ul></li></ul></li></ul></li></ul></li></ul></div><script>function toggleHeader() {\n",
       "    const parent = this.parentElement;\n",
       "    parent.className = parent.className === \"ee-open\" ? \"ee-shut\" : \"ee-open\";\n",
       "}\n",
       "\n",
       "for (let c of document.getElementsByClassName(\"ee-toggle\")) {\n",
       "    c.onclick = toggleHeader;\n",
       "}</script></div>"
      ],
      "text/plain": [
       "<ee.image.Image at 0x7f09b31bcf50>"
      ]
     },
     "metadata": {},
     "output_type": "display_data"
    }
   ],
   "source": [
    "# select band of interest\n",
    "band11 = ref.select('B11')\n",
    "band12 = ref.select('B12')\n",
    "\n",
    "display(band11,band12)"
   ]
  },
  {
   "cell_type": "code",
   "execution_count": 43,
   "id": "90a8c47d",
   "metadata": {},
   "outputs": [
    {
     "data": {
      "text/html": [
       "\n",
       "            <style>\n",
       "                .geemap-dark {\n",
       "                    --jp-widgets-color: white;\n",
       "                    --jp-widgets-label-color: white;\n",
       "                    --jp-ui-font-color1: white;\n",
       "                    --jp-layout-color2: #454545;\n",
       "                    background-color: #383838;\n",
       "                }\n",
       "                    \n",
       "                .geemap-dark .jupyter-button {\n",
       "                    --jp-layout-color3: #383838;\n",
       "                }\n",
       "                \n",
       "                .geemap-colab {\n",
       "                    background-color: var(--colab-primary-surface-color, white);\n",
       "                }\n",
       "                    \n",
       "                .geemap-colab .jupyter-button {\n",
       "                    --jp-layout-color3: var(--colab-primary-surface-color, white);\n",
       "                }\n",
       "            </style>\n",
       "            "
      ],
      "text/plain": [
       "<IPython.core.display.HTML object>"
      ]
     },
     "metadata": {},
     "output_type": "display_data"
    },
    {
     "data": {
      "text/html": [
       "<div style=\"width:100%;\"><div style=\"position:relative;width:100%;height:0;padding-bottom:60%;\"><span style=\"color:#565656\">Make this Notebook Trusted to load map: File -> Trust Notebook</span><iframe srcdoc=\"&lt;!DOCTYPE html&gt;\n",
       "&lt;html&gt;\n",
       "&lt;head&gt;\n",
       "    \n",
       "    &lt;meta http-equiv=&quot;content-type&quot; content=&quot;text/html; charset=UTF-8&quot; /&gt;\n",
       "    \n",
       "        &lt;script&gt;\n",
       "            L_NO_TOUCH = false;\n",
       "            L_DISABLE_3D = false;\n",
       "        &lt;/script&gt;\n",
       "    \n",
       "    &lt;style&gt;html, body {width: 100%;height: 100%;margin: 0;padding: 0;}&lt;/style&gt;\n",
       "    &lt;style&gt;#map {position:absolute;top:0;bottom:0;right:0;left:0;}&lt;/style&gt;\n",
       "    &lt;script src=&quot;https://cdn.jsdelivr.net/npm/leaflet@1.9.3/dist/leaflet.js&quot;&gt;&lt;/script&gt;\n",
       "    &lt;script src=&quot;https://code.jquery.com/jquery-3.7.1.min.js&quot;&gt;&lt;/script&gt;\n",
       "    &lt;script src=&quot;https://cdn.jsdelivr.net/npm/bootstrap@5.2.2/dist/js/bootstrap.bundle.min.js&quot;&gt;&lt;/script&gt;\n",
       "    &lt;script src=&quot;https://cdnjs.cloudflare.com/ajax/libs/Leaflet.awesome-markers/2.0.2/leaflet.awesome-markers.js&quot;&gt;&lt;/script&gt;\n",
       "    &lt;link rel=&quot;stylesheet&quot; href=&quot;https://cdn.jsdelivr.net/npm/leaflet@1.9.3/dist/leaflet.css&quot;/&gt;\n",
       "    &lt;link rel=&quot;stylesheet&quot; href=&quot;https://cdn.jsdelivr.net/npm/bootstrap@5.2.2/dist/css/bootstrap.min.css&quot;/&gt;\n",
       "    &lt;link rel=&quot;stylesheet&quot; href=&quot;https://netdna.bootstrapcdn.com/bootstrap/3.0.0/css/bootstrap.min.css&quot;/&gt;\n",
       "    &lt;link rel=&quot;stylesheet&quot; href=&quot;https://cdn.jsdelivr.net/npm/@fortawesome/fontawesome-free@6.2.0/css/all.min.css&quot;/&gt;\n",
       "    &lt;link rel=&quot;stylesheet&quot; href=&quot;https://cdnjs.cloudflare.com/ajax/libs/Leaflet.awesome-markers/2.0.2/leaflet.awesome-markers.css&quot;/&gt;\n",
       "    &lt;link rel=&quot;stylesheet&quot; href=&quot;https://cdn.jsdelivr.net/gh/python-visualization/folium/folium/templates/leaflet.awesome.rotate.min.css&quot;/&gt;\n",
       "    \n",
       "            &lt;meta name=&quot;viewport&quot; content=&quot;width=device-width,\n",
       "                initial-scale=1.0, maximum-scale=1.0, user-scalable=no&quot; /&gt;\n",
       "            &lt;style&gt;\n",
       "                #map_c1d3fce4090dba4099789cf8f074c1af {\n",
       "                    position: relative;\n",
       "                    width: 100.0%;\n",
       "                    height: 100.0%;\n",
       "                    left: 0.0%;\n",
       "                    top: 0.0%;\n",
       "                }\n",
       "                .leaflet-container { font-size: 1rem; }\n",
       "            &lt;/style&gt;\n",
       "        \n",
       "&lt;/head&gt;\n",
       "&lt;body&gt;\n",
       "    \n",
       "    \n",
       "            &lt;div class=&quot;folium-map&quot; id=&quot;map_c1d3fce4090dba4099789cf8f074c1af&quot; &gt;&lt;/div&gt;\n",
       "        \n",
       "&lt;/body&gt;\n",
       "&lt;script&gt;\n",
       "    \n",
       "    \n",
       "            var map_c1d3fce4090dba4099789cf8f074c1af = L.map(\n",
       "                &quot;map_c1d3fce4090dba4099789cf8f074c1af&quot;,\n",
       "                {\n",
       "                    center: [-12.522845892065048, 130.918857699303],\n",
       "                    crs: L.CRS.EPSG3857,\n",
       "                    zoom: 12,\n",
       "                    zoomControl: true,\n",
       "                    preferCanvas: false,\n",
       "                }\n",
       "            );\n",
       "\n",
       "            \n",
       "\n",
       "        \n",
       "    \n",
       "            var tile_layer_50e2cace94d92ee8b23da7134b2c2665 = L.tileLayer(\n",
       "                &quot;https://tile.openstreetmap.org/{z}/{x}/{y}.png&quot;,\n",
       "                {&quot;attribution&quot;: &quot;\\u0026copy; \\u003ca href=\\&quot;https://www.openstreetmap.org/copyright\\&quot;\\u003eOpenStreetMap\\u003c/a\\u003e contributors&quot;, &quot;detectRetina&quot;: false, &quot;maxNativeZoom&quot;: 19, &quot;maxZoom&quot;: 19, &quot;minZoom&quot;: 0, &quot;noWrap&quot;: false, &quot;opacity&quot;: 1, &quot;subdomains&quot;: &quot;abc&quot;, &quot;tms&quot;: false}\n",
       "            );\n",
       "        \n",
       "    \n",
       "            tile_layer_50e2cace94d92ee8b23da7134b2c2665.addTo(map_c1d3fce4090dba4099789cf8f074c1af);\n",
       "        \n",
       "    \n",
       "            var tile_layer_9512b327308b7f9adef2dc7bae19c448 = L.tileLayer(\n",
       "                &quot;https://earthengine.googleapis.com/v1/projects/earthengine-legacy/maps/f95b236ec215fc9dcb91f420b1e5acec-e8f7e39e5b264adb56e2e1547f6c3e5d/tiles/{z}/{x}/{y}&quot;,\n",
       "                {&quot;attribution&quot;: &quot;Map Data \\u0026copy; \\u003ca href=\\&quot;https://earthengine.google.com/\\&quot;\\u003eGoogle Earth Engine\\u003c/a\\u003e&quot;, &quot;detectRetina&quot;: false, &quot;maxNativeZoom&quot;: 18, &quot;maxZoom&quot;: 18, &quot;minZoom&quot;: 9, &quot;noWrap&quot;: false, &quot;opacity&quot;: 1, &quot;subdomains&quot;: &quot;abc&quot;, &quot;tms&quot;: false}\n",
       "            );\n",
       "        \n",
       "    \n",
       "            tile_layer_9512b327308b7f9adef2dc7bae19c448.addTo(map_c1d3fce4090dba4099789cf8f074c1af);\n",
       "        \n",
       "    \n",
       "            var tile_layer_eec65ea4c21307685f4c1f54d8a33b4e = L.tileLayer(\n",
       "                &quot;https://earthengine.googleapis.com/v1/projects/earthengine-legacy/maps/84caa992b4df92d0a3297aec816c89f1-fa884ec46d59ac71d32c4e530c91a11e/tiles/{z}/{x}/{y}&quot;,\n",
       "                {&quot;attribution&quot;: &quot;Map Data \\u0026copy; \\u003ca href=\\&quot;https://earthengine.google.com/\\&quot;\\u003eGoogle Earth Engine\\u003c/a\\u003e&quot;, &quot;detectRetina&quot;: false, &quot;maxNativeZoom&quot;: 18, &quot;maxZoom&quot;: 18, &quot;minZoom&quot;: 9, &quot;noWrap&quot;: false, &quot;opacity&quot;: 1, &quot;subdomains&quot;: &quot;abc&quot;, &quot;tms&quot;: false}\n",
       "            );\n",
       "        \n",
       "    \n",
       "            tile_layer_eec65ea4c21307685f4c1f54d8a33b4e.addTo(map_c1d3fce4090dba4099789cf8f074c1af);\n",
       "        \n",
       "    \n",
       "            var layer_control_f396a88326a56bfa6db164e6876d75f1_layers = {\n",
       "                base_layers : {\n",
       "                    &quot;openstreetmap&quot; : tile_layer_50e2cace94d92ee8b23da7134b2c2665,\n",
       "                },\n",
       "                overlays :  {\n",
       "                    &quot;S2_Band11&quot; : tile_layer_9512b327308b7f9adef2dc7bae19c448,\n",
       "                    &quot;S2_Band12&quot; : tile_layer_eec65ea4c21307685f4c1f54d8a33b4e,\n",
       "                },\n",
       "            };\n",
       "            let layer_control_f396a88326a56bfa6db164e6876d75f1 = L.control.layers(\n",
       "                layer_control_f396a88326a56bfa6db164e6876d75f1_layers.base_layers,\n",
       "                layer_control_f396a88326a56bfa6db164e6876d75f1_layers.overlays,\n",
       "                {&quot;autoZIndex&quot;: true, &quot;collapsed&quot;: true, &quot;position&quot;: &quot;topright&quot;}\n",
       "            ).addTo(map_c1d3fce4090dba4099789cf8f074c1af);\n",
       "\n",
       "        \n",
       "&lt;/script&gt;\n",
       "&lt;/html&gt;\" style=\"position:absolute;width:100%;height:100%;left:0;top:0;border:none !important;\" allowfullscreen webkitallowfullscreen mozallowfullscreen></iframe></div></div>"
      ],
      "text/plain": [
       "<folium.folium.Map at 0x7f09b3114390>"
      ]
     },
     "metadata": {},
     "output_type": "display_data"
    }
   ],
   "source": [
    "# Create a folium map object.\n",
    "center = AOI.centroid(10).coordinates().reverse().getInfo()\n",
    "S2_AC = folium.Map(location=center, zoom_start=12)\n",
    "\n",
    "# Add layers to the folium map.\n",
    "S2_AC.add_ee_layer(band11,\n",
    "                {'min': 0, 'max': 0.3, 'gamma': 3},\n",
    "                'S2_Band11', True, 1, 9)\n",
    "\n",
    "# Add layers to the folium map.\n",
    "S2_AC.add_ee_layer(band12,\n",
    "                {'min': 0, 'max': 0.3, 'gamma': 3},\n",
    "                'S2_Band12',True, 1, 9)\n",
    "\n",
    "# Add a layer control panel to the map.\n",
    "S2_AC.add_child(folium.LayerControl())\n",
    "\n",
    "# Display the map.\n",
    "display(S2_AC)"
   ]
  },
  {
   "cell_type": "markdown",
   "id": "f7bafec1-478b-42be-b10c-1e626a68a10c",
   "metadata": {},
   "source": [
    "## **Export File**"
   ]
  },
  {
   "cell_type": "code",
   "execution_count": 44,
   "id": "af91133d",
   "metadata": {},
   "outputs": [
    {
     "data": {
      "text/html": [
       "\n",
       "            <style>\n",
       "                .geemap-dark {\n",
       "                    --jp-widgets-color: white;\n",
       "                    --jp-widgets-label-color: white;\n",
       "                    --jp-ui-font-color1: white;\n",
       "                    --jp-layout-color2: #454545;\n",
       "                    background-color: #383838;\n",
       "                }\n",
       "                    \n",
       "                .geemap-dark .jupyter-button {\n",
       "                    --jp-layout-color3: #383838;\n",
       "                }\n",
       "                \n",
       "                .geemap-colab {\n",
       "                    background-color: var(--colab-primary-surface-color, white);\n",
       "                }\n",
       "                    \n",
       "                .geemap-colab .jupyter-button {\n",
       "                    --jp-layout-color3: var(--colab-primary-surface-color, white);\n",
       "                }\n",
       "            </style>\n",
       "            "
      ],
      "text/plain": [
       "<IPython.core.display.HTML object>"
      ]
     },
     "metadata": {},
     "output_type": "display_data"
    }
   ],
   "source": [
    "# Initiate the library\n",
    "ee.Initialize()"
   ]
  },
  {
   "cell_type": "code",
   "execution_count": 45,
   "id": "aea1fcb8",
   "metadata": {},
   "outputs": [
    {
     "data": {
      "text/html": [
       "\n",
       "            <style>\n",
       "                .geemap-dark {\n",
       "                    --jp-widgets-color: white;\n",
       "                    --jp-widgets-label-color: white;\n",
       "                    --jp-ui-font-color1: white;\n",
       "                    --jp-layout-color2: #454545;\n",
       "                    background-color: #383838;\n",
       "                }\n",
       "                    \n",
       "                .geemap-dark .jupyter-button {\n",
       "                    --jp-layout-color3: #383838;\n",
       "                }\n",
       "                \n",
       "                .geemap-colab {\n",
       "                    background-color: var(--colab-primary-surface-color, white);\n",
       "                }\n",
       "                    \n",
       "                .geemap-colab .jupyter-button {\n",
       "                    --jp-layout-color3: var(--colab-primary-surface-color, white);\n",
       "                }\n",
       "            </style>\n",
       "            "
      ],
      "text/plain": [
       "<IPython.core.display.HTML object>"
      ]
     },
     "metadata": {},
     "output_type": "display_data"
    },
    {
     "data": {
      "text/plain": [
       "True"
      ]
     },
     "execution_count": 45,
     "metadata": {},
     "output_type": "execute_result"
    }
   ],
   "source": [
    "# Authenticate Earth Engine\n",
    "ee.Authenticate()"
   ]
  },
  {
   "cell_type": "markdown",
   "id": "87661519-96d4-4c9b-8802-9fda3d851ed1",
   "metadata": {},
   "source": [
    "##### Export to GDrive"
   ]
  },
  {
   "cell_type": "code",
   "execution_count": 48,
   "id": "9c6b5fd4",
   "metadata": {},
   "outputs": [
    {
     "data": {
      "text/html": [
       "\n",
       "            <style>\n",
       "                .geemap-dark {\n",
       "                    --jp-widgets-color: white;\n",
       "                    --jp-widgets-label-color: white;\n",
       "                    --jp-ui-font-color1: white;\n",
       "                    --jp-layout-color2: #454545;\n",
       "                    background-color: #383838;\n",
       "                }\n",
       "                    \n",
       "                .geemap-dark .jupyter-button {\n",
       "                    --jp-layout-color3: #383838;\n",
       "                }\n",
       "                \n",
       "                .geemap-colab {\n",
       "                    background-color: var(--colab-primary-surface-color, white);\n",
       "                }\n",
       "                    \n",
       "                .geemap-colab .jupyter-button {\n",
       "                    --jp-layout-color3: var(--colab-primary-surface-color, white);\n",
       "                }\n",
       "            </style>\n",
       "            "
      ],
      "text/plain": [
       "<IPython.core.display.HTML object>"
      ]
     },
     "metadata": {},
     "output_type": "display_data"
    }
   ],
   "source": [
    "# Convert the folium map as an image\n",
    "image = geemap.Map.to_image(S2_AC)"
   ]
  },
  {
   "cell_type": "code",
   "execution_count": 50,
   "id": "438ff094",
   "metadata": {
    "tags": []
   },
   "outputs": [
    {
     "data": {
      "text/html": [
       "\n",
       "            <style>\n",
       "                .geemap-dark {\n",
       "                    --jp-widgets-color: white;\n",
       "                    --jp-widgets-label-color: white;\n",
       "                    --jp-ui-font-color1: white;\n",
       "                    --jp-layout-color2: #454545;\n",
       "                    background-color: #383838;\n",
       "                }\n",
       "                    \n",
       "                .geemap-dark .jupyter-button {\n",
       "                    --jp-layout-color3: #383838;\n",
       "                }\n",
       "                \n",
       "                .geemap-colab {\n",
       "                    background-color: var(--colab-primary-surface-color, white);\n",
       "                }\n",
       "                    \n",
       "                .geemap-colab .jupyter-button {\n",
       "                    --jp-layout-color3: var(--colab-primary-surface-color, white);\n",
       "                }\n",
       "            </style>\n",
       "            "
      ],
      "text/plain": [
       "<IPython.core.display.HTML object>"
      ]
     },
     "metadata": {},
     "output_type": "display_data"
    }
   ],
   "source": [
    "dateString = scene_date.strftime(\"%Y-%m-%d\")\n",
    "# Export the clipped image to Google Drive as a GeoTIFF file\n",
    "export_params = {\n",
    "    'image': S2_TOA.select(['B11', 'B12']),\n",
    "    'description': 'Darwin_AC' +dateString,\n",
    "    'folder': 'WA_Methane',\n",
    "    'scale': 10,\n",
    "    'region': AOI,\n",
    "    'fileFormat': 'GeoTIFF',  # Specify the file format\n",
    "}\n",
    "\n",
    "# Export the image\n",
    "task = ee.batch.Export.image.toDrive(**export_params)\n",
    "task.start()"
   ]
  },
  {
   "cell_type": "code",
   "execution_count": 51,
   "id": "7db0cc2c-3928-4899-a5d6-92df25ef831b",
   "metadata": {},
   "outputs": [
    {
     "data": {
      "text/html": [
       "\n",
       "            <style>\n",
       "                .geemap-dark {\n",
       "                    --jp-widgets-color: white;\n",
       "                    --jp-widgets-label-color: white;\n",
       "                    --jp-ui-font-color1: white;\n",
       "                    --jp-layout-color2: #454545;\n",
       "                    background-color: #383838;\n",
       "                }\n",
       "                    \n",
       "                .geemap-dark .jupyter-button {\n",
       "                    --jp-layout-color3: #383838;\n",
       "                }\n",
       "                \n",
       "                .geemap-colab {\n",
       "                    background-color: var(--colab-primary-surface-color, white);\n",
       "                }\n",
       "                    \n",
       "                .geemap-colab .jupyter-button {\n",
       "                    --jp-layout-color3: var(--colab-primary-surface-color, white);\n",
       "                }\n",
       "            </style>\n",
       "            "
      ],
      "text/plain": [
       "<IPython.core.display.HTML object>"
      ]
     },
     "metadata": {},
     "output_type": "display_data"
    },
    {
     "name": "stdout",
     "output_type": "stream",
     "text": [
      "Task Status: {'state': 'RUNNING', 'description': 'Darwin_AC2023-10-26', 'creation_timestamp_ms': 1704734194293, 'update_timestamp_ms': 1704734202217, 'start_timestamp_ms': 1704734199633, 'task_type': 'EXPORT_IMAGE', 'attempt': 1, 'id': 'PNBR5Y64HAHNDUO7Z3XREP3O', 'name': 'projects/earthengine-legacy/operations/PNBR5Y64HAHNDUO7Z3XREP3O'}\n"
     ]
    }
   ],
   "source": [
    "# Print task status for debugging\n",
    "print(\"Task Status:\", task.status())"
   ]
  },
  {
   "cell_type": "markdown",
   "id": "340c46d1-41c6-46cf-a649-cf90796f7937",
   "metadata": {},
   "source": [
    "##### Export to GEE"
   ]
  },
  {
   "cell_type": "code",
   "execution_count": 52,
   "id": "f54a5082",
   "metadata": {},
   "outputs": [
    {
     "data": {
      "text/html": [
       "\n",
       "            <style>\n",
       "                .geemap-dark {\n",
       "                    --jp-widgets-color: white;\n",
       "                    --jp-widgets-label-color: white;\n",
       "                    --jp-ui-font-color1: white;\n",
       "                    --jp-layout-color2: #454545;\n",
       "                    background-color: #383838;\n",
       "                }\n",
       "                    \n",
       "                .geemap-dark .jupyter-button {\n",
       "                    --jp-layout-color3: #383838;\n",
       "                }\n",
       "                \n",
       "                .geemap-colab {\n",
       "                    background-color: var(--colab-primary-surface-color, white);\n",
       "                }\n",
       "                    \n",
       "                .geemap-colab .jupyter-button {\n",
       "                    --jp-layout-color3: var(--colab-primary-surface-color, white);\n",
       "                }\n",
       "            </style>\n",
       "            "
      ],
      "text/plain": [
       "<IPython.core.display.HTML object>"
      ]
     },
     "metadata": {},
     "output_type": "display_data"
    }
   ],
   "source": [
    "# # set some properties for export\n",
    "dateString = scene_date.strftime(\"%Y-%m-%d\")\n",
    "ref = ref.set({'satellite':'Sentinel 2',\n",
    "              'fileID':info['system:index'],\n",
    "              'date':dateString,\n",
    "              'aerosol_optical_thickness':aot,\n",
    "              'water_vapour':h2o,\n",
    "              'ozone':o3})"
   ]
  },
  {
   "cell_type": "code",
   "execution_count": 53,
   "id": "e2a6336a",
   "metadata": {},
   "outputs": [
    {
     "data": {
      "text/html": [
       "\n",
       "            <style>\n",
       "                .geemap-dark {\n",
       "                    --jp-widgets-color: white;\n",
       "                    --jp-widgets-label-color: white;\n",
       "                    --jp-ui-font-color1: white;\n",
       "                    --jp-layout-color2: #454545;\n",
       "                    background-color: #383838;\n",
       "                }\n",
       "                    \n",
       "                .geemap-dark .jupyter-button {\n",
       "                    --jp-layout-color3: #383838;\n",
       "                }\n",
       "                \n",
       "                .geemap-colab {\n",
       "                    background-color: var(--colab-primary-surface-color, white);\n",
       "                }\n",
       "                    \n",
       "                .geemap-colab .jupyter-button {\n",
       "                    --jp-layout-color3: var(--colab-primary-surface-color, white);\n",
       "                }\n",
       "            </style>\n",
       "            "
      ],
      "text/plain": [
       "<IPython.core.display.HTML object>"
      ]
     },
     "metadata": {},
     "output_type": "display_data"
    },
    {
     "name": "stdout",
     "output_type": "stream",
     "text": [
      "id users/Hareeshrao-LC60/Darwin_AC2023-10-26\n"
     ]
    }
   ],
   "source": [
    "# Define YOUR Google Earth Engine assetID\n",
    "# in my case it was something like this..\n",
    "assetID = 'users/Hareeshrao-LC60/Darwin_AC' +dateString\n",
    "print('id',assetID)"
   ]
  },
  {
   "cell_type": "code",
   "execution_count": 54,
   "id": "19db47a3",
   "metadata": {
    "tags": []
   },
   "outputs": [
    {
     "data": {
      "text/html": [
       "\n",
       "            <style>\n",
       "                .geemap-dark {\n",
       "                    --jp-widgets-color: white;\n",
       "                    --jp-widgets-label-color: white;\n",
       "                    --jp-ui-font-color1: white;\n",
       "                    --jp-layout-color2: #454545;\n",
       "                    background-color: #383838;\n",
       "                }\n",
       "                    \n",
       "                .geemap-dark .jupyter-button {\n",
       "                    --jp-layout-color3: #383838;\n",
       "                }\n",
       "                \n",
       "                .geemap-colab {\n",
       "                    background-color: var(--colab-primary-surface-color, white);\n",
       "                }\n",
       "                    \n",
       "                .geemap-colab .jupyter-button {\n",
       "                    --jp-layout-color3: var(--colab-primary-surface-color, white);\n",
       "                }\n",
       "            </style>\n",
       "            "
      ],
      "text/plain": [
       "<IPython.core.display.HTML object>"
      ]
     },
     "metadata": {},
     "output_type": "display_data"
    }
   ],
   "source": [
    "# Define the region using a polygon or coordinates\n",
    "region = ee.Geometry.Polygon(\n",
    "    [[\n",
    "        [114.954250, -21.665954],\n",
    "        [114.954250, -21.732942],\n",
    "        [115.049694, -21.732942],\n",
    "        [115.049694, -21.665954]\n",
    "    ]])\n",
    "\n",
    "# Export\n",
    "export = ee.batch.Export.image.toAsset(\\\n",
    "    image=ref,\n",
    "    description='sentinel2_atmcorr_export',\n",
    "    assetId = assetID,\n",
    "    region = AOI)\n",
    "\n",
    "# uncomment to run the export\n",
    "export.start()"
   ]
  },
  {
   "cell_type": "markdown",
   "id": "b69e8178-0dd6-41ef-b55d-2a3f4215e136",
   "metadata": {},
   "source": [
    "# **Calculate Methane Concentration**"
   ]
  },
  {
   "cell_type": "markdown",
   "id": "71d221c8-0076-4abb-9381-c189ea311632",
   "metadata": {},
   "source": [
    "##### Methane Band"
   ]
  },
  {
   "cell_type": "code",
   "execution_count": 55,
   "id": "4476d454",
   "metadata": {
    "tags": []
   },
   "outputs": [
    {
     "data": {
      "text/html": [
       "\n",
       "            <style>\n",
       "                .geemap-dark {\n",
       "                    --jp-widgets-color: white;\n",
       "                    --jp-widgets-label-color: white;\n",
       "                    --jp-ui-font-color1: white;\n",
       "                    --jp-layout-color2: #454545;\n",
       "                    background-color: #383838;\n",
       "                }\n",
       "                    \n",
       "                .geemap-dark .jupyter-button {\n",
       "                    --jp-layout-color3: #383838;\n",
       "                }\n",
       "                \n",
       "                .geemap-colab {\n",
       "                    background-color: var(--colab-primary-surface-color, white);\n",
       "                }\n",
       "                    \n",
       "                .geemap-colab .jupyter-button {\n",
       "                    --jp-layout-color3: var(--colab-primary-surface-color, white);\n",
       "                }\n",
       "            </style>\n",
       "            "
      ],
      "text/plain": [
       "<IPython.core.display.HTML object>"
      ]
     },
     "metadata": {},
     "output_type": "display_data"
    },
    {
     "data": {
      "application/vnd.jupyter.widget-view+json": {
       "model_id": "62d204c69bda4aefa8dd51c8bd440109",
       "version_major": 2,
       "version_minor": 0
      },
      "text/plain": [
       "Map(center=[-12.236992001490117, 131.3299936090307], controls=(WidgetControl(options=['position', 'transparent…"
      ]
     },
     "execution_count": 55,
     "metadata": {},
     "output_type": "execute_result"
    }
   ],
   "source": [
    "#import ee\n",
    "#import geemap\n",
    "#import folium\n",
    "\n",
    "\n",
    "# Function to mask clouds using the Sentinel-2 QA band\n",
    "\n",
    "# Function to calculate methane concentration from Sentinel-2 image\n",
    "def calculate_methane_concentration(image):\n",
    "    # Replace 'your_band_name' with the actual band containing atmospheric correction results\n",
    "    methane_band = image.select('B12')\n",
    "    # Specify the conversion factor if needed\n",
    "    # methane_concentration = methane_band.multiply(CONVERSION_FACTOR)\n",
    "    return methane_band\n",
    "\n",
    "# Replace 'your_sentinel_image' with the actual Sentinel image\n",
    "sentinel_image = ee.Image(S2_TOA)\n",
    "\n",
    "# Apply atmospheric correction if needed\n",
    "#atmospheric_corrected_image = sentinel_image.some_atmospheric_correction_function()\n",
    "\n",
    "# Mask clouds\n",
    "#masked_image = mask_clouds(atmospheric_corrected_image)\n",
    "\n",
    "# Calculate methane concentration\n",
    "methane_concentration_image = calculate_methane_concentration(sentinel_image)\n",
    "\n",
    "# Display the methane concentration on the Folium map\n",
    "Map = geemap.Map()\n",
    "Map.centerObject(methane_concentration_image, zoom=10)\n",
    "Map.addLayer(methane_concentration_image, {\n",
    "    'bands': ['B12'],\n",
    "    'min': 0,\n",
    "    'max': 200  # Adjust the min and max values as needed\n",
    "}, 'Methane Concentration')\n",
    "Map.addLayerControl()\n",
    "Map\n",
    "\n",
    "# You can now visualize the methane concentration on the Folium map and further analyze the data."
   ]
  },
  {
   "cell_type": "markdown",
   "id": "cef2e7d7-b318-4448-aaf0-aa29932a14d5",
   "metadata": {},
   "source": [
    "##### Methane Free Band"
   ]
  },
  {
   "cell_type": "code",
   "execution_count": 56,
   "id": "30b7416c",
   "metadata": {},
   "outputs": [
    {
     "data": {
      "text/html": [
       "\n",
       "            <style>\n",
       "                .geemap-dark {\n",
       "                    --jp-widgets-color: white;\n",
       "                    --jp-widgets-label-color: white;\n",
       "                    --jp-ui-font-color1: white;\n",
       "                    --jp-layout-color2: #454545;\n",
       "                    background-color: #383838;\n",
       "                }\n",
       "                    \n",
       "                .geemap-dark .jupyter-button {\n",
       "                    --jp-layout-color3: #383838;\n",
       "                }\n",
       "                \n",
       "                .geemap-colab {\n",
       "                    background-color: var(--colab-primary-surface-color, white);\n",
       "                }\n",
       "                    \n",
       "                .geemap-colab .jupyter-button {\n",
       "                    --jp-layout-color3: var(--colab-primary-surface-color, white);\n",
       "                }\n",
       "            </style>\n",
       "            "
      ],
      "text/plain": [
       "<IPython.core.display.HTML object>"
      ]
     },
     "metadata": {},
     "output_type": "display_data"
    },
    {
     "data": {
      "application/vnd.jupyter.widget-view+json": {
       "model_id": "22953f11afcf4e568e34005498a1ea5f",
       "version_major": 2,
       "version_minor": 0
      },
      "text/plain": [
       "Map(center=[-12.236992001490117, 131.3299936090307], controls=(WidgetControl(options=['position', 'transparent…"
      ]
     },
     "execution_count": 56,
     "metadata": {},
     "output_type": "execute_result"
    }
   ],
   "source": [
    "import ee\n",
    "import geemap\n",
    "import folium\n",
    "\n",
    "\n",
    "# Function to mask clouds using the Sentinel-2 QA band\n",
    "\n",
    "# Function to calculate methane concentration from Sentinel-2 image\n",
    "def calculate_methane_concentration(image):\n",
    "    # Replace 'your_band_name' with the actual band containing atmospheric correction results\n",
    "    methane_band = image.select('B8')\n",
    "    # Specify the conversion factor if needed\n",
    "    # methane_concentration = methane_band.multiply(CONVERSION_FACTOR)\n",
    "    return methane_band\n",
    "\n",
    "# Replace 'your_sentinel_image' with the actual Sentinel image\n",
    "sentinel_image = ee.Image(S2_TOA)\n",
    "\n",
    "# Apply atmospheric correction if needed\n",
    "#atmospheric_corrected_image = sentinel_image.some_atmospheric_correction_function()\n",
    "\n",
    "# Mask clouds\n",
    "#masked_image = mask_clouds(atmospheric_corrected_image)\n",
    "\n",
    "# Calculate methane concentration\n",
    "methane_concentration_image = calculate_methane_concentration(sentinel_image)\n",
    "\n",
    "# Display the methane concentration on the Folium map\n",
    "Map = geemap.Map()\n",
    "Map.centerObject(methane_concentration_image, zoom=10)\n",
    "Map.addLayer(methane_concentration_image, {\n",
    "    'bands': ['B8'],\n",
    "    'min': 0,\n",
    "    'max': 200  # Adjust the min and max values as needed\n",
    "}, 'Methane Concentration')\n",
    "Map.addLayerControl()\n",
    "Map\n",
    "\n",
    "# You can now visualize the methane concentration on the Folium map and further analyze the data."
   ]
  },
  {
   "cell_type": "code",
   "execution_count": 57,
   "id": "653e2532",
   "metadata": {},
   "outputs": [
    {
     "data": {
      "text/html": [
       "\n",
       "            <style>\n",
       "                .geemap-dark {\n",
       "                    --jp-widgets-color: white;\n",
       "                    --jp-widgets-label-color: white;\n",
       "                    --jp-ui-font-color1: white;\n",
       "                    --jp-layout-color2: #454545;\n",
       "                    background-color: #383838;\n",
       "                }\n",
       "                    \n",
       "                .geemap-dark .jupyter-button {\n",
       "                    --jp-layout-color3: #383838;\n",
       "                }\n",
       "                \n",
       "                .geemap-colab {\n",
       "                    background-color: var(--colab-primary-surface-color, white);\n",
       "                }\n",
       "                    \n",
       "                .geemap-colab .jupyter-button {\n",
       "                    --jp-layout-color3: var(--colab-primary-surface-color, white);\n",
       "                }\n",
       "            </style>\n",
       "            "
      ],
      "text/plain": [
       "<IPython.core.display.HTML object>"
      ]
     },
     "metadata": {},
     "output_type": "display_data"
    },
    {
     "data": {
      "text/html": [
       "<div><style>:root {\n",
       "  --font-color-primary: var(--jp-content-font-color0, rgba(0, 0, 0, 1));\n",
       "  --font-color-secondary: var(--jp-content-font-color2, rgba(0, 0, 0, 0.6));\n",
       "  --font-color-accent: rgba(123, 31, 162, 1);\n",
       "  --border-color: var(--jp-border-color2, #e0e0e0);\n",
       "  --background-color: var(--jp-layout-color0, white);\n",
       "  --background-color-row-even: var(--jp-layout-color1, white);\n",
       "  --background-color-row-odd: var(--jp-layout-color2, #eeeeee);\n",
       "}\n",
       "\n",
       "html[theme=\"dark\"],\n",
       "body[data-theme=\"dark\"],\n",
       "body.vscode-dark {\n",
       "  --font-color-primary: rgba(255, 255, 255, 1);\n",
       "  --font-color-secondary: rgba(255, 255, 255, 0.6);\n",
       "  --font-color-accent: rgb(173, 132, 190);\n",
       "  --border-color: #2e2e2e;\n",
       "  --background-color: #111111;\n",
       "  --background-color-row-even: #111111;\n",
       "  --background-color-row-odd: #313131;\n",
       "}\n",
       "\n",
       ".ee {\n",
       "  padding: 1em;\n",
       "  line-height: 1.5em;\n",
       "  min-width: 300px;\n",
       "  max-width: 1200px;\n",
       "  overflow-y: scroll;\n",
       "  max-height: 600px;\n",
       "  border: 1px solid var(--border-color);\n",
       "  font-family: monospace;\n",
       "}\n",
       "\n",
       ".ee li {\n",
       "  list-style-type: none;\n",
       "}\n",
       "\n",
       ".ee ul {\n",
       "  padding-left: 1.5em !important;\n",
       "  margin: 0;\n",
       "}\n",
       "\n",
       ".ee > ul {\n",
       "  padding-left: 0 !important;\n",
       "}\n",
       "\n",
       ".ee-open,\n",
       ".ee-shut {\n",
       "  color: var(--font-color-secondary);\n",
       "  cursor: pointer;\n",
       "  margin: 0;\n",
       "}\n",
       "\n",
       ".ee-open:hover,\n",
       ".ee-shut:hover {\n",
       "  color: var(--font-color-primary);\n",
       "}\n",
       "\n",
       ".ee-k {\n",
       "  color: var(--font-color-accent);\n",
       "  margin-right: 6px;\n",
       "}\n",
       "\n",
       ".ee-v {\n",
       "  color: var(--font-color-primary);\n",
       "}\n",
       "\n",
       ".ee-toggle {\n",
       "  display: none;\n",
       "}\n",
       "\n",
       ".ee-shut + ul {\n",
       "  display: none;\n",
       "}\n",
       "\n",
       ".ee-open + ul {\n",
       "  display: block;\n",
       "}\n",
       "\n",
       ".ee-shut::before {\n",
       "  display: inline-block;\n",
       "  content: \"▼\";\n",
       "  margin-right: 6px;\n",
       "  transform: rotate(-90deg);\n",
       "  transition: transform 0.2s;\n",
       "}\n",
       "\n",
       ".ee-open::before {\n",
       "  transform: rotate(0deg);\n",
       "  display: inline-block;\n",
       "  content: \"▼\";\n",
       "  margin-right: 6px;\n",
       "  transition: transform 0.2s;\n",
       "}\n",
       "</style><div class='ee'><ul><li><label class='ee-shut'>Image users/Hareeshrao-LC60/Darwin_AC2023-10-26 (3 bands)<input type='checkbox' class='ee-toggle'></label><ul><li><span class='ee-k'>type:</span><span class='ee-v'>Image</span></li><li><span class='ee-k'>id:</span><span class='ee-v'>users/Hareeshrao-LC60/Darwin_AC2023-10-26</span></li><li><span class='ee-k'>version:</span><span class='ee-v'>1704730521663330.0</span></li><li><label class='ee-shut'>bands: List (3 elements)<input type='checkbox' class='ee-toggle'></label><ul><li><label class='ee-shut'>0: \"B12\", double, EPSG:4326, 1x1 px<input type='checkbox' class='ee-toggle'></label><ul><li><span class='ee-k'>id:</span><span class='ee-v'>B12</span></li><li><span class='ee-k'>crs:</span><span class='ee-v'>EPSG:4326</span></li><li><label class='ee-shut'>crs_transform: [1, 0, 130, 0, 1, -13]<input type='checkbox' class='ee-toggle'></label><ul><li><span class='ee-k'>0:</span><span class='ee-v'>1</span></li><li><span class='ee-k'>1:</span><span class='ee-v'>0</span></li><li><span class='ee-k'>2:</span><span class='ee-v'>130</span></li><li><span class='ee-k'>3:</span><span class='ee-v'>0</span></li><li><span class='ee-k'>4:</span><span class='ee-v'>1</span></li><li><span class='ee-k'>5:</span><span class='ee-v'>-13</span></li></ul></li><li><label class='ee-shut'>data_type: double<input type='checkbox' class='ee-toggle'></label><ul><li><span class='ee-k'>type:</span><span class='ee-v'>PixelType</span></li><li><span class='ee-k'>precision:</span><span class='ee-v'>double</span></li></ul></li><li><label class='ee-shut'>dimensions: [1, 1]<input type='checkbox' class='ee-toggle'></label><ul><li><span class='ee-k'>0:</span><span class='ee-v'>1</span></li><li><span class='ee-k'>1:</span><span class='ee-v'>1</span></li></ul></li></ul></li><li><label class='ee-shut'>1: \"B11\", double, EPSG:4326, 1x1 px<input type='checkbox' class='ee-toggle'></label><ul><li><span class='ee-k'>id:</span><span class='ee-v'>B11</span></li><li><span class='ee-k'>crs:</span><span class='ee-v'>EPSG:4326</span></li><li><label class='ee-shut'>crs_transform: [1, 0, 130, 0, 1, -13]<input type='checkbox' class='ee-toggle'></label><ul><li><span class='ee-k'>0:</span><span class='ee-v'>1</span></li><li><span class='ee-k'>1:</span><span class='ee-v'>0</span></li><li><span class='ee-k'>2:</span><span class='ee-v'>130</span></li><li><span class='ee-k'>3:</span><span class='ee-v'>0</span></li><li><span class='ee-k'>4:</span><span class='ee-v'>1</span></li><li><span class='ee-k'>5:</span><span class='ee-v'>-13</span></li></ul></li><li><label class='ee-shut'>data_type: double<input type='checkbox' class='ee-toggle'></label><ul><li><span class='ee-k'>type:</span><span class='ee-v'>PixelType</span></li><li><span class='ee-k'>precision:</span><span class='ee-v'>double</span></li></ul></li><li><label class='ee-shut'>dimensions: [1, 1]<input type='checkbox' class='ee-toggle'></label><ul><li><span class='ee-k'>0:</span><span class='ee-v'>1</span></li><li><span class='ee-k'>1:</span><span class='ee-v'>1</span></li></ul></li></ul></li><li><label class='ee-shut'>2: \"B8\", double, EPSG:4326, 1x1 px<input type='checkbox' class='ee-toggle'></label><ul><li><span class='ee-k'>id:</span><span class='ee-v'>B8</span></li><li><span class='ee-k'>crs:</span><span class='ee-v'>EPSG:4326</span></li><li><label class='ee-shut'>crs_transform: [1, 0, 130, 0, 1, -13]<input type='checkbox' class='ee-toggle'></label><ul><li><span class='ee-k'>0:</span><span class='ee-v'>1</span></li><li><span class='ee-k'>1:</span><span class='ee-v'>0</span></li><li><span class='ee-k'>2:</span><span class='ee-v'>130</span></li><li><span class='ee-k'>3:</span><span class='ee-v'>0</span></li><li><span class='ee-k'>4:</span><span class='ee-v'>1</span></li><li><span class='ee-k'>5:</span><span class='ee-v'>-13</span></li></ul></li><li><label class='ee-shut'>data_type: double<input type='checkbox' class='ee-toggle'></label><ul><li><span class='ee-k'>type:</span><span class='ee-v'>PixelType</span></li><li><span class='ee-k'>precision:</span><span class='ee-v'>double</span></li></ul></li><li><label class='ee-shut'>dimensions: [1, 1]<input type='checkbox' class='ee-toggle'></label><ul><li><span class='ee-k'>0:</span><span class='ee-v'>1</span></li><li><span class='ee-k'>1:</span><span class='ee-v'>1</span></li></ul></li></ul></li></ul></li><li><label class='ee-shut'>properties: Object (8 properties)<input type='checkbox' class='ee-toggle'></label><ul><li><span class='ee-k'>aerosol_optical_thickness:</span><span class='ee-v'>0.218666672706604</span></li><li><span class='ee-k'>date:</span><span class='ee-v'>2023-10-26</span></li><li><span class='ee-k'>fileID:</span><span class='ee-v'>20231026T013659_20231026T013655_T52LGM</span></li><li><span class='ee-k'>ozone:</span><span class='ee-v'>0.2671672794117647</span></li><li><span class='ee-k'>satellite:</span><span class='ee-v'>Sentinel 2</span></li><li><span class='ee-k'>system:asset_size:</span><span class='ee-v'>33</span></li><li><label class='ee-shut'>system:footprint: LinearRing (6 vertices)<input type='checkbox' class='ee-toggle'></label><ul><li><span class='ee-k'>type:</span><span class='ee-v'>LinearRing</span></li><li><label class='ee-shut'>coordinates: List (6 elements)<input type='checkbox' class='ee-toggle'></label><ul><li><label class='ee-shut'>0: [130.50000002914385, -11.498250798997168]<input type='checkbox' class='ee-toggle'></label><ul><li><span class='ee-k'>0:</span><span class='ee-v'>130.50000002914385</span></li><li><span class='ee-k'>1:</span><span class='ee-v'>-11.498250798997168</span></li></ul></li><li><label class='ee-shut'>1: [129.4824729435192, -12.372877510608074]<input type='checkbox' class='ee-toggle'></label><ul><li><span class='ee-k'>0:</span><span class='ee-v'>129.4824729435192</span></li><li><span class='ee-k'>1:</span><span class='ee-v'>-12.372877510608074</span></li></ul></li><li><label class='ee-shut'>2: [130.24451042502466, -13.470321578507917]<input type='checkbox' class='ee-toggle'></label><ul><li><span class='ee-k'>0:</span><span class='ee-v'>130.24451042502466</span></li><li><span class='ee-k'>1:</span><span class='ee-v'>-13.470321578507917</span></li></ul></li><li><label class='ee-shut'>3: [131.45576611999738, -12.866131505608026]<input type='checkbox' class='ee-toggle'></label><ul><li><span class='ee-k'>0:</span><span class='ee-v'>131.45576611999738</span></li><li><span class='ee-k'>1:</span><span class='ee-v'>-12.866131505608026</span></li></ul></li><li><label class='ee-shut'>4: [130.99147248301537, -11.621076325416544]<input type='checkbox' class='ee-toggle'></label><ul><li><span class='ee-k'>0:</span><span class='ee-v'>130.99147248301537</span></li><li><span class='ee-k'>1:</span><span class='ee-v'>-11.621076325416544</span></li></ul></li><li><label class='ee-shut'>5: [130.50000002914385, -11.498250798997168]<input type='checkbox' class='ee-toggle'></label><ul><li><span class='ee-k'>0:</span><span class='ee-v'>130.50000002914385</span></li><li><span class='ee-k'>1:</span><span class='ee-v'>-11.498250798997168</span></li></ul></li></ul></li></ul></li><li><span class='ee-k'>water_vapour:</span><span class='ee-v'>4.040000152587891</span></li></ul></li></ul></li></ul></div><script>function toggleHeader() {\n",
       "    const parent = this.parentElement;\n",
       "    parent.className = parent.className === \"ee-open\" ? \"ee-shut\" : \"ee-open\";\n",
       "}\n",
       "\n",
       "for (let c of document.getElementsByClassName(\"ee-toggle\")) {\n",
       "    c.onclick = toggleHeader;\n",
       "}</script></div>"
      ],
      "text/plain": [
       "<ee.image.Image at 0x7f09b31a0710>"
      ]
     },
     "metadata": {},
     "output_type": "display_data"
    }
   ],
   "source": [
    "S2_AC_asset_id = 'users/Hareeshrao-LC60/Darwin_AC' +dateString\n",
    "S2_AC = ee.Image(S2_AC_asset_id)\n",
    "\n",
    "display(S2_AC)"
   ]
  },
  {
   "cell_type": "markdown",
   "id": "674e3845-dfe9-4ff7-b3e2-49f6d4fc3288",
   "metadata": {},
   "source": [
    "##### Without Scaling Factor"
   ]
  },
  {
   "cell_type": "code",
   "execution_count": 62,
   "id": "c6a8b676",
   "metadata": {
    "tags": []
   },
   "outputs": [
    {
     "data": {
      "text/html": [
       "\n",
       "            <style>\n",
       "                .geemap-dark {\n",
       "                    --jp-widgets-color: white;\n",
       "                    --jp-widgets-label-color: white;\n",
       "                    --jp-ui-font-color1: white;\n",
       "                    --jp-layout-color2: #454545;\n",
       "                    background-color: #383838;\n",
       "                }\n",
       "                    \n",
       "                .geemap-dark .jupyter-button {\n",
       "                    --jp-layout-color3: #383838;\n",
       "                }\n",
       "                \n",
       "                .geemap-colab {\n",
       "                    background-color: var(--colab-primary-surface-color, white);\n",
       "                }\n",
       "                    \n",
       "                .geemap-colab .jupyter-button {\n",
       "                    --jp-layout-color3: var(--colab-primary-surface-color, white);\n",
       "                }\n",
       "            </style>\n",
       "            "
      ],
      "text/plain": [
       "<IPython.core.display.HTML object>"
      ]
     },
     "metadata": {},
     "output_type": "display_data"
    },
    {
     "data": {
      "application/vnd.jupyter.widget-view+json": {
       "model_id": "2868771505624d34bf5315e2c66c0032",
       "version_major": 2,
       "version_minor": 0
      },
      "text/plain": [
       "Map(center=[-12.24597364329748, 131.34262325657022], controls=(WidgetControl(options=['position', 'transparent…"
      ]
     },
     "execution_count": 62,
     "metadata": {},
     "output_type": "execute_result"
    }
   ],
   "source": [
    "S2_MExC = ee.Image(S2_AC)\n",
    "# Function to calculate methane concentration from Sentinel-2 image\n",
    "def calculate_methane_enhancement(S2_MExC):\n",
    "    # Replace 'your_band_name' with the actual band containing atmospheric correction results\n",
    "    methane_band =S2_MExC.select('B12')\n",
    "    methane_free_band =S2_MExC.select('B11')\n",
    "                        \n",
    "    # Calculate the ratio of methane band to methane-free band\n",
    "    methane_ratio = methane_band.divide(methane_free_band)\n",
    "    \n",
    "    # Calculate methane enhancement\n",
    "    methane_enhancement = methane_ratio.subtract(1)\n",
    "    \n",
    "    return methane_enhancement\n",
    "    # Specify the conversion factor if needed\n",
    "    # methane_concentration = methane_band.multiply(CONVERSION_FACTOR)\n",
    "    return methane_band\n",
    "\n",
    "# Replace 'your_sentinel_image' with the actual Sentinel image\n",
    "#sentinel_image = ee.Image(S2_AC)\n",
    "\n",
    "# Apply atmospheric correction if needed\n",
    "# atmospheric_corrected_image = sentinel_image.some_atmospheric_correction_function() \n",
    "\n",
    "# Mask clouds\n",
    "#masked_image = mask_clouds(atmospheric_corrected_image)\n",
    "\n",
    "# Calculate methane enhancement\n",
    "methane_enhancement_image = calculate_methane_enhancement(sentinel_image)\n",
    "\n",
    "# Display the methane enhancement on the Folium map\n",
    "Map = geemap.Map()\n",
    "Map.centerObject(methane_enhancement_image, zoom=10)\n",
    "Map.addLayer(methane_enhancement_image, {\n",
    "    'min': 0.33,\n",
    "    'max': 0.7,\n",
    "    'palette': ['purple', 'white', 'red']  # Adjust the palette as needed\n",
    "}, 'Methane Enhancement')\n",
    "Map.addLayerControl()\n",
    "Map"
   ]
  },
  {
   "cell_type": "markdown",
   "id": "aaa84407-c732-40e5-a05c-95cbc8318a1f",
   "metadata": {
    "tags": []
   },
   "source": [
    "## **Median Filtering**"
   ]
  },
  {
   "cell_type": "markdown",
   "id": "397bf93d-529b-4c36-838d-0e50c81f571c",
   "metadata": {},
   "source": [
    "##### Median 1"
   ]
  },
  {
   "cell_type": "code",
   "execution_count": 63,
   "id": "06e35498-b389-48d8-8d50-09ad617cba0f",
   "metadata": {
    "tags": []
   },
   "outputs": [
    {
     "data": {
      "text/html": [
       "\n",
       "            <style>\n",
       "                .geemap-dark {\n",
       "                    --jp-widgets-color: white;\n",
       "                    --jp-widgets-label-color: white;\n",
       "                    --jp-ui-font-color1: white;\n",
       "                    --jp-layout-color2: #454545;\n",
       "                    background-color: #383838;\n",
       "                }\n",
       "                    \n",
       "                .geemap-dark .jupyter-button {\n",
       "                    --jp-layout-color3: #383838;\n",
       "                }\n",
       "                \n",
       "                .geemap-colab {\n",
       "                    background-color: var(--colab-primary-surface-color, white);\n",
       "                }\n",
       "                    \n",
       "                .geemap-colab .jupyter-button {\n",
       "                    --jp-layout-color3: var(--colab-primary-surface-color, white);\n",
       "                }\n",
       "            </style>\n",
       "            "
      ],
      "text/plain": [
       "<IPython.core.display.HTML object>"
      ]
     },
     "metadata": {},
     "output_type": "display_data"
    },
    {
     "data": {
      "application/vnd.jupyter.widget-view+json": {
       "model_id": "2868771505624d34bf5315e2c66c0032",
       "version_major": 2,
       "version_minor": 0
      },
      "text/plain": [
       "Map(bottom=140358.0, center=[-12.51915655292791, 130.9210566722477], controls=(WidgetControl(options=['positio…"
      ]
     },
     "execution_count": 63,
     "metadata": {},
     "output_type": "execute_result"
    }
   ],
   "source": [
    "# Initialize Google Earth Engine\n",
    "ee.Initialize()\n",
    "\n",
    "# Replace 'methane_band_name' and 'methane_free_band_name' with the actual band names\n",
    "methane_band_name = 'B12'\n",
    "methane_free_band_name = 'B11'\n",
    "\n",
    "# Load the atmospherically corrected Sentinel-2 image\n",
    "S2_MeF = ee.Image(S2_AC)  \n",
    "median_filtered_ee = S2_MeF.reduce(ee.Reducer.median())\n",
    "\n",
    "vis_param = {id: ['B11_median', 'B12_median', 'B8_median']}\n",
    "Map.setCenter(130.9210566722477, -12.51915655292791, 9) # 37.7924, -122.3355 -WA\n",
    "Map.addLayer(median_filtered_ee)\n",
    "Map"
   ]
  },
  {
   "cell_type": "code",
   "execution_count": null,
   "id": "40d45443-48cb-4e84-a348-970b9d24ad86",
   "metadata": {},
   "outputs": [],
   "source": [
    "median_filtered_ee.getInfo()"
   ]
  },
  {
   "cell_type": "markdown",
   "id": "ef1047cc-e491-480b-884b-7e782aa4f159",
   "metadata": {},
   "source": [
    "##### Median 2"
   ]
  },
  {
   "cell_type": "code",
   "execution_count": null,
   "id": "fa00aa02-cc0d-4bb5-a86c-e00de3d29f3b",
   "metadata": {
    "tags": []
   },
   "outputs": [],
   "source": [
    "import rasterio\n",
    "from rasterio.windows import Window\n",
    "import numpy as np\n",
    "from scipy.ndimage import median_filter\n",
    "\n",
    "def median_filter_band(input_path, band_number, window_size):\n",
    "    with rasterio.open(input_path, 'r+') as src:\n",
    "        profile = src.profile\n",
    "        width = src.width\n",
    "        height = src.height\n",
    "\n",
    "        band_data = src.read(band_number)\n",
    "\n",
    "        # Apply median filter\n",
    "        filtered_data = median_filter(band_data, size=window_size)\n",
    "\n",
    "        # Update profile for the output raster\n",
    "        profile.update(dtype=rasterio.float32, count=1)\n",
    "\n",
    "        # Write the filtered band back to the input raster\n",
    "        src.write(filtered_data.astype(rasterio.float32), band_number)\n",
    "        \n",
    "        return filtered_data\n",
    "\n",
    "\n",
    "if __name__ == \"__main__\":\n",
    "    # Specify input Sentinel-2 data path\n",
    "    input_path = \"/home/hareeshrao/Methane/Pictures/Darwin_AC\" +dateString + \".tif\"\n",
    "\n",
    "    # Band numbers for Sentinel-2: Band 11 and Band 12\n",
    "    band_number_11 = 2\n",
    "    band_number_12 = 1\n",
    "\n",
    "    # Window size for median filtering\n",
    "    window_size = (3, 3)  # Adjust as needed\n",
    "\n",
    "    # Perform median filtering for Band 11\n",
    "    median_B11 = median_filter_band(input_path,band_number_11, window_size)\n",
    "\n",
    "    # Perform median filtering for Band 12\n",
    "    median_B12 = median_filter_band(input_path, band_number_12, window_size)\n",
    "\n",
    "print(f\"Median Data (Band 11) Shape: {median_B11}\")\n",
    "print(f\"Median Data (Band 12) Shape: {median_B12}\")\n",
    "\n",
    "# Chevron // 26/10/23\n",
    "# Darwin // 26/10/23"
   ]
  },
  {
   "cell_type": "markdown",
   "id": "6c1b862c-3aa5-43ba-a8cd-789de06c003a",
   "metadata": {},
   "source": [
    "##### Median 3"
   ]
  },
  {
   "cell_type": "code",
   "execution_count": 60,
   "id": "eb9709e7-1564-49e2-9c82-7618f68a69dc",
   "metadata": {
    "tags": []
   },
   "outputs": [
    {
     "data": {
      "text/html": [
       "\n",
       "            <style>\n",
       "                .geemap-dark {\n",
       "                    --jp-widgets-color: white;\n",
       "                    --jp-widgets-label-color: white;\n",
       "                    --jp-ui-font-color1: white;\n",
       "                    --jp-layout-color2: #454545;\n",
       "                    background-color: #383838;\n",
       "                }\n",
       "                    \n",
       "                .geemap-dark .jupyter-button {\n",
       "                    --jp-layout-color3: #383838;\n",
       "                }\n",
       "                \n",
       "                .geemap-colab {\n",
       "                    background-color: var(--colab-primary-surface-color, white);\n",
       "                }\n",
       "                    \n",
       "                .geemap-colab .jupyter-button {\n",
       "                    --jp-layout-color3: var(--colab-primary-surface-color, white);\n",
       "                }\n",
       "            </style>\n",
       "            "
      ],
      "text/plain": [
       "<IPython.core.display.HTML object>"
      ]
     },
     "metadata": {},
     "output_type": "display_data"
    },
    {
     "ename": "ImportError",
     "evalue": "cannot import name 'Reduce' from 'ee' (/home/hareeshrao/anaconda3/envs/Methane_AC/lib/python3.11/site-packages/ee/__init__.py)",
     "output_type": "error",
     "traceback": [
      "\u001b[0;31m---------------------------------------------------------------------------\u001b[0m",
      "\u001b[0;31mImportError\u001b[0m                               Traceback (most recent call last)",
      "Cell \u001b[0;32mIn[60], line 2\u001b[0m\n\u001b[1;32m      1\u001b[0m \u001b[38;5;28;01mimport\u001b[39;00m \u001b[38;5;21;01mee\u001b[39;00m\n\u001b[0;32m----> 2\u001b[0m \u001b[38;5;28;01mfrom\u001b[39;00m \u001b[38;5;21;01mee\u001b[39;00m \u001b[38;5;28;01mimport\u001b[39;00m Reduce\n\u001b[1;32m      4\u001b[0m \u001b[38;5;66;03m# Load the S2_AC image\u001b[39;00m\n\u001b[1;32m      5\u001b[0m S2_AC \u001b[38;5;241m=\u001b[39m ee\u001b[38;5;241m.\u001b[39mImage(\u001b[38;5;124m\"\u001b[39m\u001b[38;5;124musers/Hareeshrao-LC60/Darwin_AC2023-10-26\u001b[39m\u001b[38;5;124m\"\u001b[39m)\n",
      "\u001b[0;31mImportError\u001b[0m: cannot import name 'Reduce' from 'ee' (/home/hareeshrao/anaconda3/envs/Methane_AC/lib/python3.11/site-packages/ee/__init__.py)"
     ]
    }
   ],
   "source": [
    "import ee\n",
    "from ee import Reduce\n",
    "\n",
    "# Load the S2_AC image\n",
    "S2_AC = ee.Image(\"users/Hareeshrao-LC60/Darwin_AC2023-10-26\")\n",
    "\n",
    "# 1. Median filtering on B11 and B12 in S2_AC\n",
    "b11_median = S2_AC.select('B11').reduceRegion(\n",
    "    reducer=Reduce.median(),\n",
    "    geometry=AOI,\n",
    "    scale=10\n",
    ")\n",
    "\n",
    "b12_median = S2_AC.select('B12').reduceRegion(\n",
    "    reducer=Reduce.median(),\n",
    "    geometry=AOI,\n",
    "    scale=10\n",
    ")\n",
    "\n",
    "# 2. Linear regression on the median filtered bands\n",
    "linear_regression_result = S2_AC.reduceRegion(\n",
    "    reducer=Reduce.linearRegression(),\n",
    "    geometry=AOI,\n",
    "    scale=10,\n",
    "    bestEffort=True\n",
    ")\n",
    "\n",
    "# Extract the coefficients for linear regression\n",
    "slope = ee.Number(linear_regression_result.get('coefficients').get('B11'))\n",
    "intercept = ee.Number(linear_regression_result.get('coefficients').get('constant'))\n",
    "\n",
    "# Define a linear regression function\n",
    "def linear_regression(band_values):\n",
    "    return band_values.multiply(slope).add(intercept)\n",
    "\n",
    "# Apply linear regression to the median filtered B11 values\n",
    "b11_regression = linear_regression(ee.Image.constant(b11_median.get('B11')))\n",
    "\n",
    "# Print the results\n",
    "print(\"Median Filtered B11:\", b11_median.getInfo())\n",
    "print(\"Median Filtered B12:\", b12_median.getInfo())\n",
    "print(\"Linear Regression Slope:\", slope.getInfo())\n",
    "print(\"Linear Regression Intercept:\", intercept.getInfo())\n",
    "\n",
    "# Display the results (if needed)\n",
    "# ...\n",
    "\n",
    "# Export the results (if needed)\n",
    "# ...\n"
   ]
  },
  {
   "cell_type": "markdown",
   "id": "6dd64a3e-6900-45b4-aa5d-8fcf0a9de9db",
   "metadata": {},
   "source": [
    "##### Median 4"
   ]
  },
  {
   "cell_type": "code",
   "execution_count": 68,
   "id": "bef15aef-3c0c-4b47-bf93-ad39cd7577e5",
   "metadata": {
    "tags": []
   },
   "outputs": [
    {
     "data": {
      "text/html": [
       "\n",
       "            <style>\n",
       "                .geemap-dark {\n",
       "                    --jp-widgets-color: white;\n",
       "                    --jp-widgets-label-color: white;\n",
       "                    --jp-ui-font-color1: white;\n",
       "                    --jp-layout-color2: #454545;\n",
       "                    background-color: #383838;\n",
       "                }\n",
       "                    \n",
       "                .geemap-dark .jupyter-button {\n",
       "                    --jp-layout-color3: #383838;\n",
       "                }\n",
       "                \n",
       "                .geemap-colab {\n",
       "                    background-color: var(--colab-primary-surface-color, white);\n",
       "                }\n",
       "                    \n",
       "                .geemap-colab .jupyter-button {\n",
       "                    --jp-layout-color3: var(--colab-primary-surface-color, white);\n",
       "                }\n",
       "            </style>\n",
       "            "
      ],
      "text/plain": [
       "<IPython.core.display.HTML object>"
      ]
     },
     "metadata": {},
     "output_type": "display_data"
    },
    {
     "ename": "ValueError",
     "evalue": "cannot reshape array of size 2 into shape (5,2,2)",
     "output_type": "error",
     "traceback": [
      "\u001b[0;31m---------------------------------------------------------------------------\u001b[0m",
      "\u001b[0;31mValueError\u001b[0m                                Traceback (most recent call last)",
      "Cell \u001b[0;32mIn[68], line 51\u001b[0m\n\u001b[1;32m     48\u001b[0m     Map\n\u001b[1;32m     50\u001b[0m \u001b[38;5;66;03m# Perform median filtering for specified bands\u001b[39;00m\n\u001b[0;32m---> 51\u001b[0m median_filtered_data4 \u001b[38;5;241m=\u001b[39m \u001b[43mmedian_filter_band\u001b[49m\u001b[43m(\u001b[49m\u001b[43mS2_MeF4\u001b[49m\u001b[43m,\u001b[49m\u001b[43m \u001b[49m\u001b[43mband_names\u001b[49m\u001b[43m,\u001b[49m\u001b[43m \u001b[49m\u001b[43mwindow_size\u001b[49m\u001b[43m)\u001b[49m\n\u001b[1;32m     53\u001b[0m \u001b[38;5;66;03m# Convert NumPy array to Python list before creating an Earth Engine Image object\u001b[39;00m\n\u001b[1;32m     54\u001b[0m median_filtered_list4 \u001b[38;5;241m=\u001b[39m median_filtered_data4\u001b[38;5;241m.\u001b[39mflatten()\u001b[38;5;241m.\u001b[39mtolist()\n",
      "Cell \u001b[0;32mIn[68], line 24\u001b[0m, in \u001b[0;36mmedian_filter_band\u001b[0;34m(image, band_names, window_size)\u001b[0m\n\u001b[1;32m     22\u001b[0m     num_rows \u001b[38;5;241m=\u001b[39m \u001b[38;5;28mlen\u001b[39m(image\u001b[38;5;241m.\u001b[39mgeometry()\u001b[38;5;241m.\u001b[39mbounds()\u001b[38;5;241m.\u001b[39mgetInfo()[\u001b[38;5;124m'\u001b[39m\u001b[38;5;124mcoordinates\u001b[39m\u001b[38;5;124m'\u001b[39m][\u001b[38;5;241m0\u001b[39m])\n\u001b[1;32m     23\u001b[0m     num_cols \u001b[38;5;241m=\u001b[39m \u001b[38;5;28mlen\u001b[39m(image\u001b[38;5;241m.\u001b[39mgeometry()\u001b[38;5;241m.\u001b[39mbounds()\u001b[38;5;241m.\u001b[39mgetInfo()[\u001b[38;5;124m'\u001b[39m\u001b[38;5;124mcoordinates\u001b[39m\u001b[38;5;124m'\u001b[39m][\u001b[38;5;241m0\u001b[39m][\u001b[38;5;241m0\u001b[39m])\n\u001b[0;32m---> 24\u001b[0m     band_array \u001b[38;5;241m=\u001b[39m \u001b[43mnp\u001b[49m\u001b[38;5;241;43m.\u001b[39;49m\u001b[43marray\u001b[49m\u001b[43m(\u001b[49m\u001b[43mband_values\u001b[49m\u001b[43m)\u001b[49m\u001b[38;5;241;43m.\u001b[39;49m\u001b[43mreshape\u001b[49m\u001b[43m(\u001b[49m\u001b[43m(\u001b[49m\u001b[43mnum_rows\u001b[49m\u001b[43m,\u001b[49m\u001b[43m \u001b[49m\u001b[43mnum_cols\u001b[49m\u001b[43m,\u001b[49m\u001b[43m \u001b[49m\u001b[38;5;28;43mlen\u001b[39;49m\u001b[43m(\u001b[49m\u001b[43mband_names\u001b[49m\u001b[43m)\u001b[49m\u001b[43m)\u001b[49m\u001b[43m)\u001b[49m\n\u001b[1;32m     26\u001b[0m \u001b[38;5;66;03m# Apply median filter to specified bands\u001b[39;00m\n\u001b[1;32m     27\u001b[0m filtered_data \u001b[38;5;241m=\u001b[39m median_filter(band_array, size\u001b[38;5;241m=\u001b[39m(window_size, window_size, \u001b[38;5;241m1\u001b[39m))\n",
      "\u001b[0;31mValueError\u001b[0m: cannot reshape array of size 2 into shape (5,2,2)"
     ]
    }
   ],
   "source": [
    "import numpy as np\n",
    "from scipy.ndimage import median_filter\n",
    "import geemap\n",
    "import ee\n",
    "\n",
    "def median_filter_band(image, band_names, window_size):\n",
    "    # Select the specified bands from the image\n",
    "    selected_bands = image.select(band_names)\n",
    "\n",
    "    # Convert the band data to a NumPy array\n",
    "    band_data = selected_bands.reduceRegion(ee.Reducer.mean(), geometry=image.geometry(), scale=10, crs='EPSG:4326', maxPixels= 1e11).getInfo()\n",
    "\n",
    "    # Extract band values from the dictionary\n",
    "    band_values = [band_data[band] for band in band_names]\n",
    "\n",
    "    # Check if the array is a single value\n",
    "    if all(isinstance(val, (int, float)) for val in band_values):\n",
    "        # If it's a single value, create a 2D array with that value\n",
    "        band_array = np.full((5, 2, len(band_names)), band_values)\n",
    "    else:\n",
    "        # Reshape the band data into a 2D array\n",
    "        num_rows = len(image.geometry().bounds().getInfo()['coordinates'][0])\n",
    "        num_cols = len(image.geometry().bounds().getInfo()['coordinates'][0][0])\n",
    "        band_array = np.array(band_values).reshape((num_rows, num_cols, len(band_names)))\n",
    "\n",
    "    # Apply median filter to specified bands\n",
    "    filtered_data = median_filter(band_array, size=(window_size, window_size, 1))\n",
    "\n",
    "    return filtered_data\n",
    "\n",
    "if __name__ == \"__main__\":\n",
    "    # Load the atmospherically corrected Sentinel-2 image\n",
    "    S2_MeF4 = ee.Image(S2_AC)\n",
    "\n",
    "    # Band names for Sentinel-2: Band 11 and Band 12\n",
    "    band_names = ['B11', 'B12']\n",
    "\n",
    "    # Window size for median filtering\n",
    "    window_size = 3  # Adjust as needed\n",
    "\n",
    "    # Visualize each band separately\n",
    "    for band_name in band_names:\n",
    "        band = S2_MeF4.select(band_name)\n",
    "        Map = geemap.Map()\n",
    "        Map.centerObject(S2_MeF4, zoom=12)\n",
    "        Map.addLayer(band, {}, f'{band_name} Visualization')  # Avoid specifying a palette\n",
    "        Map.addLayerControl()\n",
    "        Map\n",
    "\n",
    "    # Perform median filtering for specified bands\n",
    "    median_filtered_data4 = median_filter_band(S2_MeF4, band_names, window_size)\n",
    "\n",
    "    # Convert NumPy array to Python list before creating an Earth Engine Image object\n",
    "    median_filtered_list4 = median_filtered_data4.flatten().tolist()\n",
    "\n",
    "    # Create an Earth Engine Image object for the median-filtered bands\n",
    "    median_filtered_ee4 = ee.Image.constant(median_filtered_list4)\n",
    "\n",
    "# Display on a map\n",
    "#Map = geemap.Map()\n",
    "#Map.centerObject(S2_MeF, zoom=12)\n",
    "\n",
    "# Add a layer to the map for the median-filtered bands\n",
    "#Map.addLayer(median_filtered_ee, {}, 'Median Filtered Bands')  # Avoid specifying a palette\n",
    "\n",
    "# Add layer control panel to the map\n",
    "#Map.addLayerControl()\n",
    "\n",
    "# Display the map\n",
    "#Map\n",
    "\n",
    "# Chevron XX 26/10/23\n",
    "# Darwin XX 26/10/23 - same prob"
   ]
  },
  {
   "cell_type": "code",
   "execution_count": null,
   "id": "418700ad-9390-42dd-adda-adfaba60608d",
   "metadata": {},
   "outputs": [],
   "source": [
    "import rasterio\n",
    "import os\n",
    "import numpy as np\n",
    "from scipy.ndimage import median_filter\n",
    "\n",
    "def median_filter_bands(input_path, band_numbers, window_size):\n",
    "    with rasterio.open(input_path, 'r+') as src:\n",
    "        profile = src.profile\n",
    "        width = src.width\n",
    "        height = src.height\n",
    "\n",
    "        # Read bands\n",
    "        bands_data = [src.read(band) for band in band_numbers]\n",
    "\n",
    "        # Stack the bands along a new axis\n",
    "        stacked_bands = np.stack(bands_data, axis=-1)\n",
    "\n",
    "        # Apply median filter to both bands simultaneously\n",
    "        filtered_data = median_filter(stacked_bands, size=(window_size[0], window_size[1], 1))\n",
    "\n",
    "        # Update profile for the output raster\n",
    "        profile.update(dtype=rasterio.float32, count=len(band_numbers))\n",
    "\n",
    "        # Loop through each band and write it back to the raster\n",
    "        for band_number, band_data in zip(band_numbers, np.rollaxis(filtered_data, -1)):\n",
    "            src.write(band_data.astype(rasterio.float32), band_number)\n",
    "\n",
    "    print(f\"Saved Median Data as: {input_path}\")\n",
    "\n",
    "if __name__ == \"__main__\":\n",
    "    # Specify input Sentinel-2 data path\n",
    "    input_path = \"/home/hareeshrao/Methane/Pictures/Darwin_AC\" + dateString + \".tif\"\n",
    "\n",
    "    # Band numbers for Sentinel-2: Band 11 and Band 12\n",
    "    band_numbers = [2, 1]\n",
    "\n",
    "    # Window size for median filtering\n",
    "    window_size = (3, 3)  # Adjust as needed\n",
    "\n",
    "    # Perform median filtering for Bands 11 and 12 simultaneously\n",
    "    median_filter_bands(input_path, band_numbers, window_size)\n",
    "\n",
    "# Chevron // 26/10/23\n",
    "# Darwin // 26/10/23"
   ]
  },
  {
   "cell_type": "markdown",
   "id": "7a39dc96-464b-4f68-b76d-eba908b45663",
   "metadata": {},
   "source": [
    "## **Scaling Factor**"
   ]
  },
  {
   "cell_type": "code",
   "execution_count": 64,
   "id": "16b85724-cbf7-438e-822a-6346775e7d90",
   "metadata": {
    "collapsed": true,
    "jupyter": {
     "outputs_hidden": true
    },
    "tags": []
   },
   "outputs": [
    {
     "data": {
      "text/html": [
       "\n",
       "            <style>\n",
       "                .geemap-dark {\n",
       "                    --jp-widgets-color: white;\n",
       "                    --jp-widgets-label-color: white;\n",
       "                    --jp-ui-font-color1: white;\n",
       "                    --jp-layout-color2: #454545;\n",
       "                    background-color: #383838;\n",
       "                }\n",
       "                    \n",
       "                .geemap-dark .jupyter-button {\n",
       "                    --jp-layout-color3: #383838;\n",
       "                }\n",
       "                \n",
       "                .geemap-colab {\n",
       "                    background-color: var(--colab-primary-surface-color, white);\n",
       "                }\n",
       "                    \n",
       "                .geemap-colab .jupyter-button {\n",
       "                    --jp-layout-color3: var(--colab-primary-surface-color, white);\n",
       "                }\n",
       "            </style>\n",
       "            "
      ],
      "text/plain": [
       "<IPython.core.display.HTML object>"
      ]
     },
     "metadata": {},
     "output_type": "display_data"
    },
    {
     "ename": "NameError",
     "evalue": "name 'median_filter_band' is not defined",
     "output_type": "error",
     "traceback": [
      "\u001b[0;31m---------------------------------------------------------------------------\u001b[0m",
      "\u001b[0;31mNameError\u001b[0m                                 Traceback (most recent call last)",
      "Cell \u001b[0;32mIn[64], line 50\u001b[0m\n\u001b[1;32m     47\u001b[0m window_size \u001b[38;5;241m=\u001b[39m (\u001b[38;5;241m3\u001b[39m, \u001b[38;5;241m3\u001b[39m)  \u001b[38;5;66;03m# Adjust as needed\u001b[39;00m\n\u001b[1;32m     49\u001b[0m \u001b[38;5;66;03m# Perform median filtering for Band 11\u001b[39;00m\n\u001b[0;32m---> 50\u001b[0m median_B11 \u001b[38;5;241m=\u001b[39m \u001b[43mmedian_filter_band\u001b[49m(input_path, band_number_11, window_size)\n\u001b[1;32m     52\u001b[0m \u001b[38;5;66;03m# Perform median filtering for Band 12\u001b[39;00m\n\u001b[1;32m     53\u001b[0m median_B12 \u001b[38;5;241m=\u001b[39m median_filter_band(input_path, band_number_12, window_size)\n",
      "\u001b[0;31mNameError\u001b[0m: name 'median_filter_band' is not defined"
     ]
    }
   ],
   "source": [
    "import rasterio\n",
    "from rasterio.windows import Window\n",
    "import numpy as np\n",
    "from scipy.ndimage import median_filter\n",
    "from sklearn.linear_model import LinearRegression\n",
    "from sklearn.metrics import mean_squared_error\n",
    "import matplotlib.pyplot as plt\n",
    "\n",
    "def perform_linear_regression(x, y):\n",
    "    # Reshape the data for scikit-learn\n",
    "    x_reshaped = x.flatten().reshape((-1, 1))\n",
    "    y_reshaped = y.flatten()\n",
    "\n",
    "    # Initialize the linear regression model\n",
    "    model = LinearRegression()\n",
    "\n",
    "    # Fit the model to the data\n",
    "    model.fit(x_reshaped, y_reshaped)\n",
    "\n",
    "    # Make predictions\n",
    "    y_pred = model.predict(x_reshaped)\n",
    "\n",
    "    # Print the model coefficients\n",
    "    print(f'Linear Regression Coefficients: {model.coef_}')\n",
    "    print(f'Linear Regression Intercept: {model.intercept_}')\n",
    "\n",
    "    # Plot the regression line\n",
    "    plt.scatter(x.flatten(), y.flatten(), color='blue', label='Original data')\n",
    "    plt.plot(x.flatten(), y_pred, color='red', linewidth=2, label='Linear regression')\n",
    "    plt.xlabel('Band 11 Median Values')\n",
    "    plt.ylabel('Band 12 Median Values')\n",
    "    plt.legend()\n",
    "    plt.show()\n",
    "\n",
    "    # Return the predicted values\n",
    "    return y_pred\n",
    "\n",
    "if __name__ == \"__main__\":\n",
    "    # Specify input Sentinel-2 data path\n",
    "    input_path = \"/home/hareeshrao/Methane/Pictures/Darwin_AC\" + dateString + \".tif\"\n",
    "\n",
    "    # Band numbers for Sentinel-2: Band 11 and Band 12\n",
    "    band_number_11 = 2\n",
    "    band_number_12 = 1\n",
    "\n",
    "    # Window size for median filtering\n",
    "    window_size = (3, 3)  # Adjust as needed\n",
    "\n",
    "    # Perform median filtering for Band 11\n",
    "    median_B11 = median_filter_band(input_path, band_number_11, window_size)\n",
    "\n",
    "    # Perform median filtering for Band 12\n",
    "    median_B12 = median_filter_band(input_path, band_number_12, window_size)\n",
    "\n",
    "    # Perform linear regression\n",
    "    predicted_B12 = perform_linear_regression(median_B11, median_B12)\n",
    "\n",
    "    # Calculate mean squared error\n",
    "    mse = mean_squared_error(median_B12.flatten(), predicted_B12)\n",
    "    print(f'Mean Squared Error: {mse}')\n",
    "\n",
    "# Chevron XX 26/10/23\n",
    "# Darwin XX 26/10/23"
   ]
  },
  {
   "cell_type": "code",
   "execution_count": null,
   "id": "ca73d0db",
   "metadata": {
    "tags": []
   },
   "outputs": [],
   "source": [
    "#import ee\n",
    "import numpy as np\n",
    "from sklearn.linear_model import LinearRegression\n",
    "\n",
    "# Initialize Google Earth Engine\n",
    "ee.Initialize()\n",
    "\n",
    "# Replace 'methane_band_name' and 'methane_free_band_name' with the actual band names\n",
    "methane_band_name = 'B12'\n",
    "methane_free_band_name = 'B11'\n",
    "\n",
    "# Load the atmospherically corrected Sentinel-2 image\n",
    "S2_ME = ee.Image(S2_MeF)\n",
    "\n",
    "# Select the methane and methane-free bands\n",
    "methane_band = S2_ME.select(methane_band_name)\n",
    "methane_free_band = S2_ME.select(methane_free_band_name)\n",
    "\n",
    "# Get the data as NumPy arrays\n",
    "methane_data = np.array(methane_band.reduceRegion(reducer=ee.Reducer.toList(), geometry=S2_ME.geometry(), scale=10, maxPixels=1e9).get(methane_band_name).getInfo())\n",
    "methane_free_data = np.array(methane_free_band.reduceRegion(reducer=ee.Reducer.toList(), geometry=S2_ME.geometry(), scale=10, maxPixels=1e9).get(methane_free_band_name).getInfo())\n",
    "\n",
    "# Reshape the data for scikit-learn\n",
    "x = methane_free_data.reshape(-1, 1)\n",
    "y = methane_data\n",
    "\n",
    "# Fit a linear regression model\n",
    "model = LinearRegression().fit(x, y)\n",
    "\n",
    "# Extract the scaling factor 'c'\n",
    "#scaling_factor_c = model.coef_[0][0]\n",
    "r_sq = model.score(x, y)\n",
    "print(f\"coefficient of determination: {r_sq}\")\n",
    "print(f\"intercept: {model.intercept_}\")\n",
    "print(f\"Scaling Factor (c): {model.coef_}\")\n",
    "\n",
    "# Chevron XX 26/10/23\n",
    "# Darwin XX 26/10/23"
   ]
  },
  {
   "cell_type": "markdown",
   "id": "3d4e9cb0-13e0-461a-8ee9-1f368fee270f",
   "metadata": {},
   "source": [
    "##### Linear Regression"
   ]
  },
  {
   "cell_type": "code",
   "execution_count": null,
   "id": "9ab4ec93-8277-490a-adb5-a238f690dc3a",
   "metadata": {
    "tags": []
   },
   "outputs": [],
   "source": [
    "import numpy as np\n",
    "import matplotlib.pyplot as plt\n",
    "from sklearn.linear_model import LinearRegression\n",
    "import geemap\n",
    "\n",
    "def perform_linear_regression(image, band_x, band_y):\n",
    "    # Select the specified bands from the image\n",
    "    x_data = image.select(band_x).reduceRegion(ee.Reducer.toList(), geometry=image.geometry(), scale=10, maxPixels=1e9).get(band_x).getInfo()\n",
    "    y_data = image.select(band_y).reduceRegion(ee.Reducer.toList(), geometry=image.geometry(), scale=10, maxPixels=1e9).get(band_y).getInfo()\n",
    "\n",
    "    # Convert the data to NumPy arrays\n",
    "    x_data = np.array(x_data)\n",
    "    y_data = np.array(y_data)\n",
    "\n",
    "    # Flatten the data\n",
    "    x_data_flat = x_data.flatten()\n",
    "    y_data_flat = y_data.flatten()\n",
    "\n",
    "    # Plot the data points\n",
    "    plt.scatter(x_data_flat, y_data_flat, label='Sentinel-2 Data')\n",
    "\n",
    "    # Perform linear regression\n",
    "    model = LinearRegression()\n",
    "    x_data_flat = x_data_flat.reshape(-1, 1)\n",
    "    model.fit(x_data_flat, y_data_flat)\n",
    "\n",
    "    # Get the slope\n",
    "    slope = model.coef_[0]\n",
    "    intercept = model.intercept_\n",
    "\n",
    "    # Plot the regression line\n",
    "    plt.plot(x_data_flat, model.predict(x_data_flat), color='red', label=f'Regression Line (slope={slope:.2f})')\n",
    "\n",
    "    # Add labels and legend\n",
    "    plt.xlabel(f'Sentinel-2 {band_x} Reflectance')\n",
    "    plt.ylabel(f'Sentinel-2 {band_y} Reflectance')\n",
    "    plt.title('Linear Regression of Sentinel-2 Bands')\n",
    "    plt.legend()\n",
    "\n",
    "    # Show the plot\n",
    "    plt.show()\n",
    "\n",
    "    # Print the slope\n",
    "    print(f'Slope: {slope:.2f}')\n",
    "\n",
    "if __name__ == \"__main__\":\n",
    "    # Load the atmospherically corrected Sentinel-2 image\n",
    "    S2_SF = ee.Image(S2_MeF)\n",
    "\n",
    "    # Band names for Sentinel-2: Band 11 and Band 12\n",
    "    band_x = 'B11'\n",
    "    band_y = 'B12'\n",
    "\n",
    "    # Perform linear regression on the original data\n",
    "    band_regression = perform_linear_regression(S2_SF, band_x, band_y)\n",
    "\n",
    "# Chevron XX 26/10/23\n",
    "# Darwin XX 26/10/23 - same prob"
   ]
  },
  {
   "cell_type": "code",
   "execution_count": 65,
   "id": "448b8a17-017f-4560-afd3-94b997da360f",
   "metadata": {
    "tags": []
   },
   "outputs": [
    {
     "data": {
      "text/html": [
       "\n",
       "            <style>\n",
       "                .geemap-dark {\n",
       "                    --jp-widgets-color: white;\n",
       "                    --jp-widgets-label-color: white;\n",
       "                    --jp-ui-font-color1: white;\n",
       "                    --jp-layout-color2: #454545;\n",
       "                    background-color: #383838;\n",
       "                }\n",
       "                    \n",
       "                .geemap-dark .jupyter-button {\n",
       "                    --jp-layout-color3: #383838;\n",
       "                }\n",
       "                \n",
       "                .geemap-colab {\n",
       "                    background-color: var(--colab-primary-surface-color, white);\n",
       "                }\n",
       "                    \n",
       "                .geemap-colab .jupyter-button {\n",
       "                    --jp-layout-color3: var(--colab-primary-surface-color, white);\n",
       "                }\n",
       "            </style>\n",
       "            "
      ],
      "text/plain": [
       "<IPython.core.display.HTML object>"
      ]
     },
     "metadata": {},
     "output_type": "display_data"
    },
    {
     "data": {
      "image/png": "[encoded data removed]",
      "text/plain": [
       "<Figure size 640x480 with 1 Axes>"
      ]
     },
     "metadata": {},
     "output_type": "display_data"
    },
    {
     "name": "stdout",
     "output_type": "stream",
     "text": [
      "Slope: 0.84\n"
     ]
    }
   ],
   "source": [
    "import rasterio\n",
    "import numpy as np\n",
    "import matplotlib.pyplot as plt\n",
    "from sklearn.linear_model import LinearRegression\n",
    "\n",
    "def perform_linear_regression(x_band, y_band):\n",
    "    # Read the GeoTIFF file\n",
    "    with rasterio.open(\"/home/hareeshrao/Methane/Pictures/Darwin_AC\" + dateString + \".tif\", 'r') as src:\n",
    "        profile = src.profile\n",
    "        width = src.width\n",
    "        height = src.height\n",
    "\n",
    "        # Read bands\n",
    "        x_data = src.read(1)\n",
    "        y_data = src.read(2)\n",
    "\n",
    "        # Flatten the data\n",
    "        x_data_flat = x_data.flatten()\n",
    "        y_data_flat = y_data.flatten()\n",
    "\n",
    "        # Plot the data points\n",
    "        plt.scatter(x_data_flat, y_data_flat, label='Median Filtered Sentinel-2 Data')\n",
    "\n",
    "        # Perform linear regression\n",
    "        model = LinearRegression()\n",
    "        x_data_flat = x_data_flat.reshape(-1, 1)\n",
    "        model.fit(x_data_flat, y_data_flat)\n",
    "\n",
    "        # Get the slope\n",
    "        slope = model.coef_[0]\n",
    "        intercept = model.intercept_\n",
    "\n",
    "        # Plot the regression line\n",
    "        plt.plot(x_data_flat, model.predict(x_data_flat), color='red', label=f'Regression Line (slope={slope:.2f})')\n",
    "\n",
    "        # Add labels and legend\n",
    "        plt.xlabel(f'Median Filtered Sentinel-2 {x_band} Reflectance')\n",
    "        plt.ylabel(f'Median Filtered Sentinel-2 {y_band} Reflectance')\n",
    "        plt.title('Linear Regression of Median Filtered Sentinel-2 Bands')\n",
    "        plt.legend()\n",
    "\n",
    "        # Show the plot\n",
    "        plt.show()\n",
    "\n",
    "        # Print the slope\n",
    "        print(f'Slope: {slope:.2f}')\n",
    "\n",
    "if __name__ == \"__main__\":\n",
    "    # Specify the bands for linear regression\n",
    "    band_x = 'B11'\n",
    "    band_y = 'B12'\n",
    "\n",
    "    # Perform linear regression on the median-filtered data\n",
    "    perform_linear_regression(band_x, band_y)\n",
    "\n",
    "# Chevron // 26/10/23\n",
    "# Darwin // 26/10/23"
   ]
  },
  {
   "cell_type": "markdown",
   "id": "f17c5141-13b7-415c-a99e-1e07ac8cb3f6",
   "metadata": {
    "tags": []
   },
   "source": [
    "## **Calculate Enhancement**"
   ]
  },
  {
   "cell_type": "code",
   "execution_count": 67,
   "id": "357e6fdd",
   "metadata": {
    "tags": []
   },
   "outputs": [
    {
     "data": {
      "text/html": [
       "\n",
       "            <style>\n",
       "                .geemap-dark {\n",
       "                    --jp-widgets-color: white;\n",
       "                    --jp-widgets-label-color: white;\n",
       "                    --jp-ui-font-color1: white;\n",
       "                    --jp-layout-color2: #454545;\n",
       "                    background-color: #383838;\n",
       "                }\n",
       "                    \n",
       "                .geemap-dark .jupyter-button {\n",
       "                    --jp-layout-color3: #383838;\n",
       "                }\n",
       "                \n",
       "                .geemap-colab {\n",
       "                    background-color: var(--colab-primary-surface-color, white);\n",
       "                }\n",
       "                    \n",
       "                .geemap-colab .jupyter-button {\n",
       "                    --jp-layout-color3: var(--colab-primary-surface-color, white);\n",
       "                }\n",
       "            </style>\n",
       "            "
      ],
      "text/plain": [
       "<IPython.core.display.HTML object>"
      ]
     },
     "metadata": {},
     "output_type": "display_data"
    },
    {
     "data": {
      "application/vnd.jupyter.widget-view+json": {
       "model_id": "667f87903491403fb332267c96f9e843",
       "version_major": 2,
       "version_minor": 0
      },
      "text/plain": [
       "Map(center=[-12.472883164138935, 130.50711081587085], controls=(WidgetControl(options=['position', 'transparen…"
      ]
     },
     "metadata": {},
     "output_type": "display_data"
    }
   ],
   "source": [
    "import ee\n",
    "import folium\n",
    "import geemap\n",
    "\n",
    "# Initialize Google Earth Engine\n",
    "ee.Initialize()\n",
    "\n",
    "scaling_factor = 0.84\n",
    "# Replace 'methane_band_name' and 'methane_free_band_name' with the actual band names\n",
    "methane_band_name = 'B12'\n",
    "methane_free_band_name = 'B11'\n",
    "\n",
    "# Load the atmospherically corrected Sentinel-2 image\n",
    "S2_ME = ee.Image(S2_MeF)\n",
    "\n",
    "# Select the methane and methane-free bands\n",
    "methane_band = S2_ME.select(methane_band_name)\n",
    "methane_free_band = S2_ME.select(methane_free_band_name)\n",
    "\n",
    "methane_times = methane_band.multiply(scaling_factor)\n",
    "methane_ratio = methane_times.divide(methane_free_band)\n",
    "methane_subtract = methane_ratio.subtract(1)\n",
    "\n",
    "# Define a threshold for methane enhancement values\n",
    "threshold = 0.5  # Adjust the threshold value as needed\n",
    "\n",
    "# Create a mask for values above the threshold\n",
    "mask = methane_subtract.gt(threshold)\n",
    "\n",
    "# Display the Methane Enhancement on the Folium map\n",
    "Map = geemap.Map()\n",
    "Map.centerObject(S2_ME, zoom=12)\n",
    "\n",
    "# Add layers to the Folium map with a mask applied\n",
    "Map.add_ee_layer(methane_subtract.mask(mask), {\n",
    "    'min': 0.33,\n",
    "    'max': 0.6,  # Adjust the min and max values as needed\n",
    "    'palette': ['purple', 'white', 'red']\n",
    "}, 'High Methane Enhancement')\n",
    "\n",
    "# Add layer control panel to the map\n",
    "Map.addLayerControl()\n",
    "\n",
    "# Display the map\n",
    "display(Map)"
   ]
  },
  {
   "cell_type": "code",
   "execution_count": null,
   "id": "5ebdc0b0-7573-46ff-9282-9bc4fa55e4dd",
   "metadata": {
    "tags": []
   },
   "outputs": [],
   "source": [
    "import ee\n",
    "import geemap\n",
    "import rasterio\n",
    "import os\n",
    "import numpy as np\n",
    "from scipy.ndimage import median_filter\n",
    "\n",
    "# Function to perform median filtering on bands\n",
    "def median_filter_bands(input_path, output_path, band_numbers, window_size):\n",
    "    with rasterio.open(input_path, 'r+') as src:\n",
    "        profile = src.profile\n",
    "        width = src.width\n",
    "        height = src.height\n",
    "\n",
    "        # Read bands\n",
    "        bands_data = [src.read(band) for band in band_numbers]\n",
    "\n",
    "        # Stack the bands along a new axis\n",
    "        stacked_bands = np.stack(bands_data, axis=-1)\n",
    "\n",
    "        # Apply median filter to both bands simultaneously\n",
    "        filtered_data = median_filter(stacked_bands, size=(window_size[0], window_size[1], 1))\n",
    "\n",
    "        # Update profile for the output raster\n",
    "        profile.update(dtype=rasterio.float32, count=len(band_numbers))\n",
    "\n",
    "        # Save the filtered bands to a new GeoTIFF file\n",
    "        with rasterio.open(output_path, 'w', **profile) as dst:\n",
    "            for band_number, band_data in zip(band_numbers, np.rollaxis(filtered_data, -1)):\n",
    "                dst.write(band_data.astype(rasterio.float32), band_number)\n",
    "\n",
    "    print(f\"Saved Median Data as: {output_path}\")\n",
    "\n",
    "if __name__ == \"__main__\":\n",
    "    # Specify input Sentinel-2 data path\n",
    "    input_path = \"/home/hareeshrao/Methane/Pictures/Chevron_AC\" + dateString + \".tif\"\n",
    "\n",
    "    # Specify output path for the median-filtered bands\n",
    "    output_path = \"/home/hareeshrao/Methane/Pictures/Chevron_AC_median.tif\"\n",
    "\n",
    "    # Band numbers for Sentinel-2: Band 11 and Band 12\n",
    "    band_numbers = [2, 1]\n",
    "\n",
    "    # Window size for median filtering\n",
    "    window_size = (3, 3)  # Adjust as needed\n",
    "\n",
    "    # Perform median filtering for Bands 11 and 12 simultaneously and save to a new GeoTIFF file\n",
    "    median_filter_bands(input_path, output_path, band_numbers, window_size)\n",
    "\n",
    "    # Authenticate to Earth Engine\n",
    "    ee.Initialize()\n",
    "\n",
    "    # Upload the GeoTIFF file to Earth Engine\n",
    "    local_path = output_path\n",
    "    asset_id = \"users/your_username/path/Chevron_AC_median\"  # Update with your own path\n",
    "    task = ee.data.startIngestion(\n",
    "        \"create_upload_session\", \n",
    "        {\n",
    "            \"name\": asset_id,\n",
    "            \"bands\": [{'id': '1'}, {'id': '2'}, {'id': '3'}],  # Adjust as needed based on the number of bands\n",
    "            \"tilesets\": [{\"sources\": [{\"uris\": [local_path]}]}]\n",
    "        }\n",
    "    )\n",
    "\n",
    "    print(f\"Image upload task started: {asset_id}\")\n",
    "    print(\"You can check the task status in the Earth Engine Console.\")\n",
    "\n",
    "    # Load the median-filtered bands from Earth Engine using the asset ID\n",
    "    median_filtered_image = ee.Image(asset_id)\n",
    "\n",
    "    # Scaling factor\n",
    "    scaling_factor = 0.87\n",
    "\n",
    "    # Define band names for methane and methane-free bands\n",
    "    methane_band_name = 'B12'\n",
    "    methane_free_band_name = 'B11'\n",
    "\n",
    "    # Select the methane and methane-free bands from the median-filtered image\n",
    "    methane_band = median_filtered_image.select(methane_band_name)\n",
    "    methane_free_band = median_filtered_image.select(methane_free_band_name)\n",
    "\n",
    "    methane_times = methane_band.multiply(scaling_factor)\n",
    "    methane_ratio = methane_times.divide(methane_free_band)\n",
    "    methane_subtract = methane_ratio.subtract(1)\n",
    "\n",
    "# Define a threshold for methane enhancement values\n",
    "    threshold = 0.5  # Adjust the threshold value as needed\n",
    "\n",
    "# Create a mask for values above the threshold\n",
    "    mask = methane_subtract.gt(threshold)\n",
    "\n",
    "# Display the Methane Enhancement on the Folium map\n",
    "    Map = geemap.Map()\n",
    "    Map.centerObject(S2_ME, zoom=12)\n",
    "\n",
    "# Add layers to the Folium map with a mask applied\n",
    "    Map.add_ee_layer(methane_subtract.mask(mask), {\n",
    "        'min': 0.33,\n",
    "        'max': 0.6,  # Adjust the min and max values as needed\n",
    "        'palette': ['purple', 'white', 'red']\n",
    "    }, 'High Methane Enhancement')\n",
    "\n",
    "# Add layer control panel to the map\n",
    "    Map.addLayerControl()\n",
    "\n",
    "# Display the map\n",
    "    display(Map)\n"
   ]
  },
  {
   "cell_type": "markdown",
   "id": "63bd8cce-690c-4885-9188-45f9cd2a2228",
   "metadata": {},
   "source": [
    "##### Export pixel values"
   ]
  },
  {
   "cell_type": "code",
   "execution_count": null,
   "id": "e64c6891-f621-4e01-a74f-9f88ca40bd89",
   "metadata": {
    "tags": []
   },
   "outputs": [],
   "source": [
    "# make sure to choose the pixels first by clicking on the plotting icon and place markers \n",
    "out_dir = os.path.join(os.path.expanduser('~'), 'Methane/Pixels')\n",
    "out_csv = os.path.join(out_dir, 'points.csv')\n",
    "out_shp = os.path.join(out_dir, 'points.shp')\n",
    "\n",
    "Map.extract_values_to_points(out_shp)"
   ]
  },
  {
   "cell_type": "code",
   "execution_count": null,
   "id": "5c73ce8a-753c-49c9-ad0b-67bb08d3337c",
   "metadata": {},
   "outputs": [],
   "source": [
    "# To read shape file\n",
    "\n",
    "import geopandas as gpd\n",
    "\n",
    "# Specify the path to your shapefile (.shp) without the extension\n",
    "shapefile_path = '/home/hareeshrao/Methane/Pixels/points.shp'\n",
    "# Read the shapefile using geopandas\n",
    "gdf = gpd.read_file(shapefile_path)\n",
    "\n",
    "# Print the GeoDataFrame\n",
    "print(gdf)\n"
   ]
  },
  {
   "cell_type": "markdown",
   "id": "d7886419-2cad-4cb8-ae6a-97cb8e2f225e",
   "metadata": {},
   "source": [
    "# **Fractional Absorption Model**"
   ]
  },
  {
   "cell_type": "code",
   "execution_count": null,
   "id": "4207d504-36d6-41ee-8c03-debd1bcaa4a9",
   "metadata": {
    "tags": []
   },
   "outputs": [],
   "source": [
    "calculate something"
   ]
  },
  {
   "cell_type": "markdown",
   "id": "f132ac2c-deac-4c09-9d6c-eaaff5576865",
   "metadata": {},
   "source": [
    "## HITRAN"
   ]
  },
  {
   "cell_type": "code",
   "execution_count": null,
   "id": "09b0d2d5-58f7-4f86-983e-0f780e1581b2",
   "metadata": {
    "tags": []
   },
   "outputs": [],
   "source": [
    "from hapi import *\n",
    "import pylab\n",
    "import pandas"
   ]
  },
  {
   "cell_type": "code",
   "execution_count": null,
   "id": "ded68c7a-439a-45cd-abbc-a401858c0b66",
   "metadata": {
    "tags": []
   },
   "outputs": [],
   "source": [
    "data_CH4 = fetch_by_ids('CH4',[1,2], 4000, 6500)"
   ]
  },
  {
   "cell_type": "code",
   "execution_count": null,
   "id": "5c201c91-d3d7-47ed-a434-96e01f803388",
   "metadata": {
    "tags": []
   },
   "outputs": [],
   "source": [
    "# open/state the folder in your database\n",
    "db_begin('CH4')"
   ]
  },
  {
   "cell_type": "code",
   "execution_count": null,
   "id": "7a63c532-0354-4736-9a0e-0a4b79df7c92",
   "metadata": {
    "tags": []
   },
   "outputs": [],
   "source": [
    "# commit changes made to database & save it\n",
    "db_commit()"
   ]
  },
  {
   "cell_type": "code",
   "execution_count": null,
   "id": "8ab69bc9-af33-420f-ac0b-339b1d9a3e69",
   "metadata": {},
   "outputs": [],
   "source": [
    "describeTable('CH4')"
   ]
  },
  {
   "cell_type": "code",
   "execution_count": null,
   "id": "648cc53f-aebc-40b1-b066-47c59ffcc98b",
   "metadata": {
    "tags": []
   },
   "outputs": [],
   "source": [
    "# calculate absorption coefficient using Lorentz\n",
    "nu,coef_= absorptionCoefficient_Lorentz(SourceTables='CH4',HITRAN_units=False)\n",
    "print('nu,coef:',coef)"
   ]
  },
  {
   "cell_type": "code",
   "execution_count": null,
   "id": "23fc700c-14be-4d5d-b1d6-d2395657d3c7",
   "metadata": {},
   "outputs": [],
   "source": [
    "# calculate absorption coefficient using Voigt\n",
    "nu,coef = absorptionCoefficient_Voigt(((6,1),),'CH4',OmegaStep=0.01,HITRAN_units=False,GammaL='gamma_air')\n",
    "print('nu,coef:',coef)"
   ]
  },
  {
   "cell_type": "code",
   "execution_count": null,
   "id": "f42ab810-e86f-4bc2-9e93-b893104d3cc3",
   "metadata": {
    "tags": []
   },
   "outputs": [],
   "source": [
    "from pylab import plot\n",
    "plot(nu,coef)"
   ]
  },
  {
   "cell_type": "code",
   "execution_count": null,
   "id": "cf9003cc-f5f0-4f1e-9ce7-1d4511d6d7c0",
   "metadata": {},
   "outputs": [],
   "source": [
    "# calculate absorption spectrum\n",
    "nu,absorp = absorptionSpectrum(nu,coef)\n",
    "\n",
    "# calculate transmittance spectrum\n",
    "nu,trans = transmittanceSpectrum(nu,coef)\n",
    "\n",
    "# calculate radiance spectrum\n",
    "nu,radi = radianceSpectrum(nu,coef)"
   ]
  },
  {
   "cell_type": "code",
   "execution_count": null,
   "id": "c441ea9c-1c74-4ed6-aac6-72c74abd089b",
   "metadata": {},
   "outputs": [],
   "source": [
    "print('nu,absorp:',absorp)\n",
    "print('nu,trans:',trans)\n",
    "print('nu,radi:',radi)"
   ]
  },
  {
   "cell_type": "code",
   "execution_count": null,
   "id": "22a14d8e-161a-4871-9022-e76cee2bdac8",
   "metadata": {
    "tags": []
   },
   "outputs": [],
   "source": [
    "ISO_ID"
   ]
  },
  {
   "cell_type": "code",
   "execution_count": null,
   "id": "c2e6a7a3-ccfc-460a-92cc-8158722de8b3",
   "metadata": {},
   "outputs": [],
   "source": [
    "# natural abundance\n",
    "abundance(6, 1) # CH4"
   ]
  },
  {
   "cell_type": "code",
   "execution_count": null,
   "id": "95d72a75-6241-4eb6-9795-85b361a24cae",
   "metadata": {},
   "outputs": [],
   "source": [
    "# molecular mass\n",
    "molecularMass(6, 1)"
   ]
  },
  {
   "cell_type": "code",
   "execution_count": null,
   "id": "078659bf-d7e2-46a2-a5fa-942aca34574b",
   "metadata": {},
   "outputs": [],
   "source": [
    "# name of Hitran molecule\n",
    "moleculeName(6)"
   ]
  },
  {
   "cell_type": "code",
   "execution_count": null,
   "id": "fc075eb3-3f28-4d0d-9ada-9c5a961fb122",
   "metadata": {},
   "outputs": [],
   "source": [
    "# ISO name\n",
    "isotopologueName(6, 1)"
   ]
  },
  {
   "cell_type": "markdown",
   "id": "d4f3fc41-1f24-4146-9f5b-6a2c8efc36c0",
   "metadata": {},
   "source": [
    "##### Plotting Hitran"
   ]
  },
  {
   "cell_type": "code",
   "execution_count": null,
   "id": "19bb63f0-999e-4770-8499-006bcb07546d",
   "metadata": {},
   "outputs": [],
   "source": [
    "from hapi import *\n",
    "from pylab import show,plot,subplot,xlim,ylim,title,legend,xlabel,ylabel"
   ]
  },
  {
   "cell_type": "code",
   "execution_count": null,
   "id": "bb9e331c-a7bc-4053-bfdd-08bd9b889670",
   "metadata": {
    "tags": []
   },
   "outputs": [],
   "source": [
    "x,y = getStickXY('CH4')\n",
    "plot(x,y)"
   ]
  },
  {
   "cell_type": "code",
   "execution_count": null,
   "id": "ea4f4087-ee3d-4d6f-92f2-65f85ff9d11b",
   "metadata": {
    "tags": []
   },
   "outputs": [],
   "source": [
    "# Zooming in specific spectral region\n",
    "plot(x,y,'.'); xlim([4200,4300]); show()"
   ]
  },
  {
   "cell_type": "code",
   "execution_count": null,
   "id": "91471462-1f2b-4cec-a769-62a6b026ecc6",
   "metadata": {
    "tags": []
   },
   "outputs": [],
   "source": [
    "getHelp(PROFILE_VOIGT)"
   ]
  },
  {
   "cell_type": "code",
   "execution_count": null,
   "id": "c49d0248-bf7a-4e7a-8b5c-ac4caea81e85",
   "metadata": {
    "tags": []
   },
   "outputs": [],
   "source": [
    "getHelp(PROFILE_LORENTZ)"
   ]
  },
  {
   "cell_type": "code",
   "execution_count": null,
   "id": "8633831f-0db6-409d-8b32-5a3827c9e73c",
   "metadata": {},
   "outputs": [],
   "source": [
    "wn = arange(4100,4500,0.01) # get wavenumber range of interest\n",
    "voi = PROFILE_VOIGT(4300,0.1,0.3,0.002,wn)[0] # calc Voigt\n",
    "lor = PROFILE_LORENTZ(4300,0.3,0.002,wn) # calc Lorentz\n",
    "diff = voi-lor # calc difference\n",
    "subplot(2,1,1) # upper panel\n",
    "plt.plot(wn, voi, 'red', label='Voigt')\n",
    "plt.plot(wn, lor, 'blue', label='Lorentz')# plot both profiles\n",
    "legend(['Voigt','Lorentz']) # show legend\n",
    "title('Voigt and Lorentz profiles') # show title\n",
    "subplot(2,1,2) # lower panel\n",
    "plot(wn,diff) # plot difference\n",
    "title('Voigt-Lorentz residual') # show title\n",
    "show() # show all figures"
   ]
  },
  {
   "cell_type": "code",
   "execution_count": null,
   "id": "ef90c6b6-03d9-43e8-a989-f590b3b7e6da",
   "metadata": {},
   "outputs": [],
   "source": [
    "# Calculate Spectra\n",
    "from numpy import arange\n",
    "import math \n",
    "\n",
    "vc = \n",
    "\n",
    "# Calculate New\n",
    "c = 3.0e8\n",
    "T = 296\n",
    "m = 16.04\n",
    "k = 1.380649e-23\n",
    "Na = 6.02214129e23\n",
    "in_SQRT = 2*Na*k*T\n",
    "div_kTm = in_SQRT/m\n",
    "ln2 = math.log(2)\n",
    "times = ln2 * div_kTm\n",
    "SQRT = math.sqrt(times)\n",
    "GammaD = nu_center*SQRT\n",
    "#GammaD = nu_center*math.sqrt[math.log(2) * ((2*k*T)/(m))]\n",
    "print(\"GammaD:\", GammaD, \"cm-1\")"
   ]
  },
  {
   "cell_type": "code",
   "execution_count": null,
   "id": "03d2ac11-5a81-438f-8a63-170b230083c8",
   "metadata": {},
   "outputs": [],
   "source": [
    "w0 = 1000.\n",
    "GammaD = 0.005\n",
    "Gamma0 = 0.2\n",
    "Gamma2 = 0.01 * Gamma0\n",
    "Delta0 = 0.002\n",
    "Delta2 = 0.001 * Delta0\n",
    "nuVC = 0.2\n",
    "eta = 0.5\n",
    "Dw = 1.\n",
    "ww = arange(w0-Dw, w0+Dw, 0.01)  # GRID WITH THE STEP 0.01 \n",
    "l1 = PROFILE_HT(w0,GammaD,Gamma0,Gamma2,Delta0,Delta2,nuVC,eta,ww)[0]\n",
    "# now l1 contains values of HT profile calculates on the grid ww\n",
    "print(\"Value:\", l1)"
   ]
  },
  {
   "cell_type": "code",
   "execution_count": null,
   "id": "0fc82ebb-3fda-4cc5-acde-e3a976d01b52",
   "metadata": {
    "tags": []
   },
   "outputs": [],
   "source": [
    "getHelp(plotting)"
   ]
  },
  {
   "cell_type": "code",
   "execution_count": null,
   "id": "921eb27b-d8f8-4e96-ac86-d91a6753d375",
   "metadata": {
    "tags": []
   },
   "outputs": [],
   "source": [
    "select('CH4', ParameterNames=('nu', 'sw'), Conditions=('between','nu',6245,6250))"
   ]
  },
  {
   "cell_type": "code",
   "execution_count": null,
   "id": "30f5d90f-9146-4eda-ae6f-f271afd14fa1",
   "metadata": {
    "tags": []
   },
   "outputs": [],
   "source": [
    "Cond = ('AND',('BETWEEN','nu',1600,1605),('>=','sw',4.0e-30))\n",
    "select('CH4',Conditions=Cond, DestinationTableName='CH4_Hitran')"
   ]
  },
  {
   "cell_type": "code",
   "execution_count": null,
   "id": "00ccc905-4974-41d7-a83e-5d55b830d259",
   "metadata": {},
   "outputs": [],
   "source": [
    "#nu1 = getColumn('CH4','nu')\n",
    "nu2,sw2 = getColumns('CH4',['nu','sw'])"
   ]
  },
  {
   "cell_type": "code",
   "execution_count": null,
   "id": "5f15095c-133a-4ab6-af25-df91ff52e3f4",
   "metadata": {
    "tags": []
   },
   "outputs": [],
   "source": [
    "# SAVE FILE\n",
    "select('CH4',File='CH4_Hitran.txt')"
   ]
  },
  {
   "cell_type": "code",
   "execution_count": null,
   "id": "dec56bcf-ae7c-4295-8128-8c3aaec1ba70",
   "metadata": {
    "tags": []
   },
   "outputs": [],
   "source": [
    "import subprocess\n",
    "\n",
    "repository_url = \"https://github.com/jterwin/pytran.git\"\n",
    "local_directory = \"pytran\"  # or whatever director\"y name you prefer\n",
    "\n",
    "# Clone the repository\n",
    "subprocess.run([\"git\", \"clone\", repository_url, local_directory])\n"
   ]
  },
  {
   "cell_type": "markdown",
   "id": "e7617d99-c39b-47e8-a250-5ce7aa46f105",
   "metadata": {},
   "source": [
    "##### Test Hitran Module"
   ]
  },
  {
   "cell_type": "code",
   "execution_count": null,
   "id": "56c57a4e-4777-4466-a568-cc1850427783",
   "metadata": {},
   "outputs": [],
   "source": []
  },
  {
   "cell_type": "code",
   "execution_count": null,
   "id": "b3ad4123-00b0-4e37-8a8b-bf803dbf8e1f",
   "metadata": {},
   "outputs": [],
   "source": []
  }
 ],
 "metadata": {
  "kernelspec": {
   "display_name": "Python 3 (ipykernel)",
   "language": "python",
   "name": "python3"
  },
  "language_info": {
   "codemirror_mode": {
    "name": "ipython",
    "version": 3
   },
   "file_extension": ".py",
   "mimetype": "text/x-python",
   "name": "python",
   "nbconvert_exporter": "python",
   "pygments_lexer": "ipython3",
   "version": "3.11.7"
  }
 },
 "nbformat": 4,
 "nbformat_minor": 5
}
